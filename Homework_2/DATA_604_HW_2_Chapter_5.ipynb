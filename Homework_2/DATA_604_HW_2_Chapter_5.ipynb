{
  "cells": [
    {
      "cell_type": "markdown",
      "metadata": {
        "id": "view-in-github",
        "colab_type": "text"
      },
      "source": [
        "<a href=\"https://colab.research.google.com/github/st3vejobs/DATA-604/blob/homework/DATA_604_HW_2_Chapter_5.ipynb\" target=\"_parent\"><img src=\"https://colab.research.google.com/assets/colab-badge.svg\" alt=\"Open In Colab\"/></a>"
      ]
    },
    {
      "cell_type": "markdown",
      "id": "wicked-mozambique",
      "metadata": {
        "id": "wicked-mozambique"
      },
      "source": [
        "# World Population"
      ]
    },
    {
      "cell_type": "markdown",
      "id": "imported-table",
      "metadata": {
        "tags": [],
        "id": "imported-table"
      },
      "source": [
        "*Modeling and Simulation in Python*\n",
        "\n",
        "Copyright 2021 Allen Downey\n",
        "\n",
        "License: [Creative Commons Attribution-NonCommercial-ShareAlike 4.0 International](https://creativecommons.org/licenses/by-nc-sa/4.0/)"
      ]
    },
    {
      "cell_type": "code",
      "execution_count": 2,
      "id": "electoral-turkey",
      "metadata": {
        "tags": [],
        "id": "electoral-turkey",
        "colab": {
          "base_uri": "https://localhost:8080/"
        },
        "outputId": "29153c7f-968e-4e6e-a98e-9210468e2cfc"
      },
      "outputs": [
        {
          "output_type": "stream",
          "name": "stdout",
          "text": [
            "Looking in indexes: https://pypi.org/simple, https://us-python.pkg.dev/colab-wheels/public/simple/\n",
            "Collecting pint\n",
            "  Downloading Pint-0.18-py2.py3-none-any.whl (209 kB)\n",
            "\u001b[K     |████████████████████████████████| 209 kB 9.2 MB/s \n",
            "\u001b[?25hRequirement already satisfied: packaging in /usr/local/lib/python3.7/dist-packages (from pint) (21.3)\n",
            "Requirement already satisfied: importlib-metadata in /usr/local/lib/python3.7/dist-packages (from pint) (4.11.4)\n",
            "Requirement already satisfied: zipp>=0.5 in /usr/local/lib/python3.7/dist-packages (from importlib-metadata->pint) (3.8.0)\n",
            "Requirement already satisfied: typing-extensions>=3.6.4 in /usr/local/lib/python3.7/dist-packages (from importlib-metadata->pint) (4.2.0)\n",
            "Requirement already satisfied: pyparsing!=3.0.5,>=2.0.2 in /usr/local/lib/python3.7/dist-packages (from packaging->pint) (3.0.9)\n",
            "Installing collected packages: pint\n",
            "Successfully installed pint-0.18\n"
          ]
        }
      ],
      "source": [
        "# install Pint if necessary\n",
        "\n",
        "try:\n",
        "    import pint\n",
        "except ImportError:\n",
        "    !pip install pint"
      ]
    },
    {
      "cell_type": "code",
      "execution_count": 3,
      "id": "formal-context",
      "metadata": {
        "tags": [],
        "id": "formal-context",
        "colab": {
          "base_uri": "https://localhost:8080/"
        },
        "outputId": "c24da881-d62f-421e-848f-0b22a6831df3"
      },
      "outputs": [
        {
          "output_type": "stream",
          "name": "stdout",
          "text": [
            "Downloaded modsim.py\n"
          ]
        }
      ],
      "source": [
        "# download modsim.py if necessary\n",
        "\n",
        "from os.path import basename, exists\n",
        "\n",
        "def download(url):\n",
        "    filename = basename(url)\n",
        "    if not exists(filename):\n",
        "        from urllib.request import urlretrieve\n",
        "        local, _ = urlretrieve(url, filename)\n",
        "        print('Downloaded ' + local)\n",
        "    \n",
        "download('https://raw.githubusercontent.com/AllenDowney/' +\n",
        "         'ModSimPy/master/modsim.py')"
      ]
    },
    {
      "cell_type": "code",
      "execution_count": 4,
      "id": "progressive-typing",
      "metadata": {
        "tags": [],
        "id": "progressive-typing"
      },
      "outputs": [],
      "source": [
        "# import functions from modsim\n",
        "\n",
        "from modsim import *"
      ]
    },
    {
      "cell_type": "markdown",
      "id": "informal-contractor",
      "metadata": {
        "id": "informal-contractor"
      },
      "source": [
        "In 1968 Paul Erlich published *The Population Bomb*, in which he\n",
        "predicted that world population would grow quickly during the 1970s,\n",
        "that agricultural production could not keep up, and that mass starvation in the next two decades was inevitable (see\n",
        "<https://modsimpy.com/popbomb>). As someone who grew up during those\n",
        "decades, I am happy to report that those predictions were wrong.\n",
        "\n",
        "But world population growth is still a topic of concern, and it is an\n",
        "open question how many people the earth can sustain while maintaining\n",
        "and improving our quality of life.\n",
        "\n",
        "In this chapter and the next, we use tools from the previous chapters to model world population growth since 1950 and generate predictions for the next 50-100 years.\n",
        "For background on world population growth, watch this video from the\n",
        "American Museum of Natural History <https://modsimpy.com/human>."
      ]
    },
    {
      "cell_type": "markdown",
      "id": "plastic-trigger",
      "metadata": {
        "id": "plastic-trigger"
      },
      "source": [
        "This chapter is available as a Jupyter notebook where you can read the text, run the code, and work on the exercises. \n",
        "Click here to access the notebooks: <https://allendowney.github.io/ModSimPy/>."
      ]
    },
    {
      "cell_type": "markdown",
      "id": "dying-browse",
      "metadata": {
        "id": "dying-browse"
      },
      "source": [
        "## World Population Growth\n",
        "\n",
        "The Wikipedia article on world population contains tables with estimates of world population from prehistory to the present, and projections for the future (<https://modsimpy.com/worldpop>)."
      ]
    },
    {
      "cell_type": "markdown",
      "id": "continuing-cancellation",
      "metadata": {
        "tags": [],
        "id": "continuing-cancellation"
      },
      "source": [
        "The following cell downloads a copy of https://en.wikipedia.org/wiki/World_population_estimates"
      ]
    },
    {
      "cell_type": "code",
      "execution_count": 5,
      "id": "convenient-stroke",
      "metadata": {
        "tags": [],
        "id": "convenient-stroke",
        "colab": {
          "base_uri": "https://localhost:8080/"
        },
        "outputId": "cc6fb7fd-51f0-4e02-ef0f-e47edaa4ecbc"
      },
      "outputs": [
        {
          "output_type": "stream",
          "name": "stdout",
          "text": [
            "Downloaded World_population_estimates.html\n"
          ]
        }
      ],
      "source": [
        "download('https://raw.githubusercontent.com/AllenDowney/' +\n",
        "         'ModSimPy/master/data/World_population_estimates.html')"
      ]
    },
    {
      "cell_type": "markdown",
      "id": "acknowledged-bracelet",
      "metadata": {
        "id": "acknowledged-bracelet"
      },
      "source": [
        "To read this data, we will use the Pandas library, which provides functions for\n",
        "working with data. The function we'll use is `read_html`, which can read a web page and extract data from any tables it contains. Before we can use it, we have to import it."
      ]
    },
    {
      "cell_type": "code",
      "execution_count": 6,
      "id": "israeli-finding",
      "metadata": {
        "id": "israeli-finding"
      },
      "outputs": [],
      "source": [
        "from pandas import read_html"
      ]
    },
    {
      "cell_type": "markdown",
      "id": "regulation-parade",
      "metadata": {
        "id": "regulation-parade"
      },
      "source": [
        "Now we can use it like this:"
      ]
    },
    {
      "cell_type": "code",
      "execution_count": 7,
      "id": "instant-beverage",
      "metadata": {
        "id": "instant-beverage"
      },
      "outputs": [],
      "source": [
        "filename = 'World_population_estimates.html'\n",
        "tables = read_html(filename,\n",
        "                   header=0, \n",
        "                   index_col=0,\n",
        "                   decimal='M')"
      ]
    },
    {
      "cell_type": "markdown",
      "id": "dried-immunology",
      "metadata": {
        "id": "dried-immunology"
      },
      "source": [
        "The arguments are:\n",
        "\n",
        "-   `filename`: The name of the file (including the directory it's in)\n",
        "    as a string. This argument can also be a URL starting with `http`.\n",
        "\n",
        "-   `header`: Indicates which row of each table should be considered the\n",
        "    *header*, that is, the set of labels that identify the columns. In\n",
        "    this case it is the first row (numbered 0).\n",
        "\n",
        "-   `index_col`: Indicates which column of each table should be\n",
        "    considered the *index*, that is, the set of labels that identify\n",
        "    the rows. In this case it is the first column, which contains the\n",
        "    years.\n",
        "\n",
        "-   `decimal`: Normally this argument is used to indicate which\n",
        "    character should be considered a decimal point, because some\n",
        "    conventions use a period and some use a comma. In this case I am\n",
        "    abusing the feature by treating `M` as a decimal point, which allows\n",
        "    some of the estimates, which are expressed in millions, to be read\n",
        "    as numbers.\n",
        "\n",
        "The result, which is assigned to `tables`, is a sequence that contains\n",
        "one `DataFrame` for each table. A `DataFrame` is an object, defined by\n",
        "Pandas, that represents tabular data.\n",
        "\n",
        "To select a `DataFrame` from `tables`, we can use the bracket operator\n",
        "like this:"
      ]
    },
    {
      "cell_type": "code",
      "execution_count": 8,
      "id": "driving-wrapping",
      "metadata": {
        "id": "driving-wrapping"
      },
      "outputs": [],
      "source": [
        "table2 = tables[2]"
      ]
    },
    {
      "cell_type": "markdown",
      "id": "simplified-convert",
      "metadata": {
        "id": "simplified-convert"
      },
      "source": [
        "This line selects the third table (numbered 2), which contains\n",
        "population estimates from 1950 to 2016.\n",
        "\n",
        "We can use `head` to display the first few lines of the table."
      ]
    },
    {
      "cell_type": "code",
      "execution_count": 9,
      "id": "running-alcohol",
      "metadata": {
        "id": "running-alcohol",
        "colab": {
          "base_uri": "https://localhost:8080/",
          "height": 351
        },
        "outputId": "4be50884-383e-4413-c24b-226b471a05a5"
      },
      "outputs": [
        {
          "output_type": "execute_result",
          "data": {
            "text/plain": [
              "      United States Census Bureau (2017)[28]  \\\n",
              "Year                                           \n",
              "1950                              2557628654   \n",
              "1951                              2594939877   \n",
              "1952                              2636772306   \n",
              "1953                              2682053389   \n",
              "1954                              2730228104   \n",
              "\n",
              "      Population Reference Bureau (1973–2016)[15]  \\\n",
              "Year                                                \n",
              "1950                                 2.516000e+09   \n",
              "1951                                          NaN   \n",
              "1952                                          NaN   \n",
              "1953                                          NaN   \n",
              "1954                                          NaN   \n",
              "\n",
              "      United Nations Department of Economic and Social Affairs (2015)[16]  \\\n",
              "Year                                                                        \n",
              "1950                                       2.525149e+09                     \n",
              "1951                                       2.572851e+09                     \n",
              "1952                                       2.619292e+09                     \n",
              "1953                                       2.665865e+09                     \n",
              "1954                                       2.713172e+09                     \n",
              "\n",
              "      Maddison (2008)[17]  HYDE (2007)[24]  Tanton (1994)[18]  \\\n",
              "Year                                                            \n",
              "1950         2.544000e+09     2.527960e+09       2.400000e+09   \n",
              "1951         2.571663e+09              NaN                NaN   \n",
              "1952         2.617949e+09              NaN                NaN   \n",
              "1953         2.665959e+09              NaN                NaN   \n",
              "1954         2.716927e+09              NaN                NaN   \n",
              "\n",
              "      Biraben (1980)[19]  McEvedy & Jones (1978)[20]  Thomlinson (1975)[21]  \\\n",
              "Year                                                                          \n",
              "1950        2.527000e+09                2.500000e+09           2.400000e+09   \n",
              "1951                 NaN                         NaN                    NaN   \n",
              "1952                 NaN                         NaN                    NaN   \n",
              "1953                 NaN                         NaN                    NaN   \n",
              "1954                 NaN                         NaN                    NaN   \n",
              "\n",
              "     Durand (1974)[22]  Clark (1967)[23]  \n",
              "Year                                      \n",
              "1950               NaN      2.486000e+09  \n",
              "1951               NaN               NaN  \n",
              "1952               NaN               NaN  \n",
              "1953               NaN               NaN  \n",
              "1954               NaN               NaN  "
            ],
            "text/html": [
              "\n",
              "  <div id=\"df-3a6a141e-afbc-4b2e-9394-65e36c2cd50d\">\n",
              "    <div class=\"colab-df-container\">\n",
              "      <div>\n",
              "<style scoped>\n",
              "    .dataframe tbody tr th:only-of-type {\n",
              "        vertical-align: middle;\n",
              "    }\n",
              "\n",
              "    .dataframe tbody tr th {\n",
              "        vertical-align: top;\n",
              "    }\n",
              "\n",
              "    .dataframe thead th {\n",
              "        text-align: right;\n",
              "    }\n",
              "</style>\n",
              "<table border=\"1\" class=\"dataframe\">\n",
              "  <thead>\n",
              "    <tr style=\"text-align: right;\">\n",
              "      <th></th>\n",
              "      <th>United States Census Bureau (2017)[28]</th>\n",
              "      <th>Population Reference Bureau (1973–2016)[15]</th>\n",
              "      <th>United Nations Department of Economic and Social Affairs (2015)[16]</th>\n",
              "      <th>Maddison (2008)[17]</th>\n",
              "      <th>HYDE (2007)[24]</th>\n",
              "      <th>Tanton (1994)[18]</th>\n",
              "      <th>Biraben (1980)[19]</th>\n",
              "      <th>McEvedy &amp; Jones (1978)[20]</th>\n",
              "      <th>Thomlinson (1975)[21]</th>\n",
              "      <th>Durand (1974)[22]</th>\n",
              "      <th>Clark (1967)[23]</th>\n",
              "    </tr>\n",
              "    <tr>\n",
              "      <th>Year</th>\n",
              "      <th></th>\n",
              "      <th></th>\n",
              "      <th></th>\n",
              "      <th></th>\n",
              "      <th></th>\n",
              "      <th></th>\n",
              "      <th></th>\n",
              "      <th></th>\n",
              "      <th></th>\n",
              "      <th></th>\n",
              "      <th></th>\n",
              "    </tr>\n",
              "  </thead>\n",
              "  <tbody>\n",
              "    <tr>\n",
              "      <th>1950</th>\n",
              "      <td>2557628654</td>\n",
              "      <td>2.516000e+09</td>\n",
              "      <td>2.525149e+09</td>\n",
              "      <td>2.544000e+09</td>\n",
              "      <td>2.527960e+09</td>\n",
              "      <td>2.400000e+09</td>\n",
              "      <td>2.527000e+09</td>\n",
              "      <td>2.500000e+09</td>\n",
              "      <td>2.400000e+09</td>\n",
              "      <td>NaN</td>\n",
              "      <td>2.486000e+09</td>\n",
              "    </tr>\n",
              "    <tr>\n",
              "      <th>1951</th>\n",
              "      <td>2594939877</td>\n",
              "      <td>NaN</td>\n",
              "      <td>2.572851e+09</td>\n",
              "      <td>2.571663e+09</td>\n",
              "      <td>NaN</td>\n",
              "      <td>NaN</td>\n",
              "      <td>NaN</td>\n",
              "      <td>NaN</td>\n",
              "      <td>NaN</td>\n",
              "      <td>NaN</td>\n",
              "      <td>NaN</td>\n",
              "    </tr>\n",
              "    <tr>\n",
              "      <th>1952</th>\n",
              "      <td>2636772306</td>\n",
              "      <td>NaN</td>\n",
              "      <td>2.619292e+09</td>\n",
              "      <td>2.617949e+09</td>\n",
              "      <td>NaN</td>\n",
              "      <td>NaN</td>\n",
              "      <td>NaN</td>\n",
              "      <td>NaN</td>\n",
              "      <td>NaN</td>\n",
              "      <td>NaN</td>\n",
              "      <td>NaN</td>\n",
              "    </tr>\n",
              "    <tr>\n",
              "      <th>1953</th>\n",
              "      <td>2682053389</td>\n",
              "      <td>NaN</td>\n",
              "      <td>2.665865e+09</td>\n",
              "      <td>2.665959e+09</td>\n",
              "      <td>NaN</td>\n",
              "      <td>NaN</td>\n",
              "      <td>NaN</td>\n",
              "      <td>NaN</td>\n",
              "      <td>NaN</td>\n",
              "      <td>NaN</td>\n",
              "      <td>NaN</td>\n",
              "    </tr>\n",
              "    <tr>\n",
              "      <th>1954</th>\n",
              "      <td>2730228104</td>\n",
              "      <td>NaN</td>\n",
              "      <td>2.713172e+09</td>\n",
              "      <td>2.716927e+09</td>\n",
              "      <td>NaN</td>\n",
              "      <td>NaN</td>\n",
              "      <td>NaN</td>\n",
              "      <td>NaN</td>\n",
              "      <td>NaN</td>\n",
              "      <td>NaN</td>\n",
              "      <td>NaN</td>\n",
              "    </tr>\n",
              "  </tbody>\n",
              "</table>\n",
              "</div>\n",
              "      <button class=\"colab-df-convert\" onclick=\"convertToInteractive('df-3a6a141e-afbc-4b2e-9394-65e36c2cd50d')\"\n",
              "              title=\"Convert this dataframe to an interactive table.\"\n",
              "              style=\"display:none;\">\n",
              "        \n",
              "  <svg xmlns=\"http://www.w3.org/2000/svg\" height=\"24px\"viewBox=\"0 0 24 24\"\n",
              "       width=\"24px\">\n",
              "    <path d=\"M0 0h24v24H0V0z\" fill=\"none\"/>\n",
              "    <path d=\"M18.56 5.44l.94 2.06.94-2.06 2.06-.94-2.06-.94-.94-2.06-.94 2.06-2.06.94zm-11 1L8.5 8.5l.94-2.06 2.06-.94-2.06-.94L8.5 2.5l-.94 2.06-2.06.94zm10 10l.94 2.06.94-2.06 2.06-.94-2.06-.94-.94-2.06-.94 2.06-2.06.94z\"/><path d=\"M17.41 7.96l-1.37-1.37c-.4-.4-.92-.59-1.43-.59-.52 0-1.04.2-1.43.59L10.3 9.45l-7.72 7.72c-.78.78-.78 2.05 0 2.83L4 21.41c.39.39.9.59 1.41.59.51 0 1.02-.2 1.41-.59l7.78-7.78 2.81-2.81c.8-.78.8-2.07 0-2.86zM5.41 20L4 18.59l7.72-7.72 1.47 1.35L5.41 20z\"/>\n",
              "  </svg>\n",
              "      </button>\n",
              "      \n",
              "  <style>\n",
              "    .colab-df-container {\n",
              "      display:flex;\n",
              "      flex-wrap:wrap;\n",
              "      gap: 12px;\n",
              "    }\n",
              "\n",
              "    .colab-df-convert {\n",
              "      background-color: #E8F0FE;\n",
              "      border: none;\n",
              "      border-radius: 50%;\n",
              "      cursor: pointer;\n",
              "      display: none;\n",
              "      fill: #1967D2;\n",
              "      height: 32px;\n",
              "      padding: 0 0 0 0;\n",
              "      width: 32px;\n",
              "    }\n",
              "\n",
              "    .colab-df-convert:hover {\n",
              "      background-color: #E2EBFA;\n",
              "      box-shadow: 0px 1px 2px rgba(60, 64, 67, 0.3), 0px 1px 3px 1px rgba(60, 64, 67, 0.15);\n",
              "      fill: #174EA6;\n",
              "    }\n",
              "\n",
              "    [theme=dark] .colab-df-convert {\n",
              "      background-color: #3B4455;\n",
              "      fill: #D2E3FC;\n",
              "    }\n",
              "\n",
              "    [theme=dark] .colab-df-convert:hover {\n",
              "      background-color: #434B5C;\n",
              "      box-shadow: 0px 1px 3px 1px rgba(0, 0, 0, 0.15);\n",
              "      filter: drop-shadow(0px 1px 2px rgba(0, 0, 0, 0.3));\n",
              "      fill: #FFFFFF;\n",
              "    }\n",
              "  </style>\n",
              "\n",
              "      <script>\n",
              "        const buttonEl =\n",
              "          document.querySelector('#df-3a6a141e-afbc-4b2e-9394-65e36c2cd50d button.colab-df-convert');\n",
              "        buttonEl.style.display =\n",
              "          google.colab.kernel.accessAllowed ? 'block' : 'none';\n",
              "\n",
              "        async function convertToInteractive(key) {\n",
              "          const element = document.querySelector('#df-3a6a141e-afbc-4b2e-9394-65e36c2cd50d');\n",
              "          const dataTable =\n",
              "            await google.colab.kernel.invokeFunction('convertToInteractive',\n",
              "                                                     [key], {});\n",
              "          if (!dataTable) return;\n",
              "\n",
              "          const docLinkHtml = 'Like what you see? Visit the ' +\n",
              "            '<a target=\"_blank\" href=https://colab.research.google.com/notebooks/data_table.ipynb>data table notebook</a>'\n",
              "            + ' to learn more about interactive tables.';\n",
              "          element.innerHTML = '';\n",
              "          dataTable['output_type'] = 'display_data';\n",
              "          await google.colab.output.renderOutput(dataTable, element);\n",
              "          const docLink = document.createElement('div');\n",
              "          docLink.innerHTML = docLinkHtml;\n",
              "          element.appendChild(docLink);\n",
              "        }\n",
              "      </script>\n",
              "    </div>\n",
              "  </div>\n",
              "  "
            ]
          },
          "metadata": {},
          "execution_count": 9
        }
      ],
      "source": [
        "table2.head()"
      ]
    },
    {
      "cell_type": "markdown",
      "id": "valid-editing",
      "metadata": {
        "id": "valid-editing"
      },
      "source": [
        "The first column, which is labeled `Year`, is special.  It is the *index* for this `DataFrame`, which means it contains the labels for the rows.\n",
        "\n",
        "Some of the values use scientific notation; for example, `2.516000e+09` is shorthand for $2.516 \\cdot 10^9$ or 2.544 billion.\n",
        "\n",
        "`NaN` is a special value that indicates missing data."
      ]
    },
    {
      "cell_type": "markdown",
      "id": "plastic-senate",
      "metadata": {
        "id": "plastic-senate"
      },
      "source": [
        "The column labels are long strings, which makes them hard to work with.\n",
        "We can replace them with shorter strings like this:"
      ]
    },
    {
      "cell_type": "code",
      "execution_count": 10,
      "id": "engaging-regular",
      "metadata": {
        "id": "engaging-regular"
      },
      "outputs": [],
      "source": [
        "table2.columns = ['census', 'prb', 'un', 'maddison', \n",
        "                  'hyde', 'tanton', 'biraben', 'mj', \n",
        "                  'thomlinson', 'durand', 'clark']"
      ]
    },
    {
      "cell_type": "markdown",
      "id": "communist-crowd",
      "metadata": {
        "id": "communist-crowd"
      },
      "source": [
        "Now we can select a column from the `DataFrame` using the dot operator,\n",
        "like selecting a state variable from a `State` object.\n",
        "\n",
        "Here are the estimates from the United States Census Bureau:"
      ]
    },
    {
      "cell_type": "code",
      "execution_count": 11,
      "id": "amended-negative",
      "metadata": {
        "id": "amended-negative"
      },
      "outputs": [],
      "source": [
        "census = table2.census / 1e9"
      ]
    },
    {
      "cell_type": "markdown",
      "id": "absent-heart",
      "metadata": {
        "id": "absent-heart"
      },
      "source": [
        "The result is a Pandas `Series`, which is similar to the `TimeSeries` and `SweepSeries` objects we've been using.\n",
        "\n",
        "The number `1e9` is a shorter way to write `1000000000` or one billion.\n",
        "When we divide a `Series` by a number, it divides all of the elements of the `Series`.\n",
        "From here on, we'll express population estimates in terms of billions.\n",
        "\n",
        "We can use `tail` to see the last few elements of the `Series`:"
      ]
    },
    {
      "cell_type": "code",
      "execution_count": 12,
      "id": "graduate-specialist",
      "metadata": {
        "id": "graduate-specialist",
        "colab": {
          "base_uri": "https://localhost:8080/"
        },
        "outputId": "be6f1bbe-78b0-4d5b-f471-afe93aac45de"
      },
      "outputs": [
        {
          "output_type": "execute_result",
          "data": {
            "text/plain": [
              "Year\n",
              "2012    7.013871\n",
              "2013    7.092128\n",
              "2014    7.169968\n",
              "2015    7.247893\n",
              "2016    7.325997\n",
              "Name: census, dtype: float64"
            ]
          },
          "metadata": {},
          "execution_count": 12
        }
      ],
      "source": [
        "census.tail()"
      ]
    },
    {
      "cell_type": "markdown",
      "id": "brilliant-brook",
      "metadata": {
        "id": "brilliant-brook"
      },
      "source": [
        "The left column is the *index* of the `Series`; in this example it contains the dates.\n",
        "The right column contains the *values*, which are population estimates.\n",
        "In 2016 the world population was about 7.3 billion.\n",
        "\n",
        "Here are the estimates from the United Nations\n",
        "Department of Economic and Social Affairs (U.N. DESA):"
      ]
    },
    {
      "cell_type": "code",
      "execution_count": 13,
      "id": "linear-admission",
      "metadata": {
        "id": "linear-admission",
        "colab": {
          "base_uri": "https://localhost:8080/"
        },
        "outputId": "1d1947b6-f855-49d1-db17-0377b65f4cf1"
      },
      "outputs": [
        {
          "output_type": "execute_result",
          "data": {
            "text/plain": [
              "Year\n",
              "2012    7.080072\n",
              "2013    7.162119\n",
              "2014    7.243784\n",
              "2015    7.349472\n",
              "2016         NaN\n",
              "Name: un, dtype: float64"
            ]
          },
          "metadata": {},
          "execution_count": 13
        }
      ],
      "source": [
        "un = table2.un / 1e9\n",
        "un.tail()"
      ]
    },
    {
      "cell_type": "markdown",
      "id": "mental-sussex",
      "metadata": {
        "id": "mental-sussex"
      },
      "source": [
        "The most recent estimate we have from the U.N. is for 2015, so the value for 2016 is `NaN`.\n",
        "\n",
        "Now we can plot the estimates like this:"
      ]
    },
    {
      "cell_type": "code",
      "execution_count": 14,
      "id": "ordered-garage",
      "metadata": {
        "id": "ordered-garage"
      },
      "outputs": [],
      "source": [
        "def plot_estimates():\n",
        "    census.plot(style=':', label='US Census')\n",
        "    un.plot(style='--', label='UN DESA')\n",
        "    decorate(xlabel='Year', \n",
        "             ylabel='World population (billion)') "
      ]
    },
    {
      "cell_type": "markdown",
      "id": "invisible-mouse",
      "metadata": {
        "id": "invisible-mouse"
      },
      "source": [
        "The keyword argument `style=':'` specifies a dotted line; `style='--'` specifies a dashed line.\n",
        "The `label` argument provides the string that appears in the legend.\n",
        "\n",
        "And here's what it looks like."
      ]
    },
    {
      "cell_type": "code",
      "execution_count": 15,
      "id": "periodic-weekend",
      "metadata": {
        "id": "periodic-weekend",
        "colab": {
          "base_uri": "https://localhost:8080/",
          "height": 297
        },
        "outputId": "e9d7424d-e393-47d7-c704-6d09c3885e4b"
      },
      "outputs": [
        {
          "output_type": "display_data",
          "data": {
            "text/plain": [
              "<Figure size 432x288 with 1 Axes>"
            ],
            "image/png": "[encoded data removed]"
          },
          "metadata": {
            "needs_background": "light"
          }
        }
      ],
      "source": [
        "plot_estimates()\n",
        "decorate(title='World Population Estimates')"
      ]
    },
    {
      "cell_type": "markdown",
      "id": "labeled-magic",
      "metadata": {
        "id": "labeled-magic"
      },
      "source": [
        "The lines overlap almost completely, but the most recent estimates diverge slightly.\n",
        "In the next section, we'll quantify these differences."
      ]
    },
    {
      "cell_type": "markdown",
      "id": "tender-summer",
      "metadata": {
        "id": "tender-summer"
      },
      "source": [
        "## Absolute and Relative Errors\n",
        "\n",
        "Estimates of world population from the U.S. Census and the U.N. DESA differ slightly.\n",
        "One way to characterize this difference is *absolute error*, which is the absolute value of the difference between the estimates.\n",
        "\n",
        "To compute absolute errors, we can import `abs` from NumPy:"
      ]
    },
    {
      "cell_type": "code",
      "execution_count": 16,
      "id": "secondary-player",
      "metadata": {
        "id": "secondary-player"
      },
      "outputs": [],
      "source": [
        "from numpy import abs"
      ]
    },
    {
      "cell_type": "markdown",
      "id": "frozen-scotland",
      "metadata": {
        "id": "frozen-scotland"
      },
      "source": [
        "And use it like this:"
      ]
    },
    {
      "cell_type": "code",
      "execution_count": 17,
      "id": "caring-garlic",
      "metadata": {
        "id": "caring-garlic",
        "colab": {
          "base_uri": "https://localhost:8080/"
        },
        "outputId": "8eb5e68b-d480-4318-9d37-697d2db32ea9"
      },
      "outputs": [
        {
          "output_type": "execute_result",
          "data": {
            "text/plain": [
              "Year\n",
              "2012    0.066201\n",
              "2013    0.069991\n",
              "2014    0.073816\n",
              "2015    0.101579\n",
              "2016         NaN\n",
              "dtype: float64"
            ]
          },
          "metadata": {},
          "execution_count": 17
        }
      ],
      "source": [
        "abs_error = abs(un - census)\n",
        "abs_error.tail()"
      ]
    },
    {
      "cell_type": "markdown",
      "id": "bridal-extraction",
      "metadata": {
        "id": "bridal-extraction"
      },
      "source": [
        "When you subtract two `Series` objects, the result is a new `Series`.\n",
        "Because one of the estimates for 2016 is `NaN`, the result for 2016 is `NaN`.\n",
        "\n",
        "To summarize the results, we can compute the *mean absolute error*."
      ]
    },
    {
      "cell_type": "code",
      "execution_count": 18,
      "id": "corresponding-emerald",
      "metadata": {
        "id": "corresponding-emerald",
        "colab": {
          "base_uri": "https://localhost:8080/"
        },
        "outputId": "a79c802f-1215-45eb-fe82-bf62054a9d7a"
      },
      "outputs": [
        {
          "output_type": "execute_result",
          "data": {
            "text/plain": [
              "0.029034508242424265"
            ]
          },
          "metadata": {},
          "execution_count": 18
        }
      ],
      "source": [
        "from numpy import mean\n",
        "\n",
        "mean(abs_error)"
      ]
    },
    {
      "cell_type": "markdown",
      "id": "identical-archive",
      "metadata": {
        "id": "identical-archive"
      },
      "source": [
        "On average, the estimates differ by about 0.029 billion.\n",
        "But we can also use `max` to compute the maximum absolute error."
      ]
    },
    {
      "cell_type": "code",
      "execution_count": 19,
      "id": "headed-witch",
      "metadata": {
        "scrolled": true,
        "id": "headed-witch",
        "colab": {
          "base_uri": "https://localhost:8080/"
        },
        "outputId": "0de969b7-0654-448e-c078-71ffccd482a6"
      },
      "outputs": [
        {
          "output_type": "execute_result",
          "data": {
            "text/plain": [
              "0.10157921199999986"
            ]
          },
          "metadata": {},
          "execution_count": 19
        }
      ],
      "source": [
        "from numpy import max\n",
        "\n",
        "max(abs_error)"
      ]
    },
    {
      "cell_type": "markdown",
      "id": "composite-partnership",
      "metadata": {
        "id": "composite-partnership"
      },
      "source": [
        "In the worst case, they differ by about 0.1 billion.\n",
        "\n",
        "Now 0.1 billion is a lot of people, so that might sound like a serious discrepancy.\n",
        "But counting everyone is the world is hard, and we should not expect the estimates to be exact.\n",
        "\n",
        "Another way to quantify the magnitude of the difference is *relative error*, which is the size of the error divided by the estimates themselves."
      ]
    },
    {
      "cell_type": "code",
      "execution_count": 20,
      "id": "advisory-complex",
      "metadata": {
        "scrolled": true,
        "id": "advisory-complex",
        "colab": {
          "base_uri": "https://localhost:8080/"
        },
        "outputId": "99bcf39c-177e-4725-e947-f7644a3fad9c"
      },
      "outputs": [
        {
          "output_type": "execute_result",
          "data": {
            "text/plain": [
              "Year\n",
              "2012    0.943860\n",
              "2013    0.986888\n",
              "2014    1.029514\n",
              "2015    1.401500\n",
              "2016         NaN\n",
              "dtype: float64"
            ]
          },
          "metadata": {},
          "execution_count": 20
        }
      ],
      "source": [
        "rel_error = 100 * abs_error / census\n",
        "rel_error.tail()"
      ]
    },
    {
      "cell_type": "markdown",
      "id": "greater-register",
      "metadata": {
        "id": "greater-register"
      },
      "source": [
        "I multiplied by 100 so we can interpret the results as a percentage.  In 2015, the difference between the estimates is about 1.4%, and that happens to be the maximum.\n",
        "\n",
        "Again, we can summarize the results by computing the mean."
      ]
    },
    {
      "cell_type": "code",
      "execution_count": 21,
      "id": "frank-owner",
      "metadata": {
        "id": "frank-owner",
        "colab": {
          "base_uri": "https://localhost:8080/"
        },
        "outputId": "3a82ccee-f5aa-41df-cfc8-16b5e12b5671"
      },
      "outputs": [
        {
          "output_type": "execute_result",
          "data": {
            "text/plain": [
              "0.5946585816022846"
            ]
          },
          "metadata": {},
          "execution_count": 21
        }
      ],
      "source": [
        "mean(rel_error)"
      ]
    },
    {
      "cell_type": "markdown",
      "id": "peaceful-fleece",
      "metadata": {
        "id": "peaceful-fleece"
      },
      "source": [
        "The mean relative error is about 0.6%.\n",
        "So that's not bad.\n",
        "\n",
        "You might wonder why I divided by `census` rather than `un`.\n",
        "In general, if you think one estimate is better than the other, you put the better one in the denominator.\n",
        "In this case, I don't know which is better, so I put the smaller one in the denominator, which makes the computed errors a little bigger."
      ]
    },
    {
      "cell_type": "markdown",
      "id": "vietnamese-excuse",
      "metadata": {
        "id": "vietnamese-excuse"
      },
      "source": [
        "## Modeling Population Growth\n",
        "\n",
        "Suppose we want to predict world population growth over the next 50 or\n",
        "100 years. We can do that by developing a model that describes how\n",
        "populations grow, fitting the model to the data we have so far, and then using the model to generate predictions.\n",
        "\n",
        "In the next few sections I demonstrate this process starting with simple models and gradually improving them.\n",
        "\n",
        "Although there is some curvature in the plotted estimates, it looks like world population growth has been close to linear since 1960 or so. So we'll start with a model that has constant growth.\n",
        "\n",
        "To fit the model to the data, we'll compute the average annual growth\n",
        "from 1950 to 2016. Since the UN and Census data are so close, we'll use the Census data.\n",
        "\n",
        "We can select a value from a `Series` using the bracket operator:"
      ]
    },
    {
      "cell_type": "code",
      "execution_count": 22,
      "id": "undefined-sauce",
      "metadata": {
        "id": "undefined-sauce",
        "colab": {
          "base_uri": "https://localhost:8080/"
        },
        "outputId": "59c3233a-0efd-4534-c0ef-6494aa3591f5"
      },
      "outputs": [
        {
          "output_type": "execute_result",
          "data": {
            "text/plain": [
              "2.557628654"
            ]
          },
          "metadata": {},
          "execution_count": 22
        }
      ],
      "source": [
        "census[1950]"
      ]
    },
    {
      "cell_type": "markdown",
      "id": "precise-correlation",
      "metadata": {
        "id": "precise-correlation"
      },
      "source": [
        "So we can get the total growth during the interval like this:"
      ]
    },
    {
      "cell_type": "code",
      "execution_count": 23,
      "id": "postal-debate",
      "metadata": {
        "id": "postal-debate"
      },
      "outputs": [],
      "source": [
        "total_growth = census[2016] - census[1950]"
      ]
    },
    {
      "cell_type": "markdown",
      "id": "dutch-sample",
      "metadata": {
        "id": "dutch-sample"
      },
      "source": [
        "In this example, the labels 2016 and 1950 are part of the data, so it\n",
        "would be better not to make them part of the program. \n",
        "Putting values like these in the program is called *hard coding*; it is considered bad practice because if the data change in the future, we have to change the program (see <https://modsimpy.com/hardcode>).\n",
        "\n",
        "It would be better to get the labels from the `Series`.\n",
        "We can do that by selecting the index from `census` and then selecting the first element."
      ]
    },
    {
      "cell_type": "code",
      "execution_count": 24,
      "id": "functional-trick",
      "metadata": {
        "id": "functional-trick",
        "colab": {
          "base_uri": "https://localhost:8080/"
        },
        "outputId": "c85df052-a259-480c-9635-3f47f6ca55f4"
      },
      "outputs": [
        {
          "output_type": "execute_result",
          "data": {
            "text/plain": [
              "1950"
            ]
          },
          "metadata": {},
          "execution_count": 24
        }
      ],
      "source": [
        "t_0 = census.index[0]\n",
        "t_0"
      ]
    },
    {
      "cell_type": "markdown",
      "id": "empty-siemens",
      "metadata": {
        "id": "empty-siemens"
      },
      "source": [
        "So `t_0` is the label of the first element, which is 1950.\n",
        "We can get the label of the last element like this."
      ]
    },
    {
      "cell_type": "code",
      "execution_count": 25,
      "id": "acoustic-south",
      "metadata": {
        "id": "acoustic-south",
        "colab": {
          "base_uri": "https://localhost:8080/"
        },
        "outputId": "6f8185a5-fffe-445c-e94d-690f6ad5ee1c"
      },
      "outputs": [
        {
          "output_type": "execute_result",
          "data": {
            "text/plain": [
              "2016"
            ]
          },
          "metadata": {},
          "execution_count": 25
        }
      ],
      "source": [
        "t_end = census.index[-1]\n",
        "t_end"
      ]
    },
    {
      "cell_type": "markdown",
      "id": "express-metallic",
      "metadata": {
        "id": "express-metallic"
      },
      "source": [
        "The value `-1` indicates the last element; `-2` indicates the second to last element, and so on.\n",
        "\n",
        "The difference between `t_0` and `t_end` is the elapsed time between them."
      ]
    },
    {
      "cell_type": "code",
      "execution_count": 26,
      "id": "planned-remains",
      "metadata": {
        "id": "planned-remains",
        "colab": {
          "base_uri": "https://localhost:8080/"
        },
        "outputId": "f623a2e4-5d66-4a1e-81df-fb4d34d14e80"
      },
      "outputs": [
        {
          "output_type": "execute_result",
          "data": {
            "text/plain": [
              "66"
            ]
          },
          "metadata": {},
          "execution_count": 26
        }
      ],
      "source": [
        "elapsed_time = t_end - t_0\n",
        "elapsed_time"
      ]
    },
    {
      "cell_type": "markdown",
      "id": "bridal-royal",
      "metadata": {
        "id": "bridal-royal"
      },
      "source": [
        "Now we can use `t_0` and `t_end` to select the population at the beginning and end of the interval."
      ]
    },
    {
      "cell_type": "code",
      "execution_count": 27,
      "id": "quarterly-aggregate",
      "metadata": {
        "id": "quarterly-aggregate"
      },
      "outputs": [],
      "source": [
        "p_0 = census[t_0]\n",
        "p_end = census[t_end]"
      ]
    },
    {
      "cell_type": "markdown",
      "id": "driven-castle",
      "metadata": {
        "id": "driven-castle"
      },
      "source": [
        "And compute the total growth during the interval."
      ]
    },
    {
      "cell_type": "code",
      "execution_count": 28,
      "id": "prescription-optics",
      "metadata": {
        "id": "prescription-optics",
        "colab": {
          "base_uri": "https://localhost:8080/"
        },
        "outputId": "a626d9c4-6ad4-4241-f6bd-2236c7c663ff"
      },
      "outputs": [
        {
          "output_type": "execute_result",
          "data": {
            "text/plain": [
              "4.768368055"
            ]
          },
          "metadata": {},
          "execution_count": 28
        }
      ],
      "source": [
        "total_growth = p_end - p_0\n",
        "total_growth"
      ]
    },
    {
      "cell_type": "markdown",
      "id": "accepted-auditor",
      "metadata": {
        "id": "accepted-auditor"
      },
      "source": [
        "Finally, we can compute average annual growth."
      ]
    },
    {
      "cell_type": "code",
      "execution_count": 29,
      "id": "convertible-patch",
      "metadata": {
        "id": "convertible-patch",
        "colab": {
          "base_uri": "https://localhost:8080/"
        },
        "outputId": "c43f7ec8-dcf3-4353-d713-ff3a273de189"
      },
      "outputs": [
        {
          "output_type": "execute_result",
          "data": {
            "text/plain": [
              "0.07224800083333333"
            ]
          },
          "metadata": {},
          "execution_count": 29
        }
      ],
      "source": [
        "annual_growth = total_growth / elapsed_time\n",
        "annual_growth"
      ]
    },
    {
      "cell_type": "markdown",
      "id": "japanese-merit",
      "metadata": {
        "id": "japanese-merit"
      },
      "source": [
        "From 1950 to 2016, world population grew by about 0.07 billion people per year, on average.\n",
        "The next step is to use this estimate to simulate population growth."
      ]
    },
    {
      "cell_type": "markdown",
      "id": "public-verification",
      "metadata": {
        "id": "public-verification"
      },
      "source": [
        "## Simulating Population Growth\n",
        "\n",
        "Our simulation will start with the observed population in 1950, `p_0`,\n",
        "and add `annual_growth` each year. To store the results, we'll use a\n",
        "`TimeSeries` object:"
      ]
    },
    {
      "cell_type": "code",
      "execution_count": 30,
      "id": "duplicate-leave",
      "metadata": {
        "id": "duplicate-leave"
      },
      "outputs": [],
      "source": [
        "results = TimeSeries()"
      ]
    },
    {
      "cell_type": "markdown",
      "id": "expired-salmon",
      "metadata": {
        "id": "expired-salmon"
      },
      "source": [
        "In this example, I use the keyword arguments `time` and `quantity` to give names to the index and the values.\n",
        "These names don't affect the computation, but they appear when we display or plot the `TimeSeries`.\n",
        "\n",
        "We can set the first value in the new `TimeSeries` like this."
      ]
    },
    {
      "cell_type": "code",
      "execution_count": 31,
      "id": "convenient-thong",
      "metadata": {
        "id": "convenient-thong"
      },
      "outputs": [],
      "source": [
        "results[t_0] = p_0"
      ]
    },
    {
      "cell_type": "markdown",
      "id": "constant-casino",
      "metadata": {
        "id": "constant-casino"
      },
      "source": [
        "Here's what it looks like so far."
      ]
    },
    {
      "cell_type": "code",
      "execution_count": 32,
      "id": "israeli-surveillance",
      "metadata": {
        "id": "israeli-surveillance",
        "colab": {
          "base_uri": "https://localhost:8080/",
          "height": 0
        },
        "outputId": "b2dc9b27-ccdf-4397-c055-c0c0ac299ffc"
      },
      "outputs": [
        {
          "output_type": "execute_result",
          "data": {
            "text/plain": [
              "      Quantity\n",
              "Time          \n",
              "1950  2.557629"
            ],
            "text/html": [
              "\n",
              "  <div id=\"df-f6bb7b08-3a19-4145-9848-f4c892d77493\">\n",
              "    <div class=\"colab-df-container\">\n",
              "      <div>\n",
              "<style scoped>\n",
              "    .dataframe tbody tr th:only-of-type {\n",
              "        vertical-align: middle;\n",
              "    }\n",
              "\n",
              "    .dataframe tbody tr th {\n",
              "        vertical-align: top;\n",
              "    }\n",
              "\n",
              "    .dataframe thead th {\n",
              "        text-align: right;\n",
              "    }\n",
              "</style>\n",
              "<table border=\"1\" class=\"dataframe\">\n",
              "  <thead>\n",
              "    <tr style=\"text-align: right;\">\n",
              "      <th></th>\n",
              "      <th>Quantity</th>\n",
              "    </tr>\n",
              "    <tr>\n",
              "      <th>Time</th>\n",
              "      <th></th>\n",
              "    </tr>\n",
              "  </thead>\n",
              "  <tbody>\n",
              "    <tr>\n",
              "      <th>1950</th>\n",
              "      <td>2.557629</td>\n",
              "    </tr>\n",
              "  </tbody>\n",
              "</table>\n",
              "</div>\n",
              "      <button class=\"colab-df-convert\" onclick=\"convertToInteractive('df-f6bb7b08-3a19-4145-9848-f4c892d77493')\"\n",
              "              title=\"Convert this dataframe to an interactive table.\"\n",
              "              style=\"display:none;\">\n",
              "        \n",
              "  <svg xmlns=\"http://www.w3.org/2000/svg\" height=\"24px\"viewBox=\"0 0 24 24\"\n",
              "       width=\"24px\">\n",
              "    <path d=\"M0 0h24v24H0V0z\" fill=\"none\"/>\n",
              "    <path d=\"M18.56 5.44l.94 2.06.94-2.06 2.06-.94-2.06-.94-.94-2.06-.94 2.06-2.06.94zm-11 1L8.5 8.5l.94-2.06 2.06-.94-2.06-.94L8.5 2.5l-.94 2.06-2.06.94zm10 10l.94 2.06.94-2.06 2.06-.94-2.06-.94-.94-2.06-.94 2.06-2.06.94z\"/><path d=\"M17.41 7.96l-1.37-1.37c-.4-.4-.92-.59-1.43-.59-.52 0-1.04.2-1.43.59L10.3 9.45l-7.72 7.72c-.78.78-.78 2.05 0 2.83L4 21.41c.39.39.9.59 1.41.59.51 0 1.02-.2 1.41-.59l7.78-7.78 2.81-2.81c.8-.78.8-2.07 0-2.86zM5.41 20L4 18.59l7.72-7.72 1.47 1.35L5.41 20z\"/>\n",
              "  </svg>\n",
              "      </button>\n",
              "      \n",
              "  <style>\n",
              "    .colab-df-container {\n",
              "      display:flex;\n",
              "      flex-wrap:wrap;\n",
              "      gap: 12px;\n",
              "    }\n",
              "\n",
              "    .colab-df-convert {\n",
              "      background-color: #E8F0FE;\n",
              "      border: none;\n",
              "      border-radius: 50%;\n",
              "      cursor: pointer;\n",
              "      display: none;\n",
              "      fill: #1967D2;\n",
              "      height: 32px;\n",
              "      padding: 0 0 0 0;\n",
              "      width: 32px;\n",
              "    }\n",
              "\n",
              "    .colab-df-convert:hover {\n",
              "      background-color: #E2EBFA;\n",
              "      box-shadow: 0px 1px 2px rgba(60, 64, 67, 0.3), 0px 1px 3px 1px rgba(60, 64, 67, 0.15);\n",
              "      fill: #174EA6;\n",
              "    }\n",
              "\n",
              "    [theme=dark] .colab-df-convert {\n",
              "      background-color: #3B4455;\n",
              "      fill: #D2E3FC;\n",
              "    }\n",
              "\n",
              "    [theme=dark] .colab-df-convert:hover {\n",
              "      background-color: #434B5C;\n",
              "      box-shadow: 0px 1px 3px 1px rgba(0, 0, 0, 0.15);\n",
              "      filter: drop-shadow(0px 1px 2px rgba(0, 0, 0, 0.3));\n",
              "      fill: #FFFFFF;\n",
              "    }\n",
              "  </style>\n",
              "\n",
              "      <script>\n",
              "        const buttonEl =\n",
              "          document.querySelector('#df-f6bb7b08-3a19-4145-9848-f4c892d77493 button.colab-df-convert');\n",
              "        buttonEl.style.display =\n",
              "          google.colab.kernel.accessAllowed ? 'block' : 'none';\n",
              "\n",
              "        async function convertToInteractive(key) {\n",
              "          const element = document.querySelector('#df-f6bb7b08-3a19-4145-9848-f4c892d77493');\n",
              "          const dataTable =\n",
              "            await google.colab.kernel.invokeFunction('convertToInteractive',\n",
              "                                                     [key], {});\n",
              "          if (!dataTable) return;\n",
              "\n",
              "          const docLinkHtml = 'Like what you see? Visit the ' +\n",
              "            '<a target=\"_blank\" href=https://colab.research.google.com/notebooks/data_table.ipynb>data table notebook</a>'\n",
              "            + ' to learn more about interactive tables.';\n",
              "          element.innerHTML = '';\n",
              "          dataTable['output_type'] = 'display_data';\n",
              "          await google.colab.output.renderOutput(dataTable, element);\n",
              "          const docLink = document.createElement('div');\n",
              "          docLink.innerHTML = docLinkHtml;\n",
              "          element.appendChild(docLink);\n",
              "        }\n",
              "      </script>\n",
              "    </div>\n",
              "  </div>\n",
              "  "
            ]
          },
          "metadata": {},
          "execution_count": 32
        }
      ],
      "source": [
        "show(results)"
      ]
    },
    {
      "cell_type": "markdown",
      "id": "stretch-snapshot",
      "metadata": {
        "id": "stretch-snapshot"
      },
      "source": [
        "Now we set the rest of the values by simulating annual growth:"
      ]
    },
    {
      "cell_type": "code",
      "execution_count": 33,
      "id": "attended-morris",
      "metadata": {
        "id": "attended-morris"
      },
      "outputs": [],
      "source": [
        "for t in range(t_0, t_end):\n",
        "    results[t+1] = results[t] + annual_growth"
      ]
    },
    {
      "cell_type": "markdown",
      "id": "signed-colleague",
      "metadata": {
        "id": "signed-colleague"
      },
      "source": [
        "The values of `t` go from from `t_0` to `t_end`, including the first but not the last.\n",
        "\n",
        "Inside the loop, we compute the population for the next year by adding the population for the current year and `annual_growth`. \n",
        "\n",
        "The last time through the loop, the value of `t` is 2015, so the last label in `results` is 2016.\n",
        "\n",
        "Here's what the results look like, compared to the estimates."
      ]
    },
    {
      "cell_type": "code",
      "execution_count": 34,
      "id": "wrong-brooks",
      "metadata": {
        "id": "wrong-brooks",
        "colab": {
          "base_uri": "https://localhost:8080/",
          "height": 0
        },
        "outputId": "11f03656-f548-4ede-f901-236ab288ebbf"
      },
      "outputs": [
        {
          "output_type": "display_data",
          "data": {
            "text/plain": [
              "<Figure size 432x288 with 1 Axes>"
            ],
            "image/png": "[encoded data removed]"
          },
          "metadata": {
            "needs_background": "light"
          }
        }
      ],
      "source": [
        "results.plot(color='gray', label='model')\n",
        "plot_estimates()\n",
        "decorate(title='Constant Growth Model')"
      ]
    },
    {
      "cell_type": "markdown",
      "id": "automated-albany",
      "metadata": {
        "id": "automated-albany"
      },
      "source": [
        "From 1950 to 1990, the model does not fit the data particularly well, but after that, it's pretty good."
      ]
    },
    {
      "cell_type": "markdown",
      "id": "unnecessary-million",
      "metadata": {
        "id": "unnecessary-million"
      },
      "source": [
        "## Summary\n",
        "\n",
        "This chapter is a first step toward modeling changes in world population growth during the last 70 years.\n",
        "\n",
        "We used Pandas to read data from a web page and store the results in a `DataFrame`.\n",
        "From the `DataFrame` we selected two `Series` objects and used them to compute absolute and relative errors.\n",
        "\n",
        "Then we computed average population growth and used it to build a simple model with constant annual growth.\n",
        "The model fits recent data pretty well; nevertheless, there are two reasons we should be skeptical:\n",
        "\n",
        "* There is no obvious mechanism that could cause population growth to be constant from year to year. Changes in population are determined by the fraction of people who die and the fraction of people who give birth, so we expect them to depend on the current population.\n",
        "\n",
        "* According to this model, world population would keep growing at the same rate forever, and that does not seem reasonable.\n",
        "\n",
        "In the next chapter we'll consider other models that might fit the data better and make more credible predictions."
      ]
    },
    {
      "cell_type": "markdown",
      "id": "advanced-ivory",
      "metadata": {
        "id": "advanced-ivory"
      },
      "source": [
        "## Exercises"
      ]
    },
    {
      "cell_type": "markdown",
      "id": "hearing-today",
      "metadata": {
        "tags": [],
        "id": "hearing-today"
      },
      "source": [
        "Here's the code from this chapter all in one place."
      ]
    },
    {
      "cell_type": "code",
      "execution_count": 35,
      "id": "terminal-reynolds",
      "metadata": {
        "tags": [],
        "id": "terminal-reynolds"
      },
      "outputs": [],
      "source": [
        "t_0 = census.index[0]\n",
        "t_end = census.index[-1]\n",
        "elapsed_time = t_end - t_0\n",
        "\n",
        "p_0 = census[t_0]\n",
        "p_end = census[t_end]\n",
        "\n",
        "total_growth = p_end - p_0\n",
        "annual_growth = total_growth / elapsed_time\n",
        "\n",
        "results = TimeSeries()\n",
        "results[t_0] = p_0\n",
        "\n",
        "for t in range(t_0, t_end):\n",
        "    results[t+1] = results[t] + annual_growth"
      ]
    },
    {
      "cell_type": "code",
      "execution_count": 36,
      "id": "organizational-memphis",
      "metadata": {
        "tags": [],
        "id": "organizational-memphis",
        "colab": {
          "base_uri": "https://localhost:8080/",
          "height": 297
        },
        "outputId": "f55b1c7b-ed0c-49c3-b94d-4ea970566118"
      },
      "outputs": [
        {
          "output_type": "display_data",
          "data": {
            "text/plain": [
              "<Figure size 432x288 with 1 Axes>"
            ],
            "image/png": "[encoded data removed]"
          },
          "metadata": {
            "needs_background": "light"
          }
        }
      ],
      "source": [
        "results.plot(color='gray', label='model')\n",
        "plot_estimates()\n",
        "decorate(title='Constant Growth Model')"
      ]
    },
    {
      "cell_type": "markdown",
      "id": "ecological-welsh",
      "metadata": {
        "id": "ecological-welsh"
      },
      "source": [
        "### Exercise 1\n",
        "\n",
        "  Try fitting the model using data from 1970 to the present, and see if that does a better job.\n",
        "\n",
        "Suggestions: \n",
        "\n",
        "1. Define `t_1` to be 1970 and `p_1` to be the population in 1970.  Use `t_1` and `p_1` to compute annual growth, but use `t_0` and `p_0` to run the simulation. \n",
        "\n",
        "2. You might want to add a constant to the starting value to match the data better.\n",
        "\n",
        "\n",
        "#### Just need to modify the above code to fit the change in the defined starting population to the defined ending population."
      ]
    },
    {
      "cell_type": "code",
      "execution_count": 39,
      "id": "rising-anger",
      "metadata": {
        "id": "rising-anger"
      },
      "outputs": [],
      "source": [
        "t_0 = census.index[0]\n",
        "t_1 = 1970\n",
        "t_end = census.index[-1]\n",
        "elapsed_time = t_end - t_1\n",
        "\n",
        "p_0 = census[t_0]\n",
        "p_1 = census[t_1]\n",
        "p_end = census[t_end]\n",
        "\n",
        "total_growth = p_end - p_1\n",
        "annual_growth = total_growth / elapsed_time\n",
        "annual_growth\n",
        "\n",
        "\n",
        "results = TimeSeries()\n",
        "results[t_0] = p_0 - 0.45\n",
        "\n",
        "for t in range(t_0, t_end):\n",
        "    results[t+1] = results[t] + annual_growth"
      ]
    },
    {
      "cell_type": "code",
      "source": [
        "results.plot(color='blue', label='model')\n",
        "plot_estimates()\n",
        "decorate(title='Constant Growth Model, t1=1970')"
      ],
      "metadata": {
        "colab": {
          "base_uri": "https://localhost:8080/",
          "height": 297
        },
        "id": "RIblvdeIF5wx",
        "outputId": "68f6f26a-0723-447b-f604-c237dda05347"
      },
      "id": "RIblvdeIF5wx",
      "execution_count": 41,
      "outputs": [
        {
          "output_type": "display_data",
          "data": {
            "text/plain": [
              "<Figure size 432x288 with 1 Axes>"
            ],
            "image/png": "[encoded data removed]"
          },
          "metadata": {
            "needs_background": "light"
          }
        }
      ]
    },
    {
      "cell_type": "markdown",
      "source": [
        "That's a nice fit."
      ],
      "metadata": {
        "id": "HdP06Pr4LQru"
      },
      "id": "HdP06Pr4LQru"
    }
  ],
  "metadata": {
    "celltoolbar": "Tags",
    "kernelspec": {
      "display_name": "Python 3 (ipykernel)",
      "language": "python",
      "name": "python3"
    },
    "language_info": {
      "codemirror_mode": {
        "name": "ipython",
        "version": 3
      },
      "file_extension": ".py",
      "mimetype": "text/x-python",
      "name": "python",
      "nbconvert_exporter": "python",
      "pygments_lexer": "ipython3",
      "version": "3.7.12"
    },
    "colab": {
      "name": "DATA 604 HW 2 Chapter 5.ipynb",
      "provenance": [],
      "collapsed_sections": [
        "tender-summer",
        "vietnamese-excuse",
        "public-verification",
        "unnecessary-million"
      ],
      "include_colab_link": true
    }
  },
  "nbformat": 4,
  "nbformat_minor": 5
}
