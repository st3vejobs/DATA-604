{
  "cells": [
    {
      "cell_type": "markdown",
      "metadata": {
        "id": "view-in-github",
        "colab_type": "text"
      },
      "source": [
        "<a href=\"https://colab.research.google.com/github/st3vejobs/DATA-604/blob/main/final_exam/Final_Exam_Question_2_DATA_604.ipynb\" target=\"_parent\"><img src=\"https://colab.research.google.com/assets/colab-badge.svg\" alt=\"Open In Colab\"/></a>"
      ]
    },
    {
      "cell_type": "markdown",
      "source": [
        "# Final Exam Question 2\n",
        "# Shane Hylton \n",
        "\n",
        "NOTEBOOKS are broken in AllenDowney's Github. Chapters work much more smoothly.\n",
        "\n",
        "I updated the title to reflect that this is question 2. Please note that the links do not actually work in Github."
      ],
      "metadata": {
        "id": "aXiYUXwe8tXW"
      },
      "id": "aXiYUXwe8tXW"
    },
    {
      "cell_type": "markdown",
      "source": [
        "# Quick Link To Exercise\n",
        "1. [Exercises](#exercises)"
      ],
      "metadata": {
        "id": "W5i5fYcj8udY"
      },
      "id": "W5i5fYcj8udY"
    },
    {
      "cell_type": "markdown",
      "id": "funded-utilization",
      "metadata": {
        "id": "funded-utilization"
      },
      "source": [
        "# The Empire State Building Strikes Back"
      ]
    },
    {
      "cell_type": "markdown",
      "id": "imported-table",
      "metadata": {
        "tags": [],
        "id": "imported-table"
      },
      "source": [
        "*Modeling and Simulation in Python*\n",
        "\n",
        "Copyright 2021 Allen Downey\n",
        "\n",
        "License: [Creative Commons Attribution-NonCommercial-ShareAlike 4.0 International](https://creativecommons.org/licenses/by-nc-sa/4.0/)"
      ]
    },
    {
      "cell_type": "code",
      "execution_count": null,
      "id": "electoral-turkey",
      "metadata": {
        "tags": [],
        "id": "electoral-turkey"
      },
      "outputs": [],
      "source": [
        "# install Pint if necessary\n",
        "\n",
        "try:\n",
        "    from pint import UnitRegistry\n",
        "except ImportError:\n",
        "    !pip install pint\n",
        "    \n",
        "# import units\n",
        "from pint import UnitRegistry\n",
        "units = UnitRegistry()"
      ]
    },
    {
      "cell_type": "code",
      "execution_count": null,
      "id": "formal-context",
      "metadata": {
        "tags": [],
        "id": "formal-context"
      },
      "outputs": [],
      "source": [
        "# download modsim.py if necessary\n",
        "\n",
        "from os.path import basename, exists\n",
        "\n",
        "def download(url):\n",
        "    filename = basename(url)\n",
        "    if not exists(filename):\n",
        "        from urllib.request import urlretrieve\n",
        "        local, _ = urlretrieve(url, filename)\n",
        "        print('Downloaded ' + local)\n",
        "    \n",
        "download('https://raw.githubusercontent.com/AllenDowney/' +\n",
        "         'ModSimPy/master/modsim.py')"
      ]
    },
    {
      "cell_type": "code",
      "execution_count": null,
      "id": "progressive-typing",
      "metadata": {
        "tags": [],
        "id": "progressive-typing"
      },
      "outputs": [],
      "source": [
        "# import functions from modsim\n",
        "\n",
        "from modsim import *"
      ]
    },
    {
      "cell_type": "markdown",
      "id": "removable-zoning",
      "metadata": {
        "tags": [],
        "id": "removable-zoning"
      },
      "source": [
        "This chapter is available as a Jupyter notebook where you can read the text, run the code, and work on the exercises. \n",
        "Click here to access the notebooks: <https://allendowney.github.io/ModSimPy/>."
      ]
    },
    {
      "cell_type": "markdown",
      "id": "embedded-gentleman",
      "metadata": {
        "id": "embedded-gentleman"
      },
      "source": [
        "So far the differential equations we've worked with have been *first order*, which means they involve only first derivatives. In this\n",
        "chapter, we turn our attention to *second order* differential equations, which can involve both first and second derivatives.\n",
        "\n",
        "We'll revisit the falling penny example from Chapter 1, and use `run_solve_ivp` to find the position and velocity of the penny as it falls, with and without air resistance."
      ]
    },
    {
      "cell_type": "markdown",
      "id": "isolated-louis",
      "metadata": {
        "id": "isolated-louis"
      },
      "source": [
        "## Newton's Second Law of Motion\n",
        "\n",
        "First order differential equations (DEs) can be written \n",
        "\n",
        "$$\\frac{dy}{dx} = G(x, y)$$ \n",
        "\n",
        "where $G$ is some function of $x$ and $y$ (see <http://modsimpy.com/ode>). Second order DEs can be written \n",
        "\n",
        "$$\\frac{d^2y}{dx^2} = H(x, y, \\frac{dy}{dt})$$\n",
        "\n",
        "where $H$ is a function of $x$, $y$, and $dy/dx$.\n",
        "\n",
        "In this chapter, we will work with one of the most famous and useful\n",
        "second order DEs, Newton's second law of motion: \n",
        "\n",
        "$$F = m a$$ \n",
        "\n",
        "where $F$ is a force or the total of a set of forces, $m$ is the mass of a moving object, and $a$ is its acceleration."
      ]
    },
    {
      "cell_type": "markdown",
      "id": "drawn-symphony",
      "metadata": {
        "id": "drawn-symphony"
      },
      "source": [
        "Newton's law might not look like a differential equation, until we\n",
        "realize that acceleration, $a$, is the second derivative of position,\n",
        "$y$, with respect to time, $t$. With the substitution\n",
        "\n",
        "$$a = \\frac{d^2y}{dt^2}$$ \n",
        "\n",
        "Newton's law can be written\n",
        "\n",
        "$$\\frac{d^2y}{dt^2} = F / m$$ \n",
        "\n",
        "And that's definitely a second order DE.\n",
        "In general, $F$ can be a function of time, position, and velocity."
      ]
    },
    {
      "cell_type": "markdown",
      "id": "swiss-vietnam",
      "metadata": {
        "id": "swiss-vietnam"
      },
      "source": [
        "Of course, this \"law\" is really a model in the sense that it is a\n",
        "simplification of the real world. Although it is often approximately\n",
        "true:\n",
        "\n",
        "-   It only applies if $m$ is constant. If mass depends on time,\n",
        "    position, or velocity, we have to use a more general form of\n",
        "    Newton's law (see <http://modsimpy.com/varmass>).\n",
        "\n",
        "-   It is not a good model for very small things, which are better\n",
        "    described by another model, quantum mechanics.\n",
        "\n",
        "-   And it is not a good model for things moving very fast, which are\n",
        "    better described by yet another model, relativistic mechanics.\n",
        "\n",
        "However, for medium-sized things with constant mass, moving at\n",
        "medium-sized speeds, Newton's model is extremely useful. If we can\n",
        "quantify the forces that act on such an object, we can predict how it\n",
        "will move."
      ]
    },
    {
      "cell_type": "markdown",
      "id": "coordinate-three",
      "metadata": {
        "id": "coordinate-three"
      },
      "source": [
        "## Dropping Pennies\n",
        "\n",
        "As a first example, let's get back to the penny falling from the Empire State Building, which we considered in Chapter 1. We will implement two models of this system: first without air resistance, then with.\n",
        "\n",
        "Given that the Empire State Building is 381 m high, and assuming that\n",
        "the penny is dropped from a standstill, the initial conditions are:"
      ]
    },
    {
      "cell_type": "code",
      "execution_count": null,
      "id": "compatible-increase",
      "metadata": {
        "id": "compatible-increase"
      },
      "outputs": [],
      "source": [
        "init = State(y=381, v=0)"
      ]
    },
    {
      "cell_type": "markdown",
      "id": "intellectual-radiation",
      "metadata": {
        "id": "intellectual-radiation"
      },
      "source": [
        "where `y` is height above the sidewalk and `v` is velocity. \n",
        "\n",
        "I'll put the initial conditions in a `System` object, along with the magnitude of acceleration due to gravity, `g`, and the duration of the simulations, `t_end`."
      ]
    },
    {
      "cell_type": "code",
      "execution_count": null,
      "id": "reverse-authorization",
      "metadata": {
        "id": "reverse-authorization"
      },
      "outputs": [],
      "source": [
        "system = System(init=init, \n",
        "                g=9.8, \n",
        "                t_end=10)"
      ]
    },
    {
      "cell_type": "markdown",
      "id": "heavy-boards",
      "metadata": {
        "id": "heavy-boards"
      },
      "source": [
        "Now we need a slope function, and here's where things get tricky. As we have seen, `run_solve_ivp` can solve systems of first order DEs, but Newton's law is a second order DE. However, if we recognize that\n",
        "\n",
        "1.  Velocity, $v$, is the derivative of position, $dy/dt$, and\n",
        "\n",
        "2.  Acceleration, $a$, is the derivative of velocity, $dv/dt$,\n",
        "\n",
        "we can rewrite Newton's law as a system of first order ODEs:\n",
        "\n",
        "$$\\frac{dy}{dt} = v$$ \n",
        "\n",
        "$$\\frac{dv}{dt} = a$$ \n",
        "\n",
        "And we can translate those\n",
        "equations into a slope function:"
      ]
    },
    {
      "cell_type": "code",
      "execution_count": null,
      "id": "occupied-mercury",
      "metadata": {
        "id": "occupied-mercury"
      },
      "outputs": [],
      "source": [
        "def slope_func(t, state, system):\n",
        "    y, v = state\n",
        "\n",
        "    dydt = v\n",
        "    dvdt = -system.g\n",
        "    \n",
        "    return dydt, dvdt"
      ]
    },
    {
      "cell_type": "markdown",
      "id": "opening-adolescent",
      "metadata": {
        "id": "opening-adolescent"
      },
      "source": [
        "As usual, the parameters are a time stamp, a `State` object, and a `System` object.\n",
        "\n",
        "The first line unpacks the state variables, `y` and `v`.\n",
        "\n",
        "The next two lines compute the derivatives of the state variables, `dydt` and `dvdt`.\n",
        "The derivative of position is velocity, and the derivative of velocity is acceleration.\n",
        "In this case, $a = -g$, which indicates that acceleration due to gravity is in the direction of decreasing $y$. \n",
        "\n",
        "`slope_func` returns a sequence containing the two derivatives.\n",
        "\n",
        "Before calling `run_solve_ivp`, it is a good idea to test the slope\n",
        "function with the initial conditions:"
      ]
    },
    {
      "cell_type": "code",
      "execution_count": null,
      "id": "positive-feeling",
      "metadata": {
        "id": "positive-feeling",
        "colab": {
          "base_uri": "https://localhost:8080/"
        },
        "outputId": "09f1f914-e211-4ec7-a7f4-5f7cd127f44e"
      },
      "outputs": [
        {
          "output_type": "execute_result",
          "data": {
            "text/plain": [
              "(0, -9.8)"
            ]
          },
          "metadata": {},
          "execution_count": 7
        }
      ],
      "source": [
        "dydt, dvdt = slope_func(0, system.init, system)\n",
        "dydt, dvdt"
      ]
    },
    {
      "cell_type": "markdown",
      "id": "false-charlotte",
      "metadata": {
        "id": "false-charlotte"
      },
      "source": [
        "The result is 0 m/s for velocity and -9.8 m/s$^2$ for acceleration.\n",
        "\n",
        "Now we call `run_solve_ivp` like this:"
      ]
    },
    {
      "cell_type": "code",
      "execution_count": null,
      "id": "lovely-management",
      "metadata": {
        "id": "lovely-management",
        "colab": {
          "base_uri": "https://localhost:8080/",
          "height": 35
        },
        "outputId": "a327c029-5154-4139-913a-519acbfad105"
      },
      "outputs": [
        {
          "output_type": "execute_result",
          "data": {
            "text/plain": [
              "'The solver successfully reached the end of the integration interval.'"
            ],
            "application/vnd.google.colaboratory.intrinsic+json": {
              "type": "string"
            }
          },
          "metadata": {},
          "execution_count": 8
        }
      ],
      "source": [
        "results, details = run_solve_ivp(system, slope_func)\n",
        "details.message"
      ]
    },
    {
      "cell_type": "markdown",
      "id": "ranging-lingerie",
      "metadata": {
        "id": "ranging-lingerie"
      },
      "source": [
        "`results` is a `TimeFrame` with two columns: `y` contains the height of the penny; `v` contains its velocity.\n",
        "Here are the first few rows."
      ]
    },
    {
      "cell_type": "code",
      "execution_count": null,
      "id": "assisted-swimming",
      "metadata": {
        "id": "assisted-swimming",
        "colab": {
          "base_uri": "https://localhost:8080/",
          "height": 206
        },
        "outputId": "56bd9f11-ee7d-431a-f308-211b4bbfb766"
      },
      "outputs": [
        {
          "output_type": "execute_result",
          "data": {
            "text/plain": [
              "           y     v\n",
              "0.0  381.000  0.00\n",
              "0.1  380.951 -0.98\n",
              "0.2  380.804 -1.96\n",
              "0.3  380.559 -2.94\n",
              "0.4  380.216 -3.92"
            ],
            "text/html": [
              "\n",
              "  <div id=\"df-3041c4bb-b568-49a6-8ec1-3233d2172012\">\n",
              "    <div class=\"colab-df-container\">\n",
              "      <div>\n",
              "<style scoped>\n",
              "    .dataframe tbody tr th:only-of-type {\n",
              "        vertical-align: middle;\n",
              "    }\n",
              "\n",
              "    .dataframe tbody tr th {\n",
              "        vertical-align: top;\n",
              "    }\n",
              "\n",
              "    .dataframe thead th {\n",
              "        text-align: right;\n",
              "    }\n",
              "</style>\n",
              "<table border=\"1\" class=\"dataframe\">\n",
              "  <thead>\n",
              "    <tr style=\"text-align: right;\">\n",
              "      <th></th>\n",
              "      <th>y</th>\n",
              "      <th>v</th>\n",
              "    </tr>\n",
              "  </thead>\n",
              "  <tbody>\n",
              "    <tr>\n",
              "      <th>0.0</th>\n",
              "      <td>381.000</td>\n",
              "      <td>0.00</td>\n",
              "    </tr>\n",
              "    <tr>\n",
              "      <th>0.1</th>\n",
              "      <td>380.951</td>\n",
              "      <td>-0.98</td>\n",
              "    </tr>\n",
              "    <tr>\n",
              "      <th>0.2</th>\n",
              "      <td>380.804</td>\n",
              "      <td>-1.96</td>\n",
              "    </tr>\n",
              "    <tr>\n",
              "      <th>0.3</th>\n",
              "      <td>380.559</td>\n",
              "      <td>-2.94</td>\n",
              "    </tr>\n",
              "    <tr>\n",
              "      <th>0.4</th>\n",
              "      <td>380.216</td>\n",
              "      <td>-3.92</td>\n",
              "    </tr>\n",
              "  </tbody>\n",
              "</table>\n",
              "</div>\n",
              "      <button class=\"colab-df-convert\" onclick=\"convertToInteractive('df-3041c4bb-b568-49a6-8ec1-3233d2172012')\"\n",
              "              title=\"Convert this dataframe to an interactive table.\"\n",
              "              style=\"display:none;\">\n",
              "        \n",
              "  <svg xmlns=\"http://www.w3.org/2000/svg\" height=\"24px\"viewBox=\"0 0 24 24\"\n",
              "       width=\"24px\">\n",
              "    <path d=\"M0 0h24v24H0V0z\" fill=\"none\"/>\n",
              "    <path d=\"M18.56 5.44l.94 2.06.94-2.06 2.06-.94-2.06-.94-.94-2.06-.94 2.06-2.06.94zm-11 1L8.5 8.5l.94-2.06 2.06-.94-2.06-.94L8.5 2.5l-.94 2.06-2.06.94zm10 10l.94 2.06.94-2.06 2.06-.94-2.06-.94-.94-2.06-.94 2.06-2.06.94z\"/><path d=\"M17.41 7.96l-1.37-1.37c-.4-.4-.92-.59-1.43-.59-.52 0-1.04.2-1.43.59L10.3 9.45l-7.72 7.72c-.78.78-.78 2.05 0 2.83L4 21.41c.39.39.9.59 1.41.59.51 0 1.02-.2 1.41-.59l7.78-7.78 2.81-2.81c.8-.78.8-2.07 0-2.86zM5.41 20L4 18.59l7.72-7.72 1.47 1.35L5.41 20z\"/>\n",
              "  </svg>\n",
              "      </button>\n",
              "      \n",
              "  <style>\n",
              "    .colab-df-container {\n",
              "      display:flex;\n",
              "      flex-wrap:wrap;\n",
              "      gap: 12px;\n",
              "    }\n",
              "\n",
              "    .colab-df-convert {\n",
              "      background-color: #E8F0FE;\n",
              "      border: none;\n",
              "      border-radius: 50%;\n",
              "      cursor: pointer;\n",
              "      display: none;\n",
              "      fill: #1967D2;\n",
              "      height: 32px;\n",
              "      padding: 0 0 0 0;\n",
              "      width: 32px;\n",
              "    }\n",
              "\n",
              "    .colab-df-convert:hover {\n",
              "      background-color: #E2EBFA;\n",
              "      box-shadow: 0px 1px 2px rgba(60, 64, 67, 0.3), 0px 1px 3px 1px rgba(60, 64, 67, 0.15);\n",
              "      fill: #174EA6;\n",
              "    }\n",
              "\n",
              "    [theme=dark] .colab-df-convert {\n",
              "      background-color: #3B4455;\n",
              "      fill: #D2E3FC;\n",
              "    }\n",
              "\n",
              "    [theme=dark] .colab-df-convert:hover {\n",
              "      background-color: #434B5C;\n",
              "      box-shadow: 0px 1px 3px 1px rgba(0, 0, 0, 0.15);\n",
              "      filter: drop-shadow(0px 1px 2px rgba(0, 0, 0, 0.3));\n",
              "      fill: #FFFFFF;\n",
              "    }\n",
              "  </style>\n",
              "\n",
              "      <script>\n",
              "        const buttonEl =\n",
              "          document.querySelector('#df-3041c4bb-b568-49a6-8ec1-3233d2172012 button.colab-df-convert');\n",
              "        buttonEl.style.display =\n",
              "          google.colab.kernel.accessAllowed ? 'block' : 'none';\n",
              "\n",
              "        async function convertToInteractive(key) {\n",
              "          const element = document.querySelector('#df-3041c4bb-b568-49a6-8ec1-3233d2172012');\n",
              "          const dataTable =\n",
              "            await google.colab.kernel.invokeFunction('convertToInteractive',\n",
              "                                                     [key], {});\n",
              "          if (!dataTable) return;\n",
              "\n",
              "          const docLinkHtml = 'Like what you see? Visit the ' +\n",
              "            '<a target=\"_blank\" href=https://colab.research.google.com/notebooks/data_table.ipynb>data table notebook</a>'\n",
              "            + ' to learn more about interactive tables.';\n",
              "          element.innerHTML = '';\n",
              "          dataTable['output_type'] = 'display_data';\n",
              "          await google.colab.output.renderOutput(dataTable, element);\n",
              "          const docLink = document.createElement('div');\n",
              "          docLink.innerHTML = docLinkHtml;\n",
              "          element.appendChild(docLink);\n",
              "        }\n",
              "      </script>\n",
              "    </div>\n",
              "  </div>\n",
              "  "
            ]
          },
          "metadata": {},
          "execution_count": 9
        }
      ],
      "source": [
        "results.head()"
      ]
    },
    {
      "cell_type": "markdown",
      "id": "solved-chambers",
      "metadata": {
        "id": "solved-chambers"
      },
      "source": [
        "We can plot the results like this:"
      ]
    },
    {
      "cell_type": "code",
      "execution_count": null,
      "id": "authorized-barrier",
      "metadata": {
        "id": "authorized-barrier",
        "colab": {
          "base_uri": "https://localhost:8080/",
          "height": 297
        },
        "outputId": "cbc5bc26-8241-4090-fbae-94a722999199"
      },
      "outputs": [
        {
          "output_type": "display_data",
          "data": {
            "text/plain": [
              "<Figure size 432x288 with 1 Axes>"
            ],
            "image/png": "[encoded data removed]"
          },
          "metadata": {
            "needs_background": "light"
          }
        }
      ],
      "source": [
        "results.y.plot()\n",
        "\n",
        "decorate(xlabel='Time (s)',\n",
        "         ylabel='Position (m)')"
      ]
    },
    {
      "cell_type": "markdown",
      "id": "differential-airfare",
      "metadata": {
        "id": "differential-airfare"
      },
      "source": [
        "Since acceleration is constant, velocity increases linearly and position decreases quadratically; as a result, the height curve is a parabola.\n",
        "\n",
        "The last value of `results.y` is negative, which means we ran the simulation too long. "
      ]
    },
    {
      "cell_type": "code",
      "execution_count": null,
      "id": "protected-fiber",
      "metadata": {
        "id": "protected-fiber",
        "colab": {
          "base_uri": "https://localhost:8080/"
        },
        "outputId": "e440b3d8-853d-43f7-9cdc-d1ef27cf879c"
      },
      "outputs": [
        {
          "output_type": "execute_result",
          "data": {
            "text/plain": [
              "-108.99999999999983"
            ]
          },
          "metadata": {},
          "execution_count": 11
        }
      ],
      "source": [
        "results.iloc[-1].y"
      ]
    },
    {
      "cell_type": "markdown",
      "id": "metallic-tamil",
      "metadata": {
        "id": "metallic-tamil"
      },
      "source": [
        "One way to solve this problem is to use the results to\n",
        "estimate the time when the penny hits the sidewalk.\n",
        "\n",
        "The ModSim library provides `crossings`, which takes a `TimeSeries` and a value, and returns a sequence of times when the series passes through the value. We can find the time when the height of the penny is `0` like this:"
      ]
    },
    {
      "cell_type": "code",
      "execution_count": null,
      "id": "japanese-clear",
      "metadata": {
        "id": "japanese-clear",
        "colab": {
          "base_uri": "https://localhost:8080/"
        },
        "outputId": "21bd223f-decc-48c7-a587-db74973c0b63"
      },
      "outputs": [
        {
          "output_type": "execute_result",
          "data": {
            "text/plain": [
              "array([8.81788535])"
            ]
          },
          "metadata": {},
          "execution_count": 12
        }
      ],
      "source": [
        "t_crossings = crossings(results.y, 0)\n",
        "t_crossings"
      ]
    },
    {
      "cell_type": "markdown",
      "id": "demonstrated-emission",
      "metadata": {
        "id": "demonstrated-emission"
      },
      "source": [
        "The result is an array with a single value, 8.818 s. Now, we could run\n",
        "the simulation again with `t_end = 8.818`, but there's a better way."
      ]
    },
    {
      "cell_type": "markdown",
      "id": "blind-dominant",
      "metadata": {
        "id": "blind-dominant"
      },
      "source": [
        "## Events\n",
        "\n",
        "As an option, `run_solve_ivp` can take an *event function*, which\n",
        "detects an \"event\", like the penny hitting the sidewalk, and ends the\n",
        "simulation.\n",
        "\n",
        "Event functions take the same parameters as slope functions, `t`, `state`, and `system`. They should return a value that passes through `0` when the event occurs. Here's an event function that detects the penny hitting the sidewalk:"
      ]
    },
    {
      "cell_type": "code",
      "execution_count": null,
      "id": "comfortable-simple",
      "metadata": {
        "id": "comfortable-simple"
      },
      "outputs": [],
      "source": [
        "def event_func(t, state, system):\n",
        "    y, v = state\n",
        "    return y"
      ]
    },
    {
      "cell_type": "markdown",
      "id": "closing-vehicle",
      "metadata": {
        "id": "closing-vehicle"
      },
      "source": [
        "The return value is the height of the penny, `y`, which passes through\n",
        "`0` when the penny hits the sidewalk.\n",
        "\n",
        "We pass the event function to `run_solve_ivp` like this:"
      ]
    },
    {
      "cell_type": "code",
      "execution_count": null,
      "id": "exotic-shareware",
      "metadata": {
        "id": "exotic-shareware",
        "colab": {
          "base_uri": "https://localhost:8080/",
          "height": 35
        },
        "outputId": "de94ae6f-ba15-4fcc-a29d-ea2c725115cf"
      },
      "outputs": [
        {
          "output_type": "execute_result",
          "data": {
            "text/plain": [
              "'A termination event occurred.'"
            ],
            "application/vnd.google.colaboratory.intrinsic+json": {
              "type": "string"
            }
          },
          "metadata": {},
          "execution_count": 14
        }
      ],
      "source": [
        "results, details = run_solve_ivp(system, slope_func,\n",
        "                                 events=event_func)\n",
        "details.message"
      ]
    },
    {
      "cell_type": "markdown",
      "id": "recreational-blair",
      "metadata": {
        "id": "recreational-blair"
      },
      "source": [
        "Then we can get the flight time like this:"
      ]
    },
    {
      "cell_type": "code",
      "execution_count": null,
      "id": "appropriate-roberts",
      "metadata": {
        "id": "appropriate-roberts",
        "colab": {
          "base_uri": "https://localhost:8080/"
        },
        "outputId": "3df92d21-97a0-46f9-cf08-0afa075d0e52"
      },
      "outputs": [
        {
          "output_type": "execute_result",
          "data": {
            "text/plain": [
              "8.817885349720553"
            ]
          },
          "metadata": {},
          "execution_count": 15
        }
      ],
      "source": [
        "t_end = results.index[-1]\n",
        "t_end"
      ]
    },
    {
      "cell_type": "markdown",
      "id": "pediatric-portal",
      "metadata": {
        "id": "pediatric-portal"
      },
      "source": [
        "And the final velocity like this:"
      ]
    },
    {
      "cell_type": "code",
      "execution_count": null,
      "id": "orange-retro",
      "metadata": {
        "id": "orange-retro",
        "colab": {
          "base_uri": "https://localhost:8080/"
        },
        "outputId": "79bbbdec-1a64-4723-f0c6-61381f91cfc2"
      },
      "outputs": [
        {
          "output_type": "execute_result",
          "data": {
            "text/plain": [
              "(0.0, -86.41527642726145)"
            ]
          },
          "metadata": {},
          "execution_count": 16
        }
      ],
      "source": [
        "y, v = results.iloc[-1]\n",
        "y, v"
      ]
    },
    {
      "cell_type": "markdown",
      "id": "cleared-jamaica",
      "metadata": {
        "id": "cleared-jamaica"
      },
      "source": [
        "If there were no air resistance, the penny would hit the sidewalk (or someone's head) at about 86 m/s. So it's a good thing there is air resistance."
      ]
    },
    {
      "cell_type": "markdown",
      "id": "induced-albert",
      "metadata": {
        "id": "induced-albert"
      },
      "source": [
        "## Summary\n",
        "\n",
        "In this chapter, we wrote Newton's second law, which is a second order DE, as a system of first order DEs.\n",
        "Then we used `run_solve_ivp` to simulate a penny dropping from the Empire State Building in the absence of air resistance.\n",
        "And we used an event function to stop the simulation when the penny reaches the sidewalk.\n",
        "\n",
        "In the next chapter we'll add air resistance to the model.\n",
        "But first you might want to work on this exercise."
      ]
    },
    {
      "cell_type": "markdown",
      "id": "operational-bhutan",
      "metadata": {
        "id": "operational-bhutan"
      },
      "source": [
        "# Exercises<a name=\"exercises\"></a>\n",
        "\n",
        "This chapter is available as a Jupyter notebook where you can read the text, run the code, and work on the exercises. \n",
        "You can access the notebooks at <https://allendowney.github.io/ModSimPy/>."
      ]
    },
    {
      "cell_type": "markdown",
      "id": "straight-johns",
      "metadata": {
        "id": "straight-johns"
      },
      "source": [
        "### Exercise 1\n",
        "\n",
        "Here's a question from the web site *Ask an Astronomer* (see http://curious.astro.cornell.edu/about-us/39-our-solar-system/the-earth/other-catastrophes/57-how-long-would-it-take-the-earth-to-fall-into-the-sun-intermediate):\n",
        "\n",
        "> \"If the Earth suddenly stopped orbiting the Sun, I know eventually it would be pulled in by the Sun's gravity and hit it. How long would it take the Earth to hit the Sun? I imagine it would go slowly at first and then pick up speed.\"\n",
        "\n",
        "Use `run_solve_ivp` to answer this question.\n",
        "\n",
        "Here are some suggestions about how to proceed:\n",
        "\n",
        "1.  Look up the Law of Universal Gravitation and any constants you need.  I suggest you work entirely in SI units: meters, kilograms, and Newtons.\n",
        "\n",
        "2.  When the distance between the Earth and the Sun gets small, this system behaves badly, so you should use an event function to stop when the surface of Earth reaches the surface of the Sun.\n",
        "\n",
        "3. Express your answer in days, and plot the results as millions of kilometers versus days.\n",
        "\n",
        "If you read the reply by Dave Rothstein, you will see other ways to solve the problem, and a good discussion of the modeling decisions behind them.\n",
        "\n",
        "You might also be interested to know that it's not that easy to get to the Sun; see https://www.theatlantic.com/science/archive/2018/08/parker-solar-probe-launch-nasa/567197/."
      ]
    },
    {
      "cell_type": "markdown",
      "source": [
        "## Initial Comments\n",
        "\n",
        "I previously majored in Astronomy, but transitioned to actuarial science and minored in physics. Questions like this make me regret leaving astronomy. Fortunately, data science gives me the tools to come back.\n",
        "\n",
        "\n",
        "\n",
        " "
      ],
      "metadata": {
        "id": "DbeHGsqd9R7g"
      },
      "id": "DbeHGsqd9R7g"
    },
    {
      "cell_type": "markdown",
      "source": [
        "\n",
        " \n",
        "I will be assuming the Earth's orbit was brought to a halt and Earth came to rest. I will also assume that the two masses will combine with no debris lost. I will use this new mass to compute the radius of the newly polluted sun.\n",
        "\n",
        "Important Quantities:\n",
        "\n",
        "$$Semi-Major \\ Axis: 1.49598023 \\times 10^{11} m$$\n",
        "\n",
        "$$ Solar Radius: 6.9634 \\times 10^{8} m$$\n",
        "$$ Solar Mass: 1.98847 \\times 10^{30} kg$$\n",
        "\n",
        "$$ Earth Radius: 6.371009 \\times 10^6 m$$\n",
        "$$ Earth Mass: 5.972 \\times 10^{24} kg$$\n",
        "\n",
        "$$ Universal Gravitational Constant (G): 6.6743 \\times 10^{-11} \\frac {N*m^2}{kg^2}$$"
      ],
      "metadata": {
        "id": "svguEIbm-u04"
      },
      "id": "svguEIbm-u04"
    },
    {
      "cell_type": "code",
      "source": [
        "kg = units.kilogram\n",
        "m = units.meter\n",
        "N = units.newton\n",
        "s = units.second\n",
        "\n",
        "radius = 1.49598023 * (10**11) # Radius of orbit\n",
        "radius = radius * m\n",
        "\n",
        "init = State(r = radius, v = 0 * m / s)\n",
        "init"
      ],
      "metadata": {
        "colab": {
          "base_uri": "https://localhost:8080/"
        },
        "id": "mRvNJsP89HOa",
        "outputId": "301fa16f-870e-4dc5-c527-4eeced8df11f"
      },
      "id": "mRvNJsP89HOa",
      "execution_count": null,
      "outputs": [
        {
          "output_type": "stream",
          "name": "stderr",
          "text": [
            "/usr/local/lib/python3.7/dist-packages/pandas/core/dtypes/cast.py:1990: UnitStrippedWarning: The unit of the quantity is stripped when downcasting to ndarray.\n",
            "  result[:] = values\n"
          ]
        },
        {
          "output_type": "execute_result",
          "data": {
            "text/plain": [
              "r    149598023000.0 meter\n",
              "v      0.0 meter / second\n",
              "Name: state, dtype: object"
            ]
          },
          "metadata": {},
          "execution_count": 17
        }
      ]
    },
    {
      "cell_type": "code",
      "source": [
        "D = 1.49598023 * (10**11) * m\n",
        "r = 6.371009 * (10**6) * m\n",
        "m_e = 5.972 * (10**24) * kg\n",
        "R = 6.9634 * (10 ** 8) * m\n",
        "M_s = 1.98847 * (10**30) * kg\n",
        "G = 6.6743 * (10**(-11)) * (N * (m**2))/ (kg**2)"
      ],
      "metadata": {
        "id": "lOQ4u7Ih_AbW"
      },
      "id": "lOQ4u7Ih_AbW",
      "execution_count": null,
      "outputs": []
    },
    {
      "cell_type": "markdown",
      "source": [
        "I will approximate 100 days until contact to begin. Step size will be 1% of the duration, one day."
      ],
      "metadata": {
        "id": "cvpXQ1afE6Oa"
      },
      "id": "cvpXQ1afE6Oa"
    },
    {
      "cell_type": "code",
      "source": [
        "system = System(init = init,\n",
        "                r = r,\n",
        "                m_e = m_e,\n",
        "                R = R,\n",
        "                M_s = M_s,\n",
        "                G = G,\n",
        "                D = D,\n",
        "                t_0 = 0,\n",
        "                contact = r + R,\n",
        "                t_end = 100 * 86400 * s,\n",
        "                dt = 86400 * s)"
      ],
      "metadata": {
        "id": "s1GDT3JwE5yu"
      },
      "id": "s1GDT3JwE5yu",
      "execution_count": null,
      "outputs": []
    },
    {
      "cell_type": "markdown",
      "source": [
        "### Gravitation\n",
        "\n",
        "In the original question, gravity was presented in a one-way street fashion, which is fine when the mass of the first object is substantially greater than that of the second. In this case, the law of universal gravitation is needed, and both objects will be drawn to one another by the same force (that force will act on each object differently)."
      ],
      "metadata": {
        "id": "CgLvGUHSFueL"
      },
      "id": "CgLvGUHSFueL"
    },
    {
      "cell_type": "code",
      "source": [
        "def gravitation(state,system):\n",
        "  G = 6.6743 * (10**(-11)) * (N * (m**2))/ (kg**2)\n",
        "  r,v = state\n",
        "  F = G * (system.m_e * system.M_s) / (r**2)\n",
        "  return F"
      ],
      "metadata": {
        "id": "nBxojCUQGM1D"
      },
      "id": "nBxojCUQGM1D",
      "execution_count": null,
      "outputs": []
    },
    {
      "cell_type": "code",
      "source": [
        "gravitational_force = gravitation(init,system)\n",
        "gravitational_force"
      ],
      "metadata": {
        "colab": {
          "base_uri": "https://localhost:8080/",
          "height": 37
        },
        "id": "WEjmmhoOGsuN",
        "outputId": "e7e01fea-e1b8-4c44-a36e-949cb1b2943b"
      },
      "id": "WEjmmhoOGsuN",
      "execution_count": null,
      "outputs": [
        {
          "output_type": "execute_result",
          "data": {
            "text/plain": [
              "3.5415457589512597e+22 newton"
            ],
            "text/html": [
              "3.5415457589512597×10<sup>22</sup> newton"
            ],
            "text/latex": "$3.5415457589512597\\times 10^{22}\\ \\mathrm{newton}$"
          },
          "metadata": {},
          "execution_count": 21
        }
      ]
    },
    {
      "cell_type": "code",
      "source": [
        "def slope_func(t, state, system):\n",
        "    r, v = state\n",
        "    m_e = system.m_e\n",
        "    M_s = system.M_s\n",
        "\n",
        "    f = gravitation(state,system)\n",
        "    drdt = v #derivative of position is velocity\n",
        "    dvdt = -f/m_e #derivative of velocity is acceleration. f = ma, so dvdt = f/m_e\n",
        "    \n",
        "    return dydt, dvdt"
      ],
      "metadata": {
        "id": "McHrxMCFISmf"
      },
      "id": "McHrxMCFISmf",
      "execution_count": null,
      "outputs": []
    },
    {
      "cell_type": "code",
      "source": [
        "def event_func(t,state,system):\n",
        "  r,v = state\n",
        "  return r - system.contact"
      ],
      "metadata": {
        "id": "tfL9TYsoISgr"
      },
      "id": "tfL9TYsoISgr",
      "execution_count": null,
      "outputs": []
    },
    {
      "cell_type": "markdown",
      "source": [
        "#### run_solve_ivp does not work for this problem, it requires dimensionless units. \n",
        "\n",
        "I will try to rebuild the functions without dimensions."
      ],
      "metadata": {
        "id": "dgjnzBN0MF1-"
      },
      "id": "dgjnzBN0MF1-"
    },
    {
      "cell_type": "code",
      "source": [
        "system = remove_units(system)\n",
        "system\n",
        "slope_func = remove_units(slope_func)\n",
        "event_func = remove_units(event_func)\n",
        "\n",
        "system = System(init = init,\n",
        "                r = 6.371009 * (10**6),\n",
        "                m_e = 5.972 * (10**24),\n",
        "                R = 6.9634 * (10 ** 8),\n",
        "                M_s = 1.98847 * (10**30),\n",
        "                G = 6.6743 * (10**(-11)),\n",
        "                D = 1.49598023 * (10**11),\n",
        "                t_0 = 0,\n",
        "                contact = 6.371009 * (10**6) + 6.9634 * (10 ** 8),\n",
        "                t_end = 100 * 86400,\n",
        "                dt = 86400)\n",
        "\n",
        "def gravitation(state,system):\n",
        "  G = 6.6743 * (10**(-11))\n",
        "  r,v = state\n",
        "  F = G * (system.m_e * system.M_s) / (r**2)\n",
        "  return F\n",
        "\n",
        "\n",
        "def slope_func(t, state, system):\n",
        "    r, v = state\n",
        "    m_e = system.m_e\n",
        "    M_s = system.M_s\n",
        "\n",
        "    f = gravitation(state,system)\n",
        "    drdt = v #derivative of position is velocity\n",
        "    dvdt = -f/m_e #derivative of velocity is acceleration. f = ma, so dvdt = f/m_e\n",
        "    \n",
        "    return drdt, dvdt\n",
        "\n",
        "def event_func(t,state,system):\n",
        "  r,v = state\n",
        "  return r - system.contact\n",
        "\n",
        "\n",
        "\n",
        "init = State(r = 1.49598023 * (10**11), v = 0)\n",
        "init\n",
        "\n",
        "\n",
        "results,details = run_solve_ivp(system,slope_func, events = event_func)"
      ],
      "metadata": {
        "id": "WNcLPsnqKZCn"
      },
      "id": "WNcLPsnqKZCn",
      "execution_count": null,
      "outputs": []
    },
    {
      "cell_type": "code",
      "source": [
        "event_func(0,init,system)"
      ],
      "metadata": {
        "colab": {
          "base_uri": "https://localhost:8080/"
        },
        "id": "UhYnkB4vPpFA",
        "outputId": "7149adc6-89e5-4f87-b73d-a7722cc20b51"
      },
      "id": "UhYnkB4vPpFA",
      "execution_count": null,
      "outputs": [
        {
          "output_type": "execute_result",
          "data": {
            "text/plain": [
              "148895311991.0"
            ]
          },
          "metadata": {},
          "execution_count": 25
        }
      ]
    },
    {
      "cell_type": "code",
      "source": [
        "results"
      ],
      "metadata": {
        "colab": {
          "base_uri": "https://localhost:8080/",
          "height": 424
        },
        "id": "DTnzNKtCQjeZ",
        "outputId": "0c4d1feb-5396-4fd7-be58-b020656ad786"
      },
      "id": "DTnzNKtCQjeZ",
      "execution_count": null,
      "outputs": [
        {
          "output_type": "execute_result",
          "data": {
            "text/plain": [
              "                         r              v\n",
              "0.000000e+00  1.495980e+11       0.000000\n",
              "5.577952e+04  1.495888e+11    -330.800130\n",
              "1.115590e+05  1.495611e+11    -661.682230\n",
              "1.673386e+05  1.495150e+11    -992.729287\n",
              "2.231181e+05  1.494504e+11   -1324.021998\n",
              "...                    ...            ...\n",
              "5.354834e+06  2.974045e+10  -84555.274398\n",
              "5.410613e+06  2.476586e+10  -94583.789272\n",
              "5.466393e+06  1.908688e+10 -110245.150106\n",
              "5.522172e+06  1.220204e+10 -141448.560821\n",
              "5.577952e+06  7.027110e+08 -613594.734366\n",
              "\n",
              "[101 rows x 2 columns]"
            ],
            "text/html": [
              "\n",
              "  <div id=\"df-5c19a830-9134-40a2-9def-6f71e75b875f\">\n",
              "    <div class=\"colab-df-container\">\n",
              "      <div>\n",
              "<style scoped>\n",
              "    .dataframe tbody tr th:only-of-type {\n",
              "        vertical-align: middle;\n",
              "    }\n",
              "\n",
              "    .dataframe tbody tr th {\n",
              "        vertical-align: top;\n",
              "    }\n",
              "\n",
              "    .dataframe thead th {\n",
              "        text-align: right;\n",
              "    }\n",
              "</style>\n",
              "<table border=\"1\" class=\"dataframe\">\n",
              "  <thead>\n",
              "    <tr style=\"text-align: right;\">\n",
              "      <th></th>\n",
              "      <th>r</th>\n",
              "      <th>v</th>\n",
              "    </tr>\n",
              "  </thead>\n",
              "  <tbody>\n",
              "    <tr>\n",
              "      <th>0.000000e+00</th>\n",
              "      <td>1.495980e+11</td>\n",
              "      <td>0.000000</td>\n",
              "    </tr>\n",
              "    <tr>\n",
              "      <th>5.577952e+04</th>\n",
              "      <td>1.495888e+11</td>\n",
              "      <td>-330.800130</td>\n",
              "    </tr>\n",
              "    <tr>\n",
              "      <th>1.115590e+05</th>\n",
              "      <td>1.495611e+11</td>\n",
              "      <td>-661.682230</td>\n",
              "    </tr>\n",
              "    <tr>\n",
              "      <th>1.673386e+05</th>\n",
              "      <td>1.495150e+11</td>\n",
              "      <td>-992.729287</td>\n",
              "    </tr>\n",
              "    <tr>\n",
              "      <th>2.231181e+05</th>\n",
              "      <td>1.494504e+11</td>\n",
              "      <td>-1324.021998</td>\n",
              "    </tr>\n",
              "    <tr>\n",
              "      <th>...</th>\n",
              "      <td>...</td>\n",
              "      <td>...</td>\n",
              "    </tr>\n",
              "    <tr>\n",
              "      <th>5.354834e+06</th>\n",
              "      <td>2.974045e+10</td>\n",
              "      <td>-84555.274398</td>\n",
              "    </tr>\n",
              "    <tr>\n",
              "      <th>5.410613e+06</th>\n",
              "      <td>2.476586e+10</td>\n",
              "      <td>-94583.789272</td>\n",
              "    </tr>\n",
              "    <tr>\n",
              "      <th>5.466393e+06</th>\n",
              "      <td>1.908688e+10</td>\n",
              "      <td>-110245.150106</td>\n",
              "    </tr>\n",
              "    <tr>\n",
              "      <th>5.522172e+06</th>\n",
              "      <td>1.220204e+10</td>\n",
              "      <td>-141448.560821</td>\n",
              "    </tr>\n",
              "    <tr>\n",
              "      <th>5.577952e+06</th>\n",
              "      <td>7.027110e+08</td>\n",
              "      <td>-613594.734366</td>\n",
              "    </tr>\n",
              "  </tbody>\n",
              "</table>\n",
              "<p>101 rows × 2 columns</p>\n",
              "</div>\n",
              "      <button class=\"colab-df-convert\" onclick=\"convertToInteractive('df-5c19a830-9134-40a2-9def-6f71e75b875f')\"\n",
              "              title=\"Convert this dataframe to an interactive table.\"\n",
              "              style=\"display:none;\">\n",
              "        \n",
              "  <svg xmlns=\"http://www.w3.org/2000/svg\" height=\"24px\"viewBox=\"0 0 24 24\"\n",
              "       width=\"24px\">\n",
              "    <path d=\"M0 0h24v24H0V0z\" fill=\"none\"/>\n",
              "    <path d=\"M18.56 5.44l.94 2.06.94-2.06 2.06-.94-2.06-.94-.94-2.06-.94 2.06-2.06.94zm-11 1L8.5 8.5l.94-2.06 2.06-.94-2.06-.94L8.5 2.5l-.94 2.06-2.06.94zm10 10l.94 2.06.94-2.06 2.06-.94-2.06-.94-.94-2.06-.94 2.06-2.06.94z\"/><path d=\"M17.41 7.96l-1.37-1.37c-.4-.4-.92-.59-1.43-.59-.52 0-1.04.2-1.43.59L10.3 9.45l-7.72 7.72c-.78.78-.78 2.05 0 2.83L4 21.41c.39.39.9.59 1.41.59.51 0 1.02-.2 1.41-.59l7.78-7.78 2.81-2.81c.8-.78.8-2.07 0-2.86zM5.41 20L4 18.59l7.72-7.72 1.47 1.35L5.41 20z\"/>\n",
              "  </svg>\n",
              "      </button>\n",
              "      \n",
              "  <style>\n",
              "    .colab-df-container {\n",
              "      display:flex;\n",
              "      flex-wrap:wrap;\n",
              "      gap: 12px;\n",
              "    }\n",
              "\n",
              "    .colab-df-convert {\n",
              "      background-color: #E8F0FE;\n",
              "      border: none;\n",
              "      border-radius: 50%;\n",
              "      cursor: pointer;\n",
              "      display: none;\n",
              "      fill: #1967D2;\n",
              "      height: 32px;\n",
              "      padding: 0 0 0 0;\n",
              "      width: 32px;\n",
              "    }\n",
              "\n",
              "    .colab-df-convert:hover {\n",
              "      background-color: #E2EBFA;\n",
              "      box-shadow: 0px 1px 2px rgba(60, 64, 67, 0.3), 0px 1px 3px 1px rgba(60, 64, 67, 0.15);\n",
              "      fill: #174EA6;\n",
              "    }\n",
              "\n",
              "    [theme=dark] .colab-df-convert {\n",
              "      background-color: #3B4455;\n",
              "      fill: #D2E3FC;\n",
              "    }\n",
              "\n",
              "    [theme=dark] .colab-df-convert:hover {\n",
              "      background-color: #434B5C;\n",
              "      box-shadow: 0px 1px 3px 1px rgba(0, 0, 0, 0.15);\n",
              "      filter: drop-shadow(0px 1px 2px rgba(0, 0, 0, 0.3));\n",
              "      fill: #FFFFFF;\n",
              "    }\n",
              "  </style>\n",
              "\n",
              "      <script>\n",
              "        const buttonEl =\n",
              "          document.querySelector('#df-5c19a830-9134-40a2-9def-6f71e75b875f button.colab-df-convert');\n",
              "        buttonEl.style.display =\n",
              "          google.colab.kernel.accessAllowed ? 'block' : 'none';\n",
              "\n",
              "        async function convertToInteractive(key) {\n",
              "          const element = document.querySelector('#df-5c19a830-9134-40a2-9def-6f71e75b875f');\n",
              "          const dataTable =\n",
              "            await google.colab.kernel.invokeFunction('convertToInteractive',\n",
              "                                                     [key], {});\n",
              "          if (!dataTable) return;\n",
              "\n",
              "          const docLinkHtml = 'Like what you see? Visit the ' +\n",
              "            '<a target=\"_blank\" href=https://colab.research.google.com/notebooks/data_table.ipynb>data table notebook</a>'\n",
              "            + ' to learn more about interactive tables.';\n",
              "          element.innerHTML = '';\n",
              "          dataTable['output_type'] = 'display_data';\n",
              "          await google.colab.output.renderOutput(dataTable, element);\n",
              "          const docLink = document.createElement('div');\n",
              "          docLink.innerHTML = docLinkHtml;\n",
              "          element.appendChild(docLink);\n",
              "        }\n",
              "      </script>\n",
              "    </div>\n",
              "  </div>\n",
              "  "
            ]
          },
          "metadata": {},
          "execution_count": 26
        }
      ]
    },
    {
      "cell_type": "code",
      "source": [
        "def get_last_label(x):\n",
        "\n",
        "    return x.index[-1]\n",
        "\n",
        "contact_time = get_last_label(results)\n",
        "\n",
        "contact_times = pd.DataFrame({'seconds': [contact_time],'minutes': [contact_time / 60],'hours': [contact_time / 60 / 60],'days': [contact_time / 60 / 60 / 24]})\n",
        "contact_times"
      ],
      "metadata": {
        "colab": {
          "base_uri": "https://localhost:8080/",
          "height": 81
        },
        "id": "5BgIvWxwRlMx",
        "outputId": "7ab50840-177e-4ef7-e8b0-d42a3de25199"
      },
      "id": "5BgIvWxwRlMx",
      "execution_count": null,
      "outputs": [
        {
          "output_type": "execute_result",
          "data": {
            "text/plain": [
              "        seconds       minutes        hours       days\n",
              "0  5.577952e+06  92965.863381  1549.431056  64.559627"
            ],
            "text/html": [
              "\n",
              "  <div id=\"df-baff6c82-0532-4145-89cb-cdbfeba28483\">\n",
              "    <div class=\"colab-df-container\">\n",
              "      <div>\n",
              "<style scoped>\n",
              "    .dataframe tbody tr th:only-of-type {\n",
              "        vertical-align: middle;\n",
              "    }\n",
              "\n",
              "    .dataframe tbody tr th {\n",
              "        vertical-align: top;\n",
              "    }\n",
              "\n",
              "    .dataframe thead th {\n",
              "        text-align: right;\n",
              "    }\n",
              "</style>\n",
              "<table border=\"1\" class=\"dataframe\">\n",
              "  <thead>\n",
              "    <tr style=\"text-align: right;\">\n",
              "      <th></th>\n",
              "      <th>seconds</th>\n",
              "      <th>minutes</th>\n",
              "      <th>hours</th>\n",
              "      <th>days</th>\n",
              "    </tr>\n",
              "  </thead>\n",
              "  <tbody>\n",
              "    <tr>\n",
              "      <th>0</th>\n",
              "      <td>5.577952e+06</td>\n",
              "      <td>92965.863381</td>\n",
              "      <td>1549.431056</td>\n",
              "      <td>64.559627</td>\n",
              "    </tr>\n",
              "  </tbody>\n",
              "</table>\n",
              "</div>\n",
              "      <button class=\"colab-df-convert\" onclick=\"convertToInteractive('df-baff6c82-0532-4145-89cb-cdbfeba28483')\"\n",
              "              title=\"Convert this dataframe to an interactive table.\"\n",
              "              style=\"display:none;\">\n",
              "        \n",
              "  <svg xmlns=\"http://www.w3.org/2000/svg\" height=\"24px\"viewBox=\"0 0 24 24\"\n",
              "       width=\"24px\">\n",
              "    <path d=\"M0 0h24v24H0V0z\" fill=\"none\"/>\n",
              "    <path d=\"M18.56 5.44l.94 2.06.94-2.06 2.06-.94-2.06-.94-.94-2.06-.94 2.06-2.06.94zm-11 1L8.5 8.5l.94-2.06 2.06-.94-2.06-.94L8.5 2.5l-.94 2.06-2.06.94zm10 10l.94 2.06.94-2.06 2.06-.94-2.06-.94-.94-2.06-.94 2.06-2.06.94z\"/><path d=\"M17.41 7.96l-1.37-1.37c-.4-.4-.92-.59-1.43-.59-.52 0-1.04.2-1.43.59L10.3 9.45l-7.72 7.72c-.78.78-.78 2.05 0 2.83L4 21.41c.39.39.9.59 1.41.59.51 0 1.02-.2 1.41-.59l7.78-7.78 2.81-2.81c.8-.78.8-2.07 0-2.86zM5.41 20L4 18.59l7.72-7.72 1.47 1.35L5.41 20z\"/>\n",
              "  </svg>\n",
              "      </button>\n",
              "      \n",
              "  <style>\n",
              "    .colab-df-container {\n",
              "      display:flex;\n",
              "      flex-wrap:wrap;\n",
              "      gap: 12px;\n",
              "    }\n",
              "\n",
              "    .colab-df-convert {\n",
              "      background-color: #E8F0FE;\n",
              "      border: none;\n",
              "      border-radius: 50%;\n",
              "      cursor: pointer;\n",
              "      display: none;\n",
              "      fill: #1967D2;\n",
              "      height: 32px;\n",
              "      padding: 0 0 0 0;\n",
              "      width: 32px;\n",
              "    }\n",
              "\n",
              "    .colab-df-convert:hover {\n",
              "      background-color: #E2EBFA;\n",
              "      box-shadow: 0px 1px 2px rgba(60, 64, 67, 0.3), 0px 1px 3px 1px rgba(60, 64, 67, 0.15);\n",
              "      fill: #174EA6;\n",
              "    }\n",
              "\n",
              "    [theme=dark] .colab-df-convert {\n",
              "      background-color: #3B4455;\n",
              "      fill: #D2E3FC;\n",
              "    }\n",
              "\n",
              "    [theme=dark] .colab-df-convert:hover {\n",
              "      background-color: #434B5C;\n",
              "      box-shadow: 0px 1px 3px 1px rgba(0, 0, 0, 0.15);\n",
              "      filter: drop-shadow(0px 1px 2px rgba(0, 0, 0, 0.3));\n",
              "      fill: #FFFFFF;\n",
              "    }\n",
              "  </style>\n",
              "\n",
              "      <script>\n",
              "        const buttonEl =\n",
              "          document.querySelector('#df-baff6c82-0532-4145-89cb-cdbfeba28483 button.colab-df-convert');\n",
              "        buttonEl.style.display =\n",
              "          google.colab.kernel.accessAllowed ? 'block' : 'none';\n",
              "\n",
              "        async function convertToInteractive(key) {\n",
              "          const element = document.querySelector('#df-baff6c82-0532-4145-89cb-cdbfeba28483');\n",
              "          const dataTable =\n",
              "            await google.colab.kernel.invokeFunction('convertToInteractive',\n",
              "                                                     [key], {});\n",
              "          if (!dataTable) return;\n",
              "\n",
              "          const docLinkHtml = 'Like what you see? Visit the ' +\n",
              "            '<a target=\"_blank\" href=https://colab.research.google.com/notebooks/data_table.ipynb>data table notebook</a>'\n",
              "            + ' to learn more about interactive tables.';\n",
              "          element.innerHTML = '';\n",
              "          dataTable['output_type'] = 'display_data';\n",
              "          await google.colab.output.renderOutput(dataTable, element);\n",
              "          const docLink = document.createElement('div');\n",
              "          docLink.innerHTML = docLinkHtml;\n",
              "          element.appendChild(docLink);\n",
              "        }\n",
              "      </script>\n",
              "    </div>\n",
              "  </div>\n",
              "  "
            ]
          },
          "metadata": {},
          "execution_count": 27
        }
      ]
    },
    {
      "cell_type": "code",
      "source": [
        "import matplotlib.pyplot as plt\n",
        "results.r = results.r / (1*(10**9)) \n",
        "results.index = results.index /(60*60*24)\n",
        "plt.plot(results.r, label='distance remaining')\n",
        "decorate(xlabel='Time (Days)',\n",
        "         ylabel='Distance (Million km) ',)\n",
        "plt.title('Distance Remaining vs. Time')\n",
        "plt.show()"
      ],
      "metadata": {
        "colab": {
          "base_uri": "https://localhost:8080/",
          "height": 313
        },
        "id": "LKjBMlrhTU0B",
        "outputId": "b4f80f4b-7f8c-4d5d-c0a1-a991b5dbdc86"
      },
      "id": "LKjBMlrhTU0B",
      "execution_count": null,
      "outputs": [
        {
          "output_type": "display_data",
          "data": {
            "text/plain": [
              "<Figure size 432x288 with 1 Axes>"
            ],
            "image/png": "[encoded data removed]"
          },
          "metadata": {
            "needs_background": "light"
          }
        }
      ]
    }
  ],
  "metadata": {
    "celltoolbar": "Tags",
    "kernelspec": {
      "display_name": "Python 3 (ipykernel)",
      "language": "python",
      "name": "python3"
    },
    "language_info": {
      "codemirror_mode": {
        "name": "ipython",
        "version": 3
      },
      "file_extension": ".py",
      "mimetype": "text/x-python",
      "name": "python",
      "nbconvert_exporter": "python",
      "pygments_lexer": "ipython3",
      "version": "3.7.12"
    },
    "colab": {
      "name": "Final Exam Question 2 DATA 604.ipynb",
      "provenance": [],
      "collapsed_sections": [],
      "include_colab_link": true
    }
  },
  "nbformat": 4,
  "nbformat_minor": 5
}