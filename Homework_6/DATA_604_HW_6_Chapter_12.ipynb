{
  "cells": [
    {
      "cell_type": "markdown",
      "metadata": {
        "id": "view-in-github",
        "colab_type": "text"
      },
      "source": [
        "<a href=\"https://colab.research.google.com/github/st3vejobs/DATA-604/blob/homework/Homework_6/DATA_604_HW_6_Chapter_12.ipynb\" target=\"_parent\"><img src=\"https://colab.research.google.com/assets/colab-badge.svg\" alt=\"Open In Colab\"/></a>"
      ]
    },
    {
      "cell_type": "markdown",
      "metadata": {
        "id": "fpN1oAAGIFh6"
      },
      "source": [
        "# Modeling and Simulation in Python\n",
        "\n",
        "Chapter 12\n",
        "\n",
        "Copyright 2017 Allen Downey\n",
        "\n",
        "License: [Creative Commons Attribution 4.0 International](https://creativecommons.org/licenses/by/4.0)\n"
      ]
    },
    {
      "cell_type": "code",
      "execution_count": 7,
      "metadata": {
        "id": "tRV3aIlcIFh9",
        "colab": {
          "base_uri": "https://localhost:8080/"
        },
        "outputId": "1604a023-5e43-48f0-9c9f-724c6f35de50"
      },
      "outputs": [
        {
          "output_type": "stream",
          "name": "stderr",
          "text": [
            "ERROR:root:The 'ast_node_interactivity' trait of a Shell instance expected any of ['all', 'last', 'last_expr', 'none'], not the str 'last_expr_or_assign'.\n"
          ]
        },
        {
          "output_type": "stream",
          "name": "stdout",
          "text": [
            "Looking in indexes: https://pypi.org/simple, https://us-python.pkg.dev/colab-wheels/public/simple/\n",
            "Collecting pint\n",
            "  Downloading Pint-0.18-py2.py3-none-any.whl (209 kB)\n",
            "\u001b[K     |████████████████████████████████| 209 kB 29.4 MB/s \n",
            "\u001b[?25hRequirement already satisfied: packaging in /usr/local/lib/python3.7/dist-packages (from pint) (21.3)\n",
            "Requirement already satisfied: importlib-metadata in /usr/local/lib/python3.7/dist-packages (from pint) (4.11.4)\n",
            "Requirement already satisfied: typing-extensions>=3.6.4 in /usr/local/lib/python3.7/dist-packages (from importlib-metadata->pint) (4.1.1)\n",
            "Requirement already satisfied: zipp>=0.5 in /usr/local/lib/python3.7/dist-packages (from importlib-metadata->pint) (3.8.0)\n",
            "Requirement already satisfied: pyparsing!=3.0.5,>=2.0.2 in /usr/local/lib/python3.7/dist-packages (from packaging->pint) (3.0.9)\n",
            "Installing collected packages: pint\n",
            "Successfully installed pint-0.18\n",
            "Looking in indexes: https://pypi.org/simple, https://us-python.pkg.dev/colab-wheels/public/simple/\n",
            "Collecting modsimpy\n",
            "  Downloading modsimpy-1.1.3.tar.gz (19 kB)\n",
            "Building wheels for collected packages: modsimpy\n",
            "  Building wheel for modsimpy (setup.py) ... \u001b[?25l\u001b[?25hdone\n",
            "  Created wheel for modsimpy: filename=modsimpy-1.1.3-py3-none-any.whl size=20355 sha256=a75f838da84b4130df36fb16323bf4a81ae0374b1bc3b02e2a08da760f8d398e\n",
            "  Stored in directory: /root/.cache/pip/wheels/bf/5a/b3/5c1cd7a6233db7098df3275086cbd4466fb03ff579a4c0be10\n",
            "Successfully built modsimpy\n",
            "Installing collected packages: modsimpy\n",
            "Successfully installed modsimpy-1.1.3\n",
            "Downloaded modsim.py\n"
          ]
        }
      ],
      "source": [
        "# Configure Jupyter so figures appear in the notebook\n",
        "%matplotlib inline\n",
        "\n",
        "# Configure Jupyter to display the assigned value after an assignment\n",
        "%config InteractiveShell.ast_node_interactivity='last_expr_or_assign'\n",
        "\n",
        "### The pint and modsim modules must be downloaded using the below commands.\n",
        "try:\n",
        "    import pint\n",
        "except ImportError:\n",
        "    !pip install pint\n",
        "    import pint\n",
        "    \n",
        "try:\n",
        "    from modsim import *\n",
        "except ImportError:\n",
        "    !pip install modsimpy\n",
        "    from modsim import *\n",
        "\n",
        "# import functions from the modsim.py module\n",
        "from modsim import *\n",
        "\n",
        "from pandas import read_html\n",
        "\n",
        "from os.path import basename, exists\n",
        "\n",
        "def download(url):\n",
        "    filename = basename(url)\n",
        "    if not exists(filename):\n",
        "        from urllib.request import urlretrieve\n",
        "        local, _ = urlretrieve(url, filename)\n",
        "        print('Downloaded ' + local)\n",
        "    \n",
        "download('https://github.com/AllenDowney/ModSimPy/raw/master/' +\n",
        "         'modsim.py')\n"
      ]
    },
    {
      "cell_type": "markdown",
      "metadata": {
        "id": "2BSZkNKAIFh-"
      },
      "source": [
        "### Code\n",
        "\n",
        "Here's the code from the previous notebook that we'll need."
      ]
    },
    {
      "cell_type": "code",
      "execution_count": 8,
      "metadata": {
        "id": "xt4XnbwZIFh-"
      },
      "outputs": [],
      "source": [
        "def make_system(beta, gamma):\n",
        "    \"\"\"Make a system object for the SIR model.\n",
        "    \n",
        "    beta: contact rate in days\n",
        "    gamma: recovery rate in days\n",
        "    \n",
        "    returns: System object\n",
        "    \"\"\"\n",
        "    init = State(S=89, I=1, R=0)\n",
        "    init /= sum(init)\n",
        "\n",
        "    t0 = 0\n",
        "    t_end = 7 * 14\n",
        "\n",
        "    return System(init=init, t0=t0, t_end=t_end,\n",
        "                  beta=beta, gamma=gamma)"
      ]
    },
    {
      "cell_type": "code",
      "execution_count": 9,
      "metadata": {
        "id": "eq3YybBlIFh_"
      },
      "outputs": [],
      "source": [
        "def update_func(state, t, system):\n",
        "    \"\"\"Update the SIR model.\n",
        "    \n",
        "    state: State with variables S, I, R\n",
        "    t: time step\n",
        "    system: System with beta and gamma\n",
        "    \n",
        "    returns: State object\n",
        "    \"\"\"\n",
        "    s, i, r = state\n",
        "\n",
        "    infected = system.beta * i * s    \n",
        "    recovered = system.gamma * i\n",
        "    \n",
        "    s -= infected\n",
        "    i += infected - recovered\n",
        "    r += recovered\n",
        "    \n",
        "    return State(S=s, I=i, R=r)"
      ]
    },
    {
      "cell_type": "code",
      "execution_count": 10,
      "metadata": {
        "id": "qJKD4zb2IFh_"
      },
      "outputs": [],
      "source": [
        "def run_simulation(system, update_func):\n",
        "    \"\"\"Runs a simulation of the system.\n",
        "        \n",
        "    system: System object\n",
        "    update_func: function that updates state\n",
        "    \n",
        "    returns: TimeFrame\n",
        "    \"\"\"\n",
        "    frame = TimeFrame(columns=system.init.index)\n",
        "    frame.row[system.t0] = system.init\n",
        "    \n",
        "    for t in linrange(system.t0, system.t_end):\n",
        "        frame.row[t+1] = update_func(frame.row[t], t, system)\n",
        "    \n",
        "    return frame"
      ]
    },
    {
      "cell_type": "markdown",
      "metadata": {
        "id": "sMl4t_3vIFh_"
      },
      "source": [
        "### Metrics"
      ]
    },
    {
      "cell_type": "markdown",
      "metadata": {
        "id": "IzZJFajGIFh_"
      },
      "source": [
        "Given the results, we can compute metrics that quantify whatever we are interested in, like the total number of sick students, for example."
      ]
    },
    {
      "cell_type": "code",
      "execution_count": 11,
      "metadata": {
        "id": "U6no_c_oIFiA"
      },
      "outputs": [],
      "source": [
        "def calc_total_infected(results):\n",
        "    \"\"\"Fraction of population infected during the simulation.\n",
        "    \n",
        "    results: DataFrame with columns S, I, R\n",
        "    \n",
        "    returns: fraction of population\n",
        "    \"\"\"\n",
        "    return get_first_value(results.S) - get_last_value(results.S)"
      ]
    },
    {
      "cell_type": "markdown",
      "metadata": {
        "id": "BC8yUpHZIFiA"
      },
      "source": [
        "Here's an example.|"
      ]
    },
    {
      "cell_type": "code",
      "execution_count": 12,
      "metadata": {
        "id": "sdmIJjLIIFiA",
        "colab": {
          "base_uri": "https://localhost:8080/"
        },
        "outputId": "243954d7-1bee-4834-be59-ab77e0734cde"
      },
      "outputs": [
        {
          "output_type": "stream",
          "name": "stdout",
          "text": [
            "0.333 0.25 0.46716293183605073\n"
          ]
        }
      ],
      "source": [
        "beta = 0.333\n",
        "gamma = 0.25\n",
        "system = make_system(beta, gamma)\n",
        "\n",
        "results = run_simulation(system, update_func)\n",
        "print(beta, gamma, calc_total_infected(results))"
      ]
    },
    {
      "cell_type": "markdown",
      "metadata": {
        "id": "nyac71dIIFiB"
      },
      "source": [
        "**Exercise:** Write functions that take a `TimeFrame` object as a parameter and compute the other metrics mentioned in the book:\n",
        "\n",
        "1.  The fraction of students who are sick at the peak of the outbreak.\n",
        "\n",
        "2.  The day the outbreak peaks.\n",
        "\n",
        "3.  The fraction of students who are sick at the end of the semester.\n",
        "\n",
        "Note: Not all of these functions require the `System` object, but when you write a set of related functons, it is often convenient if they all take the same parameters.\n",
        "\n",
        "Hint:  If you have a `TimeSeries` called `I`, you can compute the largest value of the series like this:\n",
        "\n",
        "    I.max()\n",
        "\n",
        "And the index of the largest value like this:\n",
        "\n",
        "    I.idxmax()\n",
        "\n",
        "You can read about these functions in the `Series` [documentation](https://pandas.pydata.org/pandas-docs/stable/generated/pandas.Series.html)."
      ]
    },
    {
      "cell_type": "code",
      "execution_count": 13,
      "metadata": {
        "id": "Ev-ADazwIFiB"
      },
      "outputs": [],
      "source": [
        "# Solution goes here"
      ]
    },
    {
      "cell_type": "code",
      "execution_count": 14,
      "metadata": {
        "id": "8YcYEAkUIFiB"
      },
      "outputs": [],
      "source": [
        "# Solution goes here"
      ]
    },
    {
      "cell_type": "code",
      "execution_count": 15,
      "metadata": {
        "id": "kDzgQ6ekIFiB"
      },
      "outputs": [],
      "source": [
        "# Solution goes here"
      ]
    },
    {
      "cell_type": "markdown",
      "metadata": {
        "id": "j_cSu3hfIFiB"
      },
      "source": [
        "### What if?"
      ]
    },
    {
      "cell_type": "markdown",
      "metadata": {
        "id": "k4nEzt4qIFiC"
      },
      "source": [
        "We can use this model to evaluate \"what if\" scenarios.  For example, this function models the effect of immunization by moving some fraction of the population from S to R before the simulation starts."
      ]
    },
    {
      "cell_type": "code",
      "execution_count": 16,
      "metadata": {
        "id": "5YqRZjOQIFiC"
      },
      "outputs": [],
      "source": [
        "def add_immunization(system, fraction):\n",
        "    \"\"\"Immunize a fraction of the population.\n",
        "    \n",
        "    Moves the given fraction from S to R.\n",
        "    \n",
        "    system: System object\n",
        "    fraction: number from 0 to 1\n",
        "    \"\"\"\n",
        "    system.init.S -= fraction\n",
        "    system.init.R += fraction"
      ]
    },
    {
      "cell_type": "markdown",
      "metadata": {
        "id": "9ns9uxZ0IFiC"
      },
      "source": [
        "Let's start again with the system we used in the previous sections."
      ]
    },
    {
      "cell_type": "code",
      "execution_count": 17,
      "metadata": {
        "id": "UshV0SlRIFiC"
      },
      "outputs": [],
      "source": [
        "tc = 3      # time between contacts in days \n",
        "tr = 4      # recovery time in days\n",
        "\n",
        "beta = 1 / tc      # contact rate in per day\n",
        "gamma = 1 / tr     # recovery rate in per day\n",
        "\n",
        "system = make_system(beta, gamma)"
      ]
    },
    {
      "cell_type": "markdown",
      "metadata": {
        "id": "1I1Zf029IFiC"
      },
      "source": [
        "And run the model without immunization."
      ]
    },
    {
      "cell_type": "code",
      "execution_count": 18,
      "metadata": {
        "id": "GKUUCn2cIFiD",
        "colab": {
          "base_uri": "https://localhost:8080/"
        },
        "outputId": "e2af0b2e-92ff-4a17-ec1d-8da79608dde2"
      },
      "outputs": [
        {
          "output_type": "execute_result",
          "data": {
            "text/plain": [
              "0.468320811028781"
            ]
          },
          "metadata": {},
          "execution_count": 18
        }
      ],
      "source": [
        "results = run_simulation(system, update_func)\n",
        "calc_total_infected(results)"
      ]
    },
    {
      "cell_type": "markdown",
      "metadata": {
        "id": "dy8hUiemIFiD"
      },
      "source": [
        "Now with 10% immunization."
      ]
    },
    {
      "cell_type": "code",
      "execution_count": 19,
      "metadata": {
        "id": "71tkMOm9IFiD",
        "colab": {
          "base_uri": "https://localhost:8080/"
        },
        "outputId": "0c55aee6-6653-4dc2-a4f1-38c073a12df6"
      },
      "outputs": [
        {
          "output_type": "execute_result",
          "data": {
            "text/plain": [
              "0.30650802853979753"
            ]
          },
          "metadata": {},
          "execution_count": 19
        }
      ],
      "source": [
        "system2 = make_system(beta, gamma)\n",
        "add_immunization(system2, 0.1)\n",
        "results2 = run_simulation(system2, update_func)\n",
        "calc_total_infected(results2)"
      ]
    },
    {
      "cell_type": "markdown",
      "metadata": {
        "id": "1Isatd36IFiD"
      },
      "source": [
        "10% immunization leads to a drop in infections of 16 percentage points.\n",
        "\n",
        "Here's what the time series looks like for S, with and without immunization."
      ]
    },
    {
      "cell_type": "code",
      "execution_count": 21,
      "metadata": {
        "id": "h3epD5_2IFiE",
        "colab": {
          "base_uri": "https://localhost:8080/",
          "height": 288
        },
        "outputId": "1c8945f4-8df6-4651-b89e-3526d491ed52"
      },
      "outputs": [
        {
          "output_type": "display_data",
          "data": {
            "text/plain": [
              "<Figure size 432x288 with 1 Axes>"
            ],
            "image/png": "[encoded data removed]"
          },
          "metadata": {}
        }
      ],
      "source": [
        "plot(results.S, '-', label='No immunization')\n",
        "plot(results2.S, '--', label='10% immunization')\n",
        "\n",
        "decorate(xlabel='Time (days)',\n",
        "         ylabel='Fraction susceptible')\n",
        "\n"
      ]
    },
    {
      "cell_type": "markdown",
      "metadata": {
        "id": "29IppehiIFiE"
      },
      "source": [
        "Now we can sweep through a range of values for the fraction of the population who are immunized."
      ]
    },
    {
      "cell_type": "code",
      "execution_count": 22,
      "metadata": {
        "id": "IUQTdZE6IFiE",
        "colab": {
          "base_uri": "https://localhost:8080/"
        },
        "outputId": "f006f60b-1942-4ced-bf12-84b9be585007"
      },
      "outputs": [
        {
          "output_type": "stream",
          "name": "stdout",
          "text": [
            "0.0 0.468320811028781\n",
            "0.1 0.30650802853979753\n",
            "0.2 0.16136545700638427\n",
            "0.30000000000000004 0.0728155898425179\n",
            "0.4 0.03552021675299155\n",
            "0.5 0.019688715782459176\n",
            "0.6000000000000001 0.011622057998337987\n",
            "0.7000000000000001 0.006838737800619332\n",
            "0.8 0.003696496253713877\n",
            "0.9 0.0014815326722661948\n",
            "1.0 -0.00016121210941239666\n"
          ]
        }
      ],
      "source": [
        "immunize_array = linspace(0, 1, 11)\n",
        "for fraction in immunize_array:\n",
        "    system = make_system(beta, gamma)\n",
        "    add_immunization(system, fraction)\n",
        "    results = run_simulation(system, update_func)\n",
        "    print(fraction, calc_total_infected(results))"
      ]
    },
    {
      "cell_type": "markdown",
      "metadata": {
        "id": "e76Q1o4QIFiE"
      },
      "source": [
        "This function does the same thing and stores the results in a `Sweep` object."
      ]
    },
    {
      "cell_type": "code",
      "execution_count": 23,
      "metadata": {
        "id": "-Y-8qHYsIFiE"
      },
      "outputs": [],
      "source": [
        "def sweep_immunity(immunize_array):\n",
        "    \"\"\"Sweeps a range of values for immunity.\n",
        "    \n",
        "    immunize_array: array of fraction immunized\n",
        "    \n",
        "    returns: Sweep object\n",
        "    \"\"\"\n",
        "    sweep = SweepSeries()\n",
        "    \n",
        "    for fraction in immunize_array:\n",
        "        system = make_system(beta, gamma)\n",
        "        add_immunization(system, fraction)\n",
        "        results = run_simulation(system, update_func)\n",
        "        sweep[fraction] = calc_total_infected(results)\n",
        "        \n",
        "    return sweep"
      ]
    },
    {
      "cell_type": "markdown",
      "metadata": {
        "id": "tBf5YaRRIFiE"
      },
      "source": [
        "Here's how we run it."
      ]
    },
    {
      "cell_type": "code",
      "execution_count": 24,
      "metadata": {
        "scrolled": true,
        "id": "BqkyBSINIFiE"
      },
      "outputs": [],
      "source": [
        "immunize_array = linspace(0, 1, 21)\n",
        "infected_sweep = sweep_immunity(immunize_array)"
      ]
    },
    {
      "cell_type": "markdown",
      "metadata": {
        "id": "-GIKftNAIFiF"
      },
      "source": [
        "And here's what the results look like."
      ]
    },
    {
      "cell_type": "code",
      "execution_count": 26,
      "metadata": {
        "id": "KuTKWAGkIFiF",
        "colab": {
          "base_uri": "https://localhost:8080/",
          "height": 288
        },
        "outputId": "de63a88d-cb64-4ed7-ec58-77296ecd2af9"
      },
      "outputs": [
        {
          "output_type": "display_data",
          "data": {
            "text/plain": [
              "<Figure size 432x288 with 1 Axes>"
            ],
            "image/png": "[encoded data removed]"
          },
          "metadata": {}
        }
      ],
      "source": [
        "plot(infected_sweep)\n",
        "\n",
        "decorate(xlabel='Fraction immunized',\n",
        "         ylabel='Total fraction infected',\n",
        "         title='Fraction infected vs. immunization rate',\n",
        "         legend=False)\n"
      ]
    },
    {
      "cell_type": "markdown",
      "metadata": {
        "id": "p_Rlmsu8IFiF"
      },
      "source": [
        "If 40% of the population is immunized, less than 4% of the population gets sick."
      ]
    },
    {
      "cell_type": "markdown",
      "metadata": {
        "id": "ziSrhcnrIFiF"
      },
      "source": [
        "### Logistic function"
      ]
    },
    {
      "cell_type": "markdown",
      "metadata": {
        "id": "gSfwun7XIFiG"
      },
      "source": [
        "To model the effect of a hand-washing campaign, I'll use a [generalized logistic function](https://en.wikipedia.org/wiki/Generalised_logistic_function) (GLF), which is a convenient function for modeling curves that have a generally sigmoid shape.  The parameters of the GLF correspond to various features of the curve in a way that makes it easy to find a function that has the shape you want, based on data or background information about the scenario."
      ]
    },
    {
      "cell_type": "code",
      "execution_count": 27,
      "metadata": {
        "id": "i1MUwRgXIFiG"
      },
      "outputs": [],
      "source": [
        "def logistic(x, A=0, B=1, C=1, M=0, K=1, Q=1, nu=1):\n",
        "    \"\"\"Computes the generalize logistic function.\n",
        "    \n",
        "    A: controls the lower bound\n",
        "    B: controls the steepness of the transition \n",
        "    C: not all that useful, AFAIK\n",
        "    M: controls the location of the transition\n",
        "    K: controls the upper bound\n",
        "    Q: shift the transition left or right\n",
        "    nu: affects the symmetry of the transition\n",
        "    \n",
        "    returns: float or array\n",
        "    \"\"\"\n",
        "    exponent = -B * (x - M)\n",
        "    denom = C + Q * exp(exponent)\n",
        "    return A + (K-A) / denom ** (1/nu)"
      ]
    },
    {
      "cell_type": "markdown",
      "metadata": {
        "id": "RspP7KloIFiH"
      },
      "source": [
        "The following array represents the range of possible spending."
      ]
    },
    {
      "cell_type": "code",
      "execution_count": 28,
      "metadata": {
        "id": "bY1UVHO2IFiH"
      },
      "outputs": [],
      "source": [
        "spending = linspace(0, 1200, 21)"
      ]
    },
    {
      "cell_type": "markdown",
      "metadata": {
        "id": "O-00iKPpIFiH"
      },
      "source": [
        "`compute_factor` computes the reduction in `beta` for a given level of campaign spending.\n",
        "\n",
        "`M` is chosen so the transition happens around \\$500.\n",
        "\n",
        "`K` is the maximum reduction in `beta`, 20%.\n",
        "\n",
        "`B` is chosen by trial and error to yield a curve that seems feasible."
      ]
    },
    {
      "cell_type": "code",
      "execution_count": 29,
      "metadata": {
        "id": "OInbRQf3IFiH"
      },
      "outputs": [],
      "source": [
        "def compute_factor(spending):\n",
        "    \"\"\"Reduction factor as a function of spending.\n",
        "    \n",
        "    spending: dollars from 0 to 1200\n",
        "    \n",
        "    returns: fractional reduction in beta\n",
        "    \"\"\"\n",
        "    return logistic(spending, M=500, K=0.2, B=0.01)"
      ]
    },
    {
      "cell_type": "markdown",
      "metadata": {
        "id": "ShsHW316IFiH"
      },
      "source": [
        "Here's what it looks like."
      ]
    },
    {
      "cell_type": "code",
      "execution_count": 30,
      "metadata": {
        "id": "6a5EZwFTIFiH",
        "colab": {
          "base_uri": "https://localhost:8080/",
          "height": 294
        },
        "outputId": "ab046d99-d5ba-4c3b-dd27-6940f635de72"
      },
      "outputs": [
        {
          "output_type": "display_data",
          "data": {
            "text/plain": [
              "<Figure size 432x288 with 1 Axes>"
            ],
            "image/png": "[encoded data removed]"
          },
          "metadata": {}
        }
      ],
      "source": [
        "percent_reduction = compute_factor(spending) * 100\n",
        "\n",
        "plot(spending, percent_reduction)\n",
        "\n",
        "decorate(xlabel='Hand-washing campaign spending (USD)',\n",
        "         ylabel='Percent reduction in infection rate',\n",
        "         title='Effect of hand washing on infection rate',\n",
        "         legend=False)"
      ]
    },
    {
      "cell_type": "markdown",
      "metadata": {
        "id": "sAyR38mjIFiI"
      },
      "source": [
        "**Exercise:** Modify the parameters `M`, `K`, and `B`, and see what effect they have on the shape of the curve.  Read about the [generalized logistic function on Wikipedia](https://en.wikipedia.org/wiki/Generalised_logistic_function).  Modify the other parameters and see what effect they have."
      ]
    },
    {
      "cell_type": "markdown",
      "metadata": {
        "id": "lgXGUfs9IFiI"
      },
      "source": [
        "### Hand washing"
      ]
    },
    {
      "cell_type": "markdown",
      "metadata": {
        "id": "rCn_FR7wIFiI"
      },
      "source": [
        "Now we can model the effect of a hand-washing campaign by modifying `beta`"
      ]
    },
    {
      "cell_type": "code",
      "execution_count": 31,
      "metadata": {
        "id": "0DHt1Y4TIFiI"
      },
      "outputs": [],
      "source": [
        "def add_hand_washing(system, spending):\n",
        "    \"\"\"Modifies system to model the effect of hand washing.\n",
        "    \n",
        "    system: System object\n",
        "    spending: campaign spending in USD\n",
        "    \"\"\"\n",
        "    factor = compute_factor(spending)\n",
        "    system.beta *= (1 - factor)"
      ]
    },
    {
      "cell_type": "markdown",
      "metadata": {
        "id": "kNH-vLTaIFiI"
      },
      "source": [
        "Let's start with the same values of `beta` and `gamma` we've been using."
      ]
    },
    {
      "cell_type": "code",
      "execution_count": 32,
      "metadata": {
        "id": "4rbG3zw5IFiI",
        "colab": {
          "base_uri": "https://localhost:8080/"
        },
        "outputId": "8e1f70e7-1038-42bc-b169-78a74255c1b0"
      },
      "outputs": [
        {
          "output_type": "execute_result",
          "data": {
            "text/plain": [
              "(0.3333333333333333, 0.25)"
            ]
          },
          "metadata": {},
          "execution_count": 32
        }
      ],
      "source": [
        "tc = 3      # time between contacts in days \n",
        "tr = 4      # recovery time in days\n",
        "\n",
        "beta = 1 / tc      # contact rate in per day\n",
        "gamma = 1 / tr     # recovery rate in per day\n",
        "\n",
        "beta, gamma"
      ]
    },
    {
      "cell_type": "markdown",
      "metadata": {
        "id": "RPyeAlkAIFiJ"
      },
      "source": [
        "Now we can sweep different levels of campaign spending."
      ]
    },
    {
      "cell_type": "code",
      "execution_count": 33,
      "metadata": {
        "id": "MwUM_kM9IFiJ",
        "colab": {
          "base_uri": "https://localhost:8080/"
        },
        "outputId": "59db93b5-bd21-42cc-c695-cab4cc8c3823"
      },
      "outputs": [
        {
          "output_type": "stream",
          "name": "stdout",
          "text": [
            "0.0 0.3328871432717143 0.4667702312363652\n",
            "100.0 0.3321342526691939 0.46414165040064037\n",
            "200.0 0.33017160845482885 0.4572170063132055\n",
            "300.0 0.32538647186519215 0.4398872029120663\n",
            "400.0 0.3154039052420003 0.40163064627138245\n",
            "500.0 0.3 0.3370342594898199\n",
            "600.0 0.28459609475799963 0.26731703056804546\n",
            "700.0 0.2746135281348078 0.22184699045990752\n",
            "800.0 0.26982839154517113 0.20079159841614402\n",
            "900.0 0.2678657473308061 0.1923921833925878\n",
            "1000.0 0.26711285672828566 0.18921320781833872\n",
            "1100.0 0.26683150821044227 0.18803175228016467\n",
            "1200.0 0.26672740341296003 0.1875955039953746\n"
          ]
        }
      ],
      "source": [
        "spending_array = linspace(0, 1200, 13)\n",
        "\n",
        "for spending in spending_array:\n",
        "    system = make_system(beta, gamma)\n",
        "    add_hand_washing(system, spending)\n",
        "    results = run_simulation(system, update_func)\n",
        "    print(spending, system.beta, calc_total_infected(results))"
      ]
    },
    {
      "cell_type": "markdown",
      "metadata": {
        "id": "2XP7ah5_IFiJ"
      },
      "source": [
        "Here's a function that sweeps a range of spending and stores the results in a `SweepSeries`."
      ]
    },
    {
      "cell_type": "code",
      "execution_count": 34,
      "metadata": {
        "id": "5ih76TVbIFiJ"
      },
      "outputs": [],
      "source": [
        "def sweep_hand_washing(spending_array):\n",
        "    \"\"\"Run simulations with a range of spending.\n",
        "    \n",
        "    spending_array: array of dollars from 0 to 1200\n",
        "    \n",
        "    returns: Sweep object\n",
        "    \"\"\"\n",
        "    sweep = SweepSeries()\n",
        "    \n",
        "    for spending in spending_array:\n",
        "        system = make_system(beta, gamma)\n",
        "        add_hand_washing(system, spending)\n",
        "        results = run_simulation(system, update_func)\n",
        "        sweep[spending] = calc_total_infected(results)\n",
        "        \n",
        "    return sweep"
      ]
    },
    {
      "cell_type": "markdown",
      "metadata": {
        "id": "fR-LHD42IFiK"
      },
      "source": [
        "Here's how we run it."
      ]
    },
    {
      "cell_type": "code",
      "execution_count": 35,
      "metadata": {
        "id": "-UptaXTbIFiK"
      },
      "outputs": [],
      "source": [
        "spending_array = linspace(0, 1200, 20)\n",
        "infected_sweep = sweep_hand_washing(spending_array)"
      ]
    },
    {
      "cell_type": "markdown",
      "metadata": {
        "id": "GwawP58wIFiK"
      },
      "source": [
        "And here's what it looks like."
      ]
    },
    {
      "cell_type": "code",
      "execution_count": 37,
      "metadata": {
        "id": "aIHO1l8-IFiK",
        "colab": {
          "base_uri": "https://localhost:8080/",
          "height": 288
        },
        "outputId": "fa846077-e39f-40ff-c01c-e02cc89dce2e"
      },
      "outputs": [
        {
          "output_type": "display_data",
          "data": {
            "text/plain": [
              "<Figure size 432x288 with 1 Axes>"
            ],
            "image/png": "[encoded data removed]"
          },
          "metadata": {}
        }
      ],
      "source": [
        "plot(infected_sweep)\n",
        "\n",
        "decorate(xlabel='Hand-washing campaign spending (USD)',\n",
        "         ylabel='Total fraction infected',\n",
        "         title='Effect of hand washing on total infections',\n",
        "         legend=False)\n",
        "\n"
      ]
    },
    {
      "cell_type": "markdown",
      "metadata": {
        "id": "u0g1gpEMIFiK"
      },
      "source": [
        "Now let's put it all together to make some public health spending decisions."
      ]
    },
    {
      "cell_type": "markdown",
      "metadata": {
        "id": "anE8uhHYIFiK"
      },
      "source": [
        "### Optimization"
      ]
    },
    {
      "cell_type": "markdown",
      "metadata": {
        "id": "vfndlTs0IFiK"
      },
      "source": [
        "Suppose we have \\$1200 to spend on any combination of vaccines and a hand-washing campaign."
      ]
    },
    {
      "cell_type": "code",
      "execution_count": 39,
      "metadata": {
        "id": "tO5MutjhIFiL",
        "colab": {
          "base_uri": "https://localhost:8080/"
        },
        "outputId": "0ca3ea1b-a9a3-4855-f68e-f722a7b22c7d"
      },
      "outputs": [
        {
          "output_type": "execute_result",
          "data": {
            "text/plain": [
              "12"
            ]
          },
          "metadata": {},
          "execution_count": 39
        }
      ],
      "source": [
        "num_students = 90\n",
        "budget = 1200\n",
        "price_per_dose = 100\n",
        "max_doses = int(budget / price_per_dose)\n",
        "dose_array = linrange(max_doses, endpoint=True)\n",
        "max_doses"
      ]
    },
    {
      "cell_type": "markdown",
      "metadata": {
        "id": "NNqrP98uIFiL"
      },
      "source": [
        "We can sweep through a range of doses from, 0 to `max_doses`, model the effects of immunization and the hand-washing campaign, and run simulations.\n",
        "\n",
        "For each scenario, we compute the fraction of students who get sick."
      ]
    },
    {
      "cell_type": "code",
      "execution_count": 40,
      "metadata": {
        "id": "QiLcOAC1IFiL",
        "colab": {
          "base_uri": "https://localhost:8080/"
        },
        "outputId": "1a3bf618-6839-4f4e-80c6-033211d79a31"
      },
      "outputs": [
        {
          "output_type": "stream",
          "name": "stdout",
          "text": [
            "0 0.9888888888888889 0.26672740341296003 0.1875955039953746\n",
            "1 0.9777777777777779 0.26683150821044227 0.17458071882622528\n",
            "2 0.9666666666666667 0.26711285672828566 0.16290983834857686\n",
            "3 0.9555555555555556 0.2678657473308061 0.15350834947768177\n",
            "4 0.9444444444444445 0.26982839154517113 0.1485650923152827\n",
            "5 0.9333333333333333 0.2746135281348078 0.15294595061102179\n",
            "6 0.9222222222222223 0.28459609475799963 0.1749644150235239\n",
            "7 0.9111111111111112 0.3 0.21734316168444845\n",
            "8 0.9 0.3154039052420003 0.2590710444883414\n",
            "9 0.888888888888889 0.32538647186519215 0.27840288410342784\n",
            "10 0.8777777777777778 0.33017160845482885 0.2779145346228302\n",
            "11 0.8666666666666667 0.3321342526691939 0.2673574966927026\n",
            "12 0.8555555555555556 0.3328871432717143 0.25279694563572175\n"
          ]
        }
      ],
      "source": [
        "for doses in dose_array:\n",
        "    fraction = doses / num_students\n",
        "    spending = budget - doses * price_per_dose\n",
        "    \n",
        "    system = make_system(beta, gamma)\n",
        "    add_immunization(system, fraction)\n",
        "    add_hand_washing(system, spending)\n",
        "    \n",
        "    results = run_simulation(system, update_func)\n",
        "    print(doses, system.init.S, system.beta, calc_total_infected(results))"
      ]
    },
    {
      "cell_type": "markdown",
      "metadata": {
        "id": "McNlk6XyIFiL"
      },
      "source": [
        "The following function wraps that loop and stores the results in a `Sweep` object."
      ]
    },
    {
      "cell_type": "code",
      "execution_count": 41,
      "metadata": {
        "id": "t9R8rjHdIFiL"
      },
      "outputs": [],
      "source": [
        "def sweep_doses(dose_array):\n",
        "    \"\"\"Runs simulations with different doses and campaign spending.\n",
        "    \n",
        "    dose_array: range of values for number of vaccinations\n",
        "    \n",
        "    return: Sweep object with total number of infections \n",
        "    \"\"\"\n",
        "    sweep = SweepSeries()\n",
        "    \n",
        "    for doses in dose_array:\n",
        "        fraction = doses / num_students\n",
        "        spending = budget - doses * price_per_dose\n",
        "        \n",
        "        system = make_system(beta, gamma)\n",
        "        add_immunization(system, fraction)\n",
        "        add_hand_washing(system, spending)\n",
        "        \n",
        "        results = run_simulation(system, update_func)\n",
        "        sweep[doses] = calc_total_infected(results)\n",
        "\n",
        "    return sweep"
      ]
    },
    {
      "cell_type": "markdown",
      "metadata": {
        "id": "DSPomPDmIFiL"
      },
      "source": [
        "Now we can compute the number of infected students for each possible allocation of the budget."
      ]
    },
    {
      "cell_type": "code",
      "execution_count": 42,
      "metadata": {
        "id": "sBZdEFgKIFiM"
      },
      "outputs": [],
      "source": [
        "infected_sweep = sweep_doses(dose_array)"
      ]
    },
    {
      "cell_type": "markdown",
      "metadata": {
        "id": "5x12dqLXIFiM"
      },
      "source": [
        "And plot the results."
      ]
    },
    {
      "cell_type": "code",
      "execution_count": 44,
      "metadata": {
        "id": "9dcQdtxTIFiM",
        "colab": {
          "base_uri": "https://localhost:8080/",
          "height": 288
        },
        "outputId": "cc80ae13-81b9-4727-d7fc-e1d9e9034e8b"
      },
      "outputs": [
        {
          "output_type": "display_data",
          "data": {
            "text/plain": [
              "<Figure size 432x288 with 1 Axes>"
            ],
            "image/png": "[encoded data removed]"
          },
          "metadata": {}
        }
      ],
      "source": [
        "plot(infected_sweep)\n",
        "\n",
        "decorate(xlabel='Doses of vaccine',\n",
        "         ylabel='Total fraction infected',\n",
        "         title='Total infections vs. doses',\n",
        "         legend=False)\n"
      ]
    },
    {
      "cell_type": "markdown",
      "metadata": {
        "id": "LXDHmsR_IFiM"
      },
      "source": [
        "### Exercises\n",
        "\n",
        "**Exercise:** Suppose the price of the vaccine drops to $50 per dose.  How does that affect the optimal allocation of the spending?"
      ]
    },
    {
      "cell_type": "markdown",
      "source": [
        "### Answer:\n",
        "\n",
        "If the price of the vaccine drops to \\$50 per dose, the maximum number of doses given a \\$1200 budget will increase to 24. I would expect that there will be more money available for the handwashing campaign as well. If \\$800 is omptimal for the handwashing campaign, then it will be possible to vaccinate 8 people while keeping the optimal handwashing expense. "
      ],
      "metadata": {
        "id": "MAnXKpuGKOBP"
      }
    },
    {
      "cell_type": "code",
      "source": [
        "num_students = 90\n",
        "budget = 1200\n",
        "price_per_dose = 50\n",
        "max_doses = int(budget / price_per_dose)\n",
        "dose_array = linrange(max_doses, endpoint=True)\n",
        "max_doses\n",
        "\n",
        "\n",
        "for doses in dose_array:\n",
        "    fraction = doses / num_students\n",
        "    spending = budget - doses * price_per_dose\n",
        "    \n",
        "    system = make_system(beta, gamma)\n",
        "    add_immunization(system, fraction)\n",
        "    add_hand_washing(system, spending)\n",
        "    \n",
        "    results = run_simulation(system, update_func)\n",
        "    print(doses, system.init.S, system.beta, calc_total_infected(results))\n",
        "\n",
        "def sweep_doses(dose_array):\n",
        "    \"\"\"Runs simulations with different doses and campaign spending.\n",
        "    \n",
        "    dose_array: range of values for number of vaccinations\n",
        "    \n",
        "    return: Sweep object with total number of infections \n",
        "    \"\"\"\n",
        "    sweep = SweepSeries()\n",
        "    \n",
        "    for doses in dose_array:\n",
        "        fraction = doses / num_students\n",
        "        spending = budget - doses * price_per_dose\n",
        "        \n",
        "        system = make_system(beta, gamma)\n",
        "        add_immunization(system, fraction)\n",
        "        add_hand_washing(system, spending)\n",
        "        \n",
        "        results = run_simulation(system, update_func)\n",
        "        sweep[doses] = calc_total_infected(results)\n",
        "\n",
        "    return sweep\n",
        "\n",
        "\n",
        "infected_sweep = sweep_doses(dose_array)\n",
        "\n",
        "plot(infected_sweep)\n",
        "\n",
        "decorate(xlabel='Doses of vaccine',\n",
        "         ylabel='Total fraction infected',\n",
        "         title='Total infections vs. doses',\n",
        "         legend=False)\n",
        "\n"
      ],
      "metadata": {
        "colab": {
          "base_uri": "https://localhost:8080/",
          "height": 734
        },
        "id": "IJMhREmnLdNf",
        "outputId": "f95d7b6c-be5d-49f5-ee58-d2790d980ed2"
      },
      "execution_count": 45,
      "outputs": [
        {
          "output_type": "stream",
          "name": "stdout",
          "text": [
            "0 0.9888888888888889 0.26672740341296003 0.1875955039953746\n",
            "1 0.9777777777777779 0.26676674548378243 0.1743247948919835\n",
            "2 0.9666666666666667 0.26683150821044227 0.16186489064019816\n",
            "3 0.9555555555555556 0.2669380091810597 0.15027269543863153\n",
            "4 0.9444444444444445 0.26711285672828566 0.13961230443995154\n",
            "5 0.9333333333333333 0.2673991295087062 0.12996358194403557\n",
            "6 0.9222222222222223 0.2678657473308061 0.12143480916638649\n",
            "7 0.9111111111111112 0.26862081538342375 0.11418037085597799\n",
            "8 0.9 0.26982839154517113 0.10842378710730838\n",
            "9 0.888888888888889 0.2717238786680829 0.10448337420345766\n",
            "10 0.8777777777777778 0.2746135281348078 0.10278809822691182\n",
            "11 0.8666666666666667 0.27882836825375706 0.10384617953405528\n",
            "12 0.8555555555555556 0.28459609475799963 0.10808357014846459\n",
            "13 0.8444444444444446 0.291836044586543 0.11545011940928851\n",
            "14 0.8333333333333334 0.3 0.12487748027930945\n",
            "15 0.8222222222222223 0.308163955413457 0.13414988309928788\n",
            "16 0.8111111111111111 0.3154039052420003 0.14076454366302038\n",
            "17 0.8 0.32117163174624286 0.1432024907477738\n",
            "18 0.788888888888889 0.32538647186519215 0.14139228717345576\n",
            "19 0.7777777777777778 0.3282761213319171 0.13622953434928864\n",
            "20 0.7666666666666667 0.33017160845482885 0.1288888309908195\n",
            "21 0.7555555555555555 0.33137918461657623 0.12040298646488024\n",
            "22 0.7444444444444445 0.3321342526691939 0.11152660171117068\n",
            "23 0.7333333333333334 0.3326008704912938 0.1027509074946692\n",
            "24 0.7222222222222223 0.3328871432717143 0.09436692248570877\n"
          ]
        },
        {
          "output_type": "display_data",
          "data": {
            "text/plain": [
              "<Figure size 432x288 with 1 Axes>"
            ],
            "image/png": "[encoded data removed]"
          },
          "metadata": {}
        }
      ]
    },
    {
      "cell_type": "markdown",
      "source": [
        "### Comments\n",
        "\n",
        "The infections vs. doses plot became much steeper than it was when each dose was \\$100. It seems like the sweet spot here is \\$500 spent on vaccine doses, and \\$700 spent on the handwashing campaign."
      ],
      "metadata": {
        "id": "36Ly7m2ZMQa4"
      }
    },
    {
      "cell_type": "markdown",
      "metadata": {
        "id": "iDvLiMxaIFiM"
      },
      "source": [
        "**Exercise:** Suppose we have the option to quarantine infected students.  For example, a student who feels ill might be moved to an infirmary, or a private dorm room, until they are no longer infectious.\n",
        "\n",
        "How might you incorporate the effect of quarantine in the SIR model?"
      ]
    },
    {
      "cell_type": "markdown",
      "source": [
        "## Answer\n",
        "\n",
        "In the basic SIR model, quarantined students would be represented in the same way that dead students would be. They would be added to the list of recovered students for transmission related purposes. Having an only three faceted model restricts quality of the descriptive ability of the data. \n",
        "\n",
        "Similar to the add_handwashing parameter, we can implement an add_quarantine parameter. I am not sure what the best way would be. I would manipulate gamma, which reflects the recovery time. \n",
        "\n",
        "With that being said, I think that changing gamma to such an extreme would be very harmful to the model (recovery time would decrease across the board), so I would try to find another way around it. \n",
        "We need to find a way to change gamma on a smaller scale. "
      ],
      "metadata": {
        "id": "HuEYNPotOOEJ"
      }
    }
  ],
  "metadata": {
    "kernelspec": {
      "display_name": "Python 3",
      "language": "python",
      "name": "python3"
    },
    "language_info": {
      "codemirror_mode": {
        "name": "ipython",
        "version": 3
      },
      "file_extension": ".py",
      "mimetype": "text/x-python",
      "name": "python",
      "nbconvert_exporter": "python",
      "pygments_lexer": "ipython3",
      "version": "3.7.3"
    },
    "colab": {
      "name": "DATA 604 HW 6 Chapter 12.ipynb",
      "provenance": [],
      "collapsed_sections": [],
      "include_colab_link": true
    }
  },
  "nbformat": 4,
  "nbformat_minor": 0
}