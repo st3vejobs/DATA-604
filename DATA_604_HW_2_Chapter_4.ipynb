{
  "cells": [
    {
      "cell_type": "markdown",
      "metadata": {
        "id": "view-in-github",
        "colab_type": "text"
      },
      "source": [
        "<a href=\"https://colab.research.google.com/github/st3vejobs/DATA-604/blob/homework/DATA_604_HW_2_Chapter_4.ipynb\" target=\"_parent\"><img src=\"https://colab.research.google.com/assets/colab-badge.svg\" alt=\"Open In Colab\"/></a>"
      ]
    },
    {
      "cell_type": "markdown",
      "id": "existing-guidance",
      "metadata": {
        "id": "existing-guidance"
      },
      "source": [
        "# Sweeping Parameters"
      ]
    },
    {
      "cell_type": "markdown",
      "id": "imported-table",
      "metadata": {
        "tags": [],
        "id": "imported-table"
      },
      "source": [
        "*Modeling and Simulation in Python*\n",
        "\n",
        "Copyright 2021 Allen Downey\n",
        "\n",
        "License: [Creative Commons Attribution-NonCommercial-ShareAlike 4.0 International](https://creativecommons.org/licenses/by-nc-sa/4.0/)"
      ]
    },
    {
      "cell_type": "code",
      "execution_count": 2,
      "id": "electoral-turkey",
      "metadata": {
        "tags": [],
        "id": "electoral-turkey",
        "colab": {
          "base_uri": "https://localhost:8080/"
        },
        "outputId": "886076ff-c828-4981-ce66-67e0371b130a"
      },
      "outputs": [
        {
          "output_type": "stream",
          "name": "stdout",
          "text": [
            "Looking in indexes: https://pypi.org/simple, https://us-python.pkg.dev/colab-wheels/public/simple/\n",
            "Collecting pint\n",
            "  Downloading Pint-0.18-py2.py3-none-any.whl (209 kB)\n",
            "\u001b[K     |████████████████████████████████| 209 kB 7.0 MB/s \n",
            "\u001b[?25hRequirement already satisfied: packaging in /usr/local/lib/python3.7/dist-packages (from pint) (21.3)\n",
            "Requirement already satisfied: importlib-metadata in /usr/local/lib/python3.7/dist-packages (from pint) (4.11.4)\n",
            "Requirement already satisfied: zipp>=0.5 in /usr/local/lib/python3.7/dist-packages (from importlib-metadata->pint) (3.8.0)\n",
            "Requirement already satisfied: typing-extensions>=3.6.4 in /usr/local/lib/python3.7/dist-packages (from importlib-metadata->pint) (4.2.0)\n",
            "Requirement already satisfied: pyparsing!=3.0.5,>=2.0.2 in /usr/local/lib/python3.7/dist-packages (from packaging->pint) (3.0.9)\n",
            "Installing collected packages: pint\n",
            "Successfully installed pint-0.18\n"
          ]
        }
      ],
      "source": [
        "# install Pint if necessary\n",
        "\n",
        "try:\n",
        "    import pint\n",
        "except ImportError:\n",
        "    !pip install pint"
      ]
    },
    {
      "cell_type": "code",
      "execution_count": 3,
      "id": "formal-context",
      "metadata": {
        "tags": [],
        "id": "formal-context",
        "colab": {
          "base_uri": "https://localhost:8080/"
        },
        "outputId": "6cbc9339-dbb0-45e6-f83d-d0f901be24df"
      },
      "outputs": [
        {
          "output_type": "stream",
          "name": "stdout",
          "text": [
            "Downloaded modsim.py\n"
          ]
        }
      ],
      "source": [
        "# download modsim.py if necessary\n",
        "\n",
        "from os.path import basename, exists\n",
        "\n",
        "def download(url):\n",
        "    filename = basename(url)\n",
        "    if not exists(filename):\n",
        "        from urllib.request import urlretrieve\n",
        "        local, _ = urlretrieve(url, filename)\n",
        "        print('Downloaded ' + local)\n",
        "    \n",
        "download('https://raw.githubusercontent.com/AllenDowney/' +\n",
        "         'ModSimPy/master/modsim.py')"
      ]
    },
    {
      "cell_type": "code",
      "execution_count": 4,
      "id": "progressive-typing",
      "metadata": {
        "tags": [],
        "id": "progressive-typing"
      },
      "outputs": [],
      "source": [
        "# import functions from modsim\n",
        "\n",
        "from modsim import *"
      ]
    },
    {
      "cell_type": "markdown",
      "id": "caring-gnome",
      "metadata": {
        "tags": [],
        "id": "caring-gnome"
      },
      "source": [
        "The following cells download the code from Chapter 3 and import the `step` function we defined."
      ]
    },
    {
      "cell_type": "code",
      "execution_count": 5,
      "id": "ranking-today",
      "metadata": {
        "tags": [],
        "id": "ranking-today",
        "colab": {
          "base_uri": "https://localhost:8080/"
        },
        "outputId": "6a344f54-f760-45a2-caf6-422725459bde"
      },
      "outputs": [
        {
          "output_type": "stream",
          "name": "stdout",
          "text": [
            "Downloaded chap03.py\n"
          ]
        }
      ],
      "source": [
        "download('https://raw.githubusercontent.com/AllenDowney/' +\n",
        "         'ModSimPy/master/chap03.py')"
      ]
    },
    {
      "cell_type": "code",
      "execution_count": 6,
      "id": "stylish-raising",
      "metadata": {
        "tags": [],
        "id": "stylish-raising"
      },
      "outputs": [],
      "source": [
        "from chap03 import step"
      ]
    },
    {
      "cell_type": "markdown",
      "id": "atlantic-collectible",
      "metadata": {
        "id": "atlantic-collectible"
      },
      "source": [
        "In the previous chapter we defined metrics that quantify the performance of a bike sharing system.\n",
        "In this chapter we'll see how those metrics depend on the parameters of the system, like the arrival rate of customers at the stations.\n",
        "\n",
        "And I will present a program development strategy, called incremental\n",
        "development, that might help you write programs faster and spend less\n",
        "time debugging."
      ]
    },
    {
      "cell_type": "markdown",
      "id": "plastic-trigger",
      "metadata": {
        "id": "plastic-trigger"
      },
      "source": [
        "This chapter is available as a Jupyter notebook where you can read the text, run the code, and work on the exercises. \n",
        "Click here to access the notebooks: <https://allendowney.github.io/ModSimPy/>."
      ]
    },
    {
      "cell_type": "markdown",
      "id": "strategic-newspaper",
      "metadata": {
        "id": "strategic-newspaper"
      },
      "source": [
        "## Functions That Return Values\n",
        "\n",
        "We have used several functions that return values.\n",
        "For example, when you run `sqrt`, it returns a number you can assign to a variable."
      ]
    },
    {
      "cell_type": "code",
      "execution_count": 7,
      "id": "imposed-pregnancy",
      "metadata": {
        "id": "imposed-pregnancy",
        "colab": {
          "base_uri": "https://localhost:8080/"
        },
        "outputId": "e380b6e4-5dc0-4eb6-de8f-a25fe29cdc36"
      },
      "outputs": [
        {
          "output_type": "execute_result",
          "data": {
            "text/plain": [
              "1.4142135623730951"
            ]
          },
          "metadata": {},
          "execution_count": 7
        }
      ],
      "source": [
        "from numpy import sqrt\n",
        "\n",
        "root_2 = sqrt(2)\n",
        "root_2"
      ]
    },
    {
      "cell_type": "markdown",
      "id": "unsigned-recipe",
      "metadata": {
        "id": "unsigned-recipe"
      },
      "source": [
        "And when you run `State`, it returns a new `State` object:"
      ]
    },
    {
      "cell_type": "code",
      "execution_count": 8,
      "id": "accessible-wallace",
      "metadata": {
        "id": "accessible-wallace",
        "colab": {
          "base_uri": "https://localhost:8080/"
        },
        "outputId": "39442aed-4ef3-4ea5-fdf4-b946496c98f0"
      },
      "outputs": [
        {
          "output_type": "execute_result",
          "data": {
            "text/plain": [
              "olin         10\n",
              "wellesley     2\n",
              "Name: state, dtype: int64"
            ]
          },
          "metadata": {},
          "execution_count": 8
        }
      ],
      "source": [
        "bikeshare = State(olin=10, wellesley=2)\n",
        "bikeshare"
      ]
    },
    {
      "cell_type": "markdown",
      "id": "missing-pendant",
      "metadata": {
        "id": "missing-pendant"
      },
      "source": [
        "Not all functions have return values. For example, when you run `step`,\n",
        "it updates a `State` object, but it doesn't return a value.\n",
        "\n",
        "To write functions that return values, we can use a `return` statement, like this:"
      ]
    },
    {
      "cell_type": "code",
      "execution_count": 9,
      "id": "minimal-supervisor",
      "metadata": {
        "id": "minimal-supervisor"
      },
      "outputs": [],
      "source": [
        "def add_five(x):\n",
        "    return x + 5"
      ]
    },
    {
      "cell_type": "markdown",
      "id": "sized-intensity",
      "metadata": {
        "id": "sized-intensity"
      },
      "source": [
        "`add_five` takes a parameter, `x`, which could be any number. It\n",
        "computes `x + 5` and returns the result. So if we run it like this, the\n",
        "result is `8`:"
      ]
    },
    {
      "cell_type": "code",
      "execution_count": 10,
      "id": "warming-program",
      "metadata": {
        "id": "warming-program",
        "colab": {
          "base_uri": "https://localhost:8080/"
        },
        "outputId": "2ff456b9-f4f5-4f7f-f8c5-dd852b22aa31"
      },
      "outputs": [
        {
          "output_type": "execute_result",
          "data": {
            "text/plain": [
              "8"
            ]
          },
          "metadata": {},
          "execution_count": 10
        }
      ],
      "source": [
        "add_five(3)"
      ]
    },
    {
      "cell_type": "markdown",
      "id": "rental-representation",
      "metadata": {
        "id": "rental-representation"
      },
      "source": [
        "As a more useful example, here's a version of `run_simulation` that\n",
        "creates a `State` object, runs a simulation, and then returns the\n",
        "`State` object:"
      ]
    },
    {
      "cell_type": "code",
      "execution_count": 11,
      "id": "sitting-cleveland",
      "metadata": {
        "id": "sitting-cleveland"
      },
      "outputs": [],
      "source": [
        "def run_simulation(p1, p2, num_steps):\n",
        "    state = State(olin=10, wellesley=2,\n",
        "                  olin_empty=0, wellesley_empty=0)\n",
        "    \n",
        "    for i in range(num_steps):\n",
        "        step(state, p1, p2)\n",
        "        \n",
        "    return state"
      ]
    },
    {
      "cell_type": "markdown",
      "id": "minimal-ability",
      "metadata": {
        "id": "minimal-ability"
      },
      "source": [
        "We can call `run_simulation` like this:"
      ]
    },
    {
      "cell_type": "code",
      "execution_count": 12,
      "id": "difficult-shepherd",
      "metadata": {
        "id": "difficult-shepherd"
      },
      "outputs": [],
      "source": [
        "final_state = run_simulation(0.3, 0.2, 60)"
      ]
    },
    {
      "cell_type": "markdown",
      "id": "charming-wheel",
      "metadata": {
        "id": "charming-wheel"
      },
      "source": [
        "The result is a `State` object that represents the final state of the system, including the metrics we'll use to evaluate the performance of the system:"
      ]
    },
    {
      "cell_type": "code",
      "execution_count": 13,
      "id": "tough-sweet",
      "metadata": {
        "id": "tough-sweet",
        "colab": {
          "base_uri": "https://localhost:8080/"
        },
        "outputId": "82bc6ced-18c3-4444-f5cf-1db0dbf6a2ed"
      },
      "outputs": [
        {
          "output_type": "stream",
          "name": "stdout",
          "text": [
            "0 0\n"
          ]
        }
      ],
      "source": [
        "print(final_state.olin_empty, \n",
        "      final_state.wellesley_empty)"
      ]
    },
    {
      "cell_type": "markdown",
      "id": "aggregate-lightweight",
      "metadata": {
        "id": "aggregate-lightweight"
      },
      "source": [
        "The simulation we just ran starts with `olin=10` and `wellesley=2`, and uses the values `p1=0.3`, `p2=0.2`, and `num_steps=60`. \n",
        "These five values are *parameters of the model*, which are quantities that determine the behavior of the system.\n",
        "\n",
        "It is easy to get the parameters of a model confused with the parameters of a function. \n",
        "It is especially easy because the parameters of a model often appear as parameters of a function.\n",
        "\n",
        "For example, the previous version of `run_simulation` takes `p1`, `p2`, and `num_steps` as parameters.\n",
        "So we can call `run_simulation` with different parameters and see how\n",
        "the metrics, like the number of unhappy customers, depend on the\n",
        "parameters. But before we do that, we need a new version of a `for` loop."
      ]
    },
    {
      "cell_type": "markdown",
      "id": "valuable-aircraft",
      "metadata": {
        "id": "valuable-aircraft"
      },
      "source": [
        "## Loops and Arrays\n",
        "\n",
        "In `run_simulation`, we use this `for` loop:\n",
        "\n",
        "```\n",
        "    for i in range(num_steps):\n",
        "        step(state, p1, p2)\n",
        "```\n",
        "\n",
        "In this example, `range` creates a sequence of numbers from `0` to `num_steps` (including `0` but not `num_steps`). \n",
        "Each time through the loop, the next number in the sequence gets assigned to the loop variable, `i`.\n",
        "\n",
        "But `range` only works with integers; to get a sequence of non-integer\n",
        "values, we can use `linspace`, which is provided by NumPy:"
      ]
    },
    {
      "cell_type": "code",
      "execution_count": 14,
      "id": "bound-juice",
      "metadata": {
        "id": "bound-juice",
        "colab": {
          "base_uri": "https://localhost:8080/"
        },
        "outputId": "3b2d3c19-bbbd-4cb9-a225-132ae7c87e45"
      },
      "outputs": [
        {
          "output_type": "execute_result",
          "data": {
            "text/plain": [
              "array([0.  , 0.25, 0.5 , 0.75, 1.  ])"
            ]
          },
          "metadata": {},
          "execution_count": 14
        }
      ],
      "source": [
        "from numpy import linspace\n",
        "\n",
        "p1_array = linspace(0, 1, 5)\n",
        "p1_array"
      ]
    },
    {
      "cell_type": "markdown",
      "id": "ordered-colleague",
      "metadata": {
        "id": "ordered-colleague"
      },
      "source": [
        "The arguments indicate where the sequence should start and stop, and how\n",
        "many elements it should contain. In this example, the sequence contains\n",
        "`5` equally-spaced numbers, starting at `0` and ending at `1`.\n",
        "\n",
        "The result is a NumPy *array*, which is a new kind of object we have\n",
        "not seen before. An array is a container for a sequence of numbers.\n",
        "\n",
        "We can use an array in a `for` loop like this:"
      ]
    },
    {
      "cell_type": "code",
      "execution_count": 15,
      "id": "commercial-methodology",
      "metadata": {
        "id": "commercial-methodology",
        "colab": {
          "base_uri": "https://localhost:8080/"
        },
        "outputId": "2935369b-0d69-43cb-9d25-47a61cd79708"
      },
      "outputs": [
        {
          "output_type": "stream",
          "name": "stdout",
          "text": [
            "0.0\n",
            "0.25\n",
            "0.5\n",
            "0.75\n",
            "1.0\n"
          ]
        }
      ],
      "source": [
        "for p1 in p1_array:\n",
        "    print(p1)"
      ]
    },
    {
      "cell_type": "markdown",
      "id": "finnish-budapest",
      "metadata": {
        "id": "finnish-budapest"
      },
      "source": [
        "When this loop runs, it\n",
        "\n",
        "1.  Gets the first value from the array and assigns it to `p1`.\n",
        "\n",
        "2.  Runs the body of the loop, which prints `p1`.\n",
        "\n",
        "3.  Gets the next value from the array and assigns it to `p1`.\n",
        "\n",
        "4.  Runs the body of the loop, which prints `p1`.\n",
        "\n",
        "5. ...\n",
        "\n",
        "And so on, until it gets to the end of the array. This will come in handy in the next section."
      ]
    },
    {
      "cell_type": "markdown",
      "id": "crazy-belize",
      "metadata": {
        "id": "crazy-belize"
      },
      "source": [
        "## Sweeping Parameters\n",
        "\n",
        "If we know the actual values of parameters like `p1` and `p2`, we can\n",
        "use them to make specific predictions, like how many bikes will be at\n",
        "Olin after one hour.\n",
        "\n",
        "But prediction is not the only goal; models like this are also used to\n",
        "explain why systems behave as they do and to evaluate alternative\n",
        "designs. For example, if we observe the system and notice that we often run out of bikes at a particular time, we could use the model to figure out why that happens. And if we are considering adding more bikes, or another station, we could evaluate the effect of various \"what if\" scenarios.\n",
        "\n",
        "As an example, suppose we have enough data to estimate that `p2` is\n",
        "about `0.2`, but we don't have any information about `p1`. We could run simulations with a range of values for `p1` and see how the results vary. This process is called *sweeping* a parameter, in the sense that the value of the parameter \"sweeps\" through a range of possible values.\n",
        "\n",
        "Now that we know about loops and arrays, we can use them like this:"
      ]
    },
    {
      "cell_type": "code",
      "execution_count": 16,
      "id": "working-chair",
      "metadata": {
        "id": "working-chair",
        "colab": {
          "base_uri": "https://localhost:8080/"
        },
        "outputId": "8e3cd7a8-f8a7-4b04-853b-09e3e4933dcd"
      },
      "outputs": [
        {
          "output_type": "stream",
          "name": "stdout",
          "text": [
            "0.0 0\n",
            "0.12 0\n",
            "0.24 0\n",
            "0.36 1\n",
            "0.48 10\n",
            "0.6 14\n"
          ]
        }
      ],
      "source": [
        "p1_array = linspace(0, 0.6, 6)\n",
        "p2 = 0.2\n",
        "num_steps = 60\n",
        "\n",
        "for p1 in p1_array:\n",
        "    final_state = run_simulation(p1, p2, num_steps)\n",
        "    print(p1, final_state.olin_empty)"
      ]
    },
    {
      "cell_type": "markdown",
      "id": "chicken-mainstream",
      "metadata": {
        "id": "chicken-mainstream"
      },
      "source": [
        "Each time through the loop, we run a simulation with a different value\n",
        "of `p1` and the same value of `p2`, `0.2`. Then we print `p1` and the\n",
        "number of unhappy customers at Olin.\n",
        "\n",
        "To save and plot the results, we can use a `SweepSeries` object, which\n",
        "is similar to a `TimeSeries`; the difference is that the labels in a\n",
        "`SweepSeries` are parameter values rather than time values.\n",
        "\n",
        "We can create an empty `SweepSeries` like this:"
      ]
    },
    {
      "cell_type": "code",
      "execution_count": 17,
      "id": "instrumental-session",
      "metadata": {
        "id": "instrumental-session"
      },
      "outputs": [],
      "source": [
        "sweep = SweepSeries()"
      ]
    },
    {
      "cell_type": "markdown",
      "id": "listed-orleans",
      "metadata": {
        "id": "listed-orleans"
      },
      "source": [
        "And add values like this:"
      ]
    },
    {
      "cell_type": "code",
      "execution_count": 18,
      "id": "hollywood-technical",
      "metadata": {
        "id": "hollywood-technical"
      },
      "outputs": [],
      "source": [
        "p1_array = linspace(0, 0.6, 31)\n",
        "\n",
        "for p1 in p1_array:\n",
        "    final_state = run_simulation(p1, p2, num_steps)\n",
        "    sweep[p1] = final_state.olin_empty"
      ]
    },
    {
      "cell_type": "markdown",
      "id": "healthy-prime",
      "metadata": {
        "id": "healthy-prime"
      },
      "source": [
        "The result is a `SweepSeries` that maps from each value of `p1` to the\n",
        "resulting number of unhappy customers."
      ]
    },
    {
      "cell_type": "markdown",
      "id": "driven-theme",
      "metadata": {
        "tags": [],
        "id": "driven-theme"
      },
      "source": [
        "We can display the results like this:"
      ]
    },
    {
      "cell_type": "code",
      "execution_count": 19,
      "id": "recovered-buffalo",
      "metadata": {
        "tags": [],
        "id": "recovered-buffalo",
        "colab": {
          "base_uri": "https://localhost:8080/",
          "height": 1000
        },
        "outputId": "42cb6855-7437-40f2-d8cc-c76be1ea1f26"
      },
      "outputs": [
        {
          "output_type": "execute_result",
          "data": {
            "text/plain": [
              "           Metric\n",
              "Parameter        \n",
              "0.00            0\n",
              "0.02            0\n",
              "0.04            0\n",
              "0.06            0\n",
              "0.08            0\n",
              "0.10            0\n",
              "0.12            0\n",
              "0.14            0\n",
              "0.16            0\n",
              "0.18            0\n",
              "0.20            0\n",
              "0.22            0\n",
              "0.24            0\n",
              "0.26            0\n",
              "0.28            0\n",
              "0.30            0\n",
              "0.32            0\n",
              "0.34            4\n",
              "0.36            0\n",
              "0.38            2\n",
              "0.40            1\n",
              "0.42           13\n",
              "0.44            5\n",
              "0.46            3\n",
              "0.48            7\n",
              "0.50           14\n",
              "0.52            9\n",
              "0.54            9\n",
              "0.56           13\n",
              "0.58           12\n",
              "0.60           22"
            ],
            "text/html": [
              "\n",
              "  <div id=\"df-5605550b-51bb-4bbe-b9e1-cda479b6087e\">\n",
              "    <div class=\"colab-df-container\">\n",
              "      <div>\n",
              "<style scoped>\n",
              "    .dataframe tbody tr th:only-of-type {\n",
              "        vertical-align: middle;\n",
              "    }\n",
              "\n",
              "    .dataframe tbody tr th {\n",
              "        vertical-align: top;\n",
              "    }\n",
              "\n",
              "    .dataframe thead th {\n",
              "        text-align: right;\n",
              "    }\n",
              "</style>\n",
              "<table border=\"1\" class=\"dataframe\">\n",
              "  <thead>\n",
              "    <tr style=\"text-align: right;\">\n",
              "      <th></th>\n",
              "      <th>Metric</th>\n",
              "    </tr>\n",
              "    <tr>\n",
              "      <th>Parameter</th>\n",
              "      <th></th>\n",
              "    </tr>\n",
              "  </thead>\n",
              "  <tbody>\n",
              "    <tr>\n",
              "      <th>0.00</th>\n",
              "      <td>0</td>\n",
              "    </tr>\n",
              "    <tr>\n",
              "      <th>0.02</th>\n",
              "      <td>0</td>\n",
              "    </tr>\n",
              "    <tr>\n",
              "      <th>0.04</th>\n",
              "      <td>0</td>\n",
              "    </tr>\n",
              "    <tr>\n",
              "      <th>0.06</th>\n",
              "      <td>0</td>\n",
              "    </tr>\n",
              "    <tr>\n",
              "      <th>0.08</th>\n",
              "      <td>0</td>\n",
              "    </tr>\n",
              "    <tr>\n",
              "      <th>0.10</th>\n",
              "      <td>0</td>\n",
              "    </tr>\n",
              "    <tr>\n",
              "      <th>0.12</th>\n",
              "      <td>0</td>\n",
              "    </tr>\n",
              "    <tr>\n",
              "      <th>0.14</th>\n",
              "      <td>0</td>\n",
              "    </tr>\n",
              "    <tr>\n",
              "      <th>0.16</th>\n",
              "      <td>0</td>\n",
              "    </tr>\n",
              "    <tr>\n",
              "      <th>0.18</th>\n",
              "      <td>0</td>\n",
              "    </tr>\n",
              "    <tr>\n",
              "      <th>0.20</th>\n",
              "      <td>0</td>\n",
              "    </tr>\n",
              "    <tr>\n",
              "      <th>0.22</th>\n",
              "      <td>0</td>\n",
              "    </tr>\n",
              "    <tr>\n",
              "      <th>0.24</th>\n",
              "      <td>0</td>\n",
              "    </tr>\n",
              "    <tr>\n",
              "      <th>0.26</th>\n",
              "      <td>0</td>\n",
              "    </tr>\n",
              "    <tr>\n",
              "      <th>0.28</th>\n",
              "      <td>0</td>\n",
              "    </tr>\n",
              "    <tr>\n",
              "      <th>0.30</th>\n",
              "      <td>0</td>\n",
              "    </tr>\n",
              "    <tr>\n",
              "      <th>0.32</th>\n",
              "      <td>0</td>\n",
              "    </tr>\n",
              "    <tr>\n",
              "      <th>0.34</th>\n",
              "      <td>4</td>\n",
              "    </tr>\n",
              "    <tr>\n",
              "      <th>0.36</th>\n",
              "      <td>0</td>\n",
              "    </tr>\n",
              "    <tr>\n",
              "      <th>0.38</th>\n",
              "      <td>2</td>\n",
              "    </tr>\n",
              "    <tr>\n",
              "      <th>0.40</th>\n",
              "      <td>1</td>\n",
              "    </tr>\n",
              "    <tr>\n",
              "      <th>0.42</th>\n",
              "      <td>13</td>\n",
              "    </tr>\n",
              "    <tr>\n",
              "      <th>0.44</th>\n",
              "      <td>5</td>\n",
              "    </tr>\n",
              "    <tr>\n",
              "      <th>0.46</th>\n",
              "      <td>3</td>\n",
              "    </tr>\n",
              "    <tr>\n",
              "      <th>0.48</th>\n",
              "      <td>7</td>\n",
              "    </tr>\n",
              "    <tr>\n",
              "      <th>0.50</th>\n",
              "      <td>14</td>\n",
              "    </tr>\n",
              "    <tr>\n",
              "      <th>0.52</th>\n",
              "      <td>9</td>\n",
              "    </tr>\n",
              "    <tr>\n",
              "      <th>0.54</th>\n",
              "      <td>9</td>\n",
              "    </tr>\n",
              "    <tr>\n",
              "      <th>0.56</th>\n",
              "      <td>13</td>\n",
              "    </tr>\n",
              "    <tr>\n",
              "      <th>0.58</th>\n",
              "      <td>12</td>\n",
              "    </tr>\n",
              "    <tr>\n",
              "      <th>0.60</th>\n",
              "      <td>22</td>\n",
              "    </tr>\n",
              "  </tbody>\n",
              "</table>\n",
              "</div>\n",
              "      <button class=\"colab-df-convert\" onclick=\"convertToInteractive('df-5605550b-51bb-4bbe-b9e1-cda479b6087e')\"\n",
              "              title=\"Convert this dataframe to an interactive table.\"\n",
              "              style=\"display:none;\">\n",
              "        \n",
              "  <svg xmlns=\"http://www.w3.org/2000/svg\" height=\"24px\"viewBox=\"0 0 24 24\"\n",
              "       width=\"24px\">\n",
              "    <path d=\"M0 0h24v24H0V0z\" fill=\"none\"/>\n",
              "    <path d=\"M18.56 5.44l.94 2.06.94-2.06 2.06-.94-2.06-.94-.94-2.06-.94 2.06-2.06.94zm-11 1L8.5 8.5l.94-2.06 2.06-.94-2.06-.94L8.5 2.5l-.94 2.06-2.06.94zm10 10l.94 2.06.94-2.06 2.06-.94-2.06-.94-.94-2.06-.94 2.06-2.06.94z\"/><path d=\"M17.41 7.96l-1.37-1.37c-.4-.4-.92-.59-1.43-.59-.52 0-1.04.2-1.43.59L10.3 9.45l-7.72 7.72c-.78.78-.78 2.05 0 2.83L4 21.41c.39.39.9.59 1.41.59.51 0 1.02-.2 1.41-.59l7.78-7.78 2.81-2.81c.8-.78.8-2.07 0-2.86zM5.41 20L4 18.59l7.72-7.72 1.47 1.35L5.41 20z\"/>\n",
              "  </svg>\n",
              "      </button>\n",
              "      \n",
              "  <style>\n",
              "    .colab-df-container {\n",
              "      display:flex;\n",
              "      flex-wrap:wrap;\n",
              "      gap: 12px;\n",
              "    }\n",
              "\n",
              "    .colab-df-convert {\n",
              "      background-color: #E8F0FE;\n",
              "      border: none;\n",
              "      border-radius: 50%;\n",
              "      cursor: pointer;\n",
              "      display: none;\n",
              "      fill: #1967D2;\n",
              "      height: 32px;\n",
              "      padding: 0 0 0 0;\n",
              "      width: 32px;\n",
              "    }\n",
              "\n",
              "    .colab-df-convert:hover {\n",
              "      background-color: #E2EBFA;\n",
              "      box-shadow: 0px 1px 2px rgba(60, 64, 67, 0.3), 0px 1px 3px 1px rgba(60, 64, 67, 0.15);\n",
              "      fill: #174EA6;\n",
              "    }\n",
              "\n",
              "    [theme=dark] .colab-df-convert {\n",
              "      background-color: #3B4455;\n",
              "      fill: #D2E3FC;\n",
              "    }\n",
              "\n",
              "    [theme=dark] .colab-df-convert:hover {\n",
              "      background-color: #434B5C;\n",
              "      box-shadow: 0px 1px 3px 1px rgba(0, 0, 0, 0.15);\n",
              "      filter: drop-shadow(0px 1px 2px rgba(0, 0, 0, 0.3));\n",
              "      fill: #FFFFFF;\n",
              "    }\n",
              "  </style>\n",
              "\n",
              "      <script>\n",
              "        const buttonEl =\n",
              "          document.querySelector('#df-5605550b-51bb-4bbe-b9e1-cda479b6087e button.colab-df-convert');\n",
              "        buttonEl.style.display =\n",
              "          google.colab.kernel.accessAllowed ? 'block' : 'none';\n",
              "\n",
              "        async function convertToInteractive(key) {\n",
              "          const element = document.querySelector('#df-5605550b-51bb-4bbe-b9e1-cda479b6087e');\n",
              "          const dataTable =\n",
              "            await google.colab.kernel.invokeFunction('convertToInteractive',\n",
              "                                                     [key], {});\n",
              "          if (!dataTable) return;\n",
              "\n",
              "          const docLinkHtml = 'Like what you see? Visit the ' +\n",
              "            '<a target=\"_blank\" href=https://colab.research.google.com/notebooks/data_table.ipynb>data table notebook</a>'\n",
              "            + ' to learn more about interactive tables.';\n",
              "          element.innerHTML = '';\n",
              "          dataTable['output_type'] = 'display_data';\n",
              "          await google.colab.output.renderOutput(dataTable, element);\n",
              "          const docLink = document.createElement('div');\n",
              "          docLink.innerHTML = docLinkHtml;\n",
              "          element.appendChild(docLink);\n",
              "        }\n",
              "      </script>\n",
              "    </div>\n",
              "  </div>\n",
              "  "
            ]
          },
          "metadata": {},
          "execution_count": 19
        }
      ],
      "source": [
        "show(sweep)"
      ]
    },
    {
      "cell_type": "markdown",
      "id": "instructional-showcase",
      "metadata": {
        "id": "instructional-showcase"
      },
      "source": [
        "We can plot the elements of the `SweepSeries` like this:"
      ]
    },
    {
      "cell_type": "code",
      "execution_count": 20,
      "id": "hollywood-spirit",
      "metadata": {
        "id": "hollywood-spirit",
        "colab": {
          "base_uri": "https://localhost:8080/",
          "height": 297
        },
        "outputId": "4d51f535-b6e6-47eb-daae-f8127977566b"
      },
      "outputs": [
        {
          "output_type": "display_data",
          "data": {
            "text/plain": [
              "<Figure size 432x288 with 1 Axes>"
            ],
            "image/png": "[encoded data removed]"
          },
          "metadata": {
            "needs_background": "light"
          }
        }
      ],
      "source": [
        "sweep.plot(label='Olin', color='C1')\n",
        "\n",
        "decorate(title='Olin-Wellesley Bikeshare',\n",
        "         xlabel='Customer rate at Olin (p1 in customers/min)', \n",
        "         ylabel='Number of unhappy customers at Olin')"
      ]
    },
    {
      "cell_type": "markdown",
      "id": "educated-bloom",
      "metadata": {
        "id": "educated-bloom"
      },
      "source": [
        "The keyword argument `color='C1'` specifies the color of the line.\n",
        "The `TimeSeries` we have plotted so far use the default color, `C0`, which is blue (see <https://matplotlib.org/stable/tutorials/colors/colors.html> for the other colors defined by Matplotlib).\n",
        "I use a different color for `SweepSeries` to remind us that it is not a `TimeSeries`.\n",
        "\n",
        "When the arrival rate at Olin is low, there are plenty of bikes and no unhappy customers.\n",
        "As the arrival rate increases, we are more likely to run out of bikes and the number of unhappy customers increases. The line is jagged because the simulation is based on random numbers. Sometime we get lucky and there are relatively few unhappy customers; other times we are unlucky and there are more. "
      ]
    },
    {
      "cell_type": "markdown",
      "id": "korean-christianity",
      "metadata": {
        "id": "korean-christianity"
      },
      "source": [
        "## Incremental Development\n",
        "\n",
        "When you start writing programs that are more than a few lines, you\n",
        "might find yourself spending more time debugging. The more code you write before you start debugging, the harder it is to find the problem.\n",
        "\n",
        "*Incremental development* is a way of programming that tries to\n",
        "minimize the pain of debugging. The fundamental steps are:\n",
        "\n",
        "1.  Always start with a working program. If you have an example from a\n",
        "    book, or a program you wrote that is similar to what you are working\n",
        "    on, start with that. Otherwise, start with something you *know* is\n",
        "    correct, like `x=5`. Run the program and confirm that it does what\n",
        "    you expect.\n",
        "\n",
        "2.  Make one small, testable change at a time. A \"testable\" change is\n",
        "    one that displays something or has some other effect you can check.\n",
        "    Ideally, you should know what the correct answer is, or be able to\n",
        "    check it by performing another computation.\n",
        "\n",
        "3.  Run the program and see if the change worked. If so, go back to\n",
        "    Step 2. If not, you have to do some debugging, but if the\n",
        "    change you made was small, it shouldn't take long to find the\n",
        "    problem.\n",
        "\n",
        "When this process works, your changes usually work the first time or, if they don't, the problem is obvious. In practice, there are two problems with incremental development:\n",
        "\n",
        "-   Sometimes you have to write extra code to generate visible output\n",
        "    that you can check. This extra code is called *scaffolding*\n",
        "    because you use it to build the program and then remove it when you\n",
        "    are done. That might seem like a waste, but time you spend on\n",
        "    scaffolding is almost always time you save on debugging.\n",
        "\n",
        "-   When you are getting started, it might not be obvious how to choose\n",
        "    the steps that get from `x=5` to the program you are trying to\n",
        "    write. You will see more examples of this process as we go along,\n",
        "    and you will get better with experience.\n",
        "\n",
        "If you find yourself writing more than a few lines of code before you\n",
        "start testing, and you are spending a lot of time debugging, try\n",
        "incremental development."
      ]
    },
    {
      "cell_type": "markdown",
      "id": "nominated-assault",
      "metadata": {
        "id": "nominated-assault"
      },
      "source": [
        "## Summary\n",
        "\n",
        "This chapter introduces functions that return values, which we use to write a version of `run_simulation` that returns a `State` object with the final state of the system.\n",
        "\n",
        "It also introduces `linspace`, which we use to create a NumPy array, and `SweepSeries`, which we use to store the results of a parameter sweep.\n",
        "\n",
        "We used a parameter sweep to explore the relationship between one of the parameters, `p1`, and the number of unhappy customers, which is a metric that quantifies how well (or badly) the system works.\n",
        "\n",
        "In the exercises, you'll have a chance to sweep other parameters and compute other metrics.\n",
        "\n",
        "In the next chapter, we'll move on to a new problem, modeling and predicting world population growth."
      ]
    },
    {
      "cell_type": "markdown",
      "id": "appreciated-preview",
      "metadata": {
        "id": "appreciated-preview"
      },
      "source": [
        "## Exercises"
      ]
    },
    {
      "cell_type": "markdown",
      "id": "primary-quest",
      "metadata": {
        "id": "primary-quest"
      },
      "source": [
        "### Exercise 1\n",
        "\n",
        " Write a function called `make_state` that creates a `State` object with the state variables `olin=10` and `wellesley=2`, and then returns the new `State` object.\n",
        "\n",
        "Write a line of code that calls `make_state` and assigns the result to a variable named `init`."
      ]
    },
    {
      "cell_type": "code",
      "execution_count": 21,
      "id": "reflected-freedom",
      "metadata": {
        "id": "reflected-freedom"
      },
      "outputs": [],
      "source": [
        "def make_state():\n",
        "  state = State(olin=10, wellesley=2)\n",
        "  return state\n",
        "\n",
        "init = make_state()\n"
      ]
    },
    {
      "cell_type": "markdown",
      "id": "robust-blair",
      "metadata": {
        "id": "robust-blair"
      },
      "source": [
        "### Exercise 2\n",
        "\n",
        "Read the documentation of `linspace` at <https://numpy.org/doc/stable/reference/generated/numpy.linspace.html>. Then use it to make an array of 101 equally spaced points between 0 and 1 (including both)."
      ]
    },
    {
      "cell_type": "code",
      "execution_count": 34,
      "id": "collected-butter",
      "metadata": {
        "id": "collected-butter",
        "colab": {
          "base_uri": "https://localhost:8080/"
        },
        "outputId": "9584fa8f-13c5-4399-c49a-bb212d9d0af9"
      },
      "outputs": [
        {
          "output_type": "stream",
          "name": "stdout",
          "text": [
            "[0.   0.01 0.02 0.03 0.04 0.05 0.06 0.07 0.08 0.09 0.1  0.11 0.12 0.13\n",
            " 0.14 0.15 0.16 0.17 0.18 0.19 0.2  0.21 0.22 0.23 0.24 0.25 0.26 0.27\n",
            " 0.28 0.29 0.3  0.31 0.32 0.33 0.34 0.35 0.36 0.37 0.38 0.39 0.4  0.41\n",
            " 0.42 0.43 0.44 0.45 0.46 0.47 0.48 0.49 0.5  0.51 0.52 0.53 0.54 0.55\n",
            " 0.56 0.57 0.58 0.59 0.6  0.61 0.62 0.63 0.64 0.65 0.66 0.67 0.68 0.69\n",
            " 0.7  0.71 0.72 0.73 0.74 0.75 0.76 0.77 0.78 0.79 0.8  0.81 0.82 0.83\n",
            " 0.84 0.85 0.86 0.87 0.88 0.89 0.9  0.91 0.92 0.93 0.94 0.95 0.96 0.97\n",
            " 0.98 0.99 1.  ]\n"
          ]
        }
      ],
      "source": [
        "x = linspace(0,1,101)\n",
        "print(x)"
      ]
    },
    {
      "cell_type": "markdown",
      "id": "fleet-debut",
      "metadata": {
        "id": "fleet-debut"
      },
      "source": [
        "### Exercise 3\n",
        "\n",
        " Wrap the code from this chapter in a function named `sweep_p1` that takes an array called `p1_array` as a parameter.  It should create a new `SweepSeries` and run a simulation for each value of `p1` in `p1_array`, with `p2=0.2` and `num_steps=60`.\n",
        "It should store the results in the `SweepSeries` and return it.  \n",
        "\n",
        "Use your function to generate a `SweepSeries` and then plot the number of unhappy customers at Olin as a function of `p1`.  Label the axes.\n",
        "\n",
        "#### Looking for olin_empty?"
      ]
    },
    {
      "cell_type": "code",
      "execution_count": 42,
      "id": "authorized-sarah",
      "metadata": {
        "id": "authorized-sarah",
        "colab": {
          "base_uri": "https://localhost:8080/",
          "height": 297
        },
        "outputId": "f25664f8-7e75-478e-bb59-e9e2152f1611"
      },
      "outputs": [
        {
          "output_type": "display_data",
          "data": {
            "text/plain": [
              "<Figure size 432x288 with 1 Axes>"
            ],
            "image/png": "[encoded data removed]"
          },
          "metadata": {
            "needs_background": "light"
          }
        }
      ],
      "source": [
        "def sweep_p1(p1_array):\n",
        "  p2 = 0.2\n",
        "  num_steps = 60\n",
        "  x = SweepSeries()\n",
        "  for i in p1_array:\n",
        "    state = run_simulation(i,p2,num_steps)\n",
        "    x[i] = state.olin_empty\n",
        "  return x\n",
        "\n",
        "np.random.seed(1)\n",
        "sweep = sweep_p1(linspace(0,1,10))\n",
        "\n",
        "sweep.plot(label='Olin', color='red')\n",
        "decorate(title='Olin-Wellesley Bikeshare',\n",
        "         xlabel='Customer rate at Olin (p1 in customers/min)', \n",
        "         ylabel='Angry Customers at Olin')"
      ]
    },
    {
      "cell_type": "markdown",
      "id": "developmental-broad",
      "metadata": {
        "id": "developmental-broad"
      },
      "source": [
        "### Exercise 4\n",
        "\n",
        " Write a function called `sweep_p2` that runs simulations with `p1=0.5` and a range of values for `p2`.  It should store the results in a `SweepSeries` and return the `SweepSeries`.\n"
      ]
    },
    {
      "cell_type": "code",
      "execution_count": 43,
      "id": "norman-banana",
      "metadata": {
        "id": "norman-banana",
        "colab": {
          "base_uri": "https://localhost:8080/",
          "height": 297
        },
        "outputId": "c3339455-7d17-4759-81d6-23e53958e770"
      },
      "outputs": [
        {
          "output_type": "display_data",
          "data": {
            "text/plain": [
              "<Figure size 432x288 with 1 Axes>"
            ],
            "image/png": "[encoded data removed]"
          },
          "metadata": {
            "needs_background": "light"
          }
        }
      ],
      "source": [
        "def sweep_p2(p2):\n",
        "  p1 = 0.5\n",
        "  num_steps = 60\n",
        "  x = SweepSeries()\n",
        "  for i in p2:\n",
        "    state = run_simulation(p1,i,num_steps)\n",
        "    x[i] = state.olin_empty\n",
        "  return x\n",
        "\n",
        "np.random.seed(1)\n",
        "sweep = sweep_p2(linspace(0,1,10))\n",
        "\n",
        "sweep.plot(label='Olin', color='red')\n",
        "decorate(title='Olin-Wellesley Bikeshare',\n",
        "         xlabel='Customer rate at Olin (p1 in customers/min)', \n",
        "         ylabel='Angry Customers at Olin')"
      ]
    },
    {
      "cell_type": "markdown",
      "id": "separate-mention",
      "metadata": {
        "id": "separate-mention"
      },
      "source": [
        "## Challenge Exercises\n",
        "\n",
        "The following two exercises are a little more challenging.  If you are comfortable with what you have learned so far, you should give them a try.  If you feel like you have your hands full, you might want to skip them for now."
      ]
    },
    {
      "cell_type": "markdown",
      "id": "bearing-orbit",
      "metadata": {
        "id": "bearing-orbit"
      },
      "source": [
        "### Exercise 5\n",
        "\n",
        " Because our simulations are random, the results vary from one run to another, and the results of a parameter sweep tend to be noisy.  We can get a clearer picture of the relationship between a parameter and a metric by running multiple simulations with the same parameter and taking the average of the results.\n",
        "\n",
        "Write a function called `run_multiple_simulations` that takes as parameters `p1`, `p2`, `num_steps`, and `num_runs`.\n",
        "`num_runs` specifies how many times it should call `run_simulation`.\n",
        "\n",
        "After each run, it should store the total number of unhappy customers (at Olin or Wellesley) in a `TimeSeries`.\n",
        "At the end, it should return the `TimeSeries`.\n",
        "\n",
        "Test your function with parameters\n",
        "\n",
        "```\n",
        "p1 = 0.3\n",
        "p2 = 0.3\n",
        "num_steps = 60\n",
        "num_runs = 10\n",
        "```\n",
        "\n",
        "Display the resulting `TimeSeries` and use the `mean` function from NumPy to compute the average number of unhappy customers."
      ]
    },
    {
      "cell_type": "code",
      "execution_count": 47,
      "id": "accredited-salmon",
      "metadata": {
        "id": "accredited-salmon",
        "colab": {
          "base_uri": "https://localhost:8080/",
          "height": 297
        },
        "outputId": "0052db99-718b-46c0-b287-0892b780f06f"
      },
      "outputs": [
        {
          "output_type": "display_data",
          "data": {
            "text/plain": [
              "<Figure size 432x288 with 1 Axes>"
            ],
            "image/png": "[encoded data removed]"
          },
          "metadata": {
            "needs_background": "light"
          }
        }
      ],
      "source": [
        "def run_multiple_simulations(p1, p2, num_steps, num_runs):\n",
        "    result = TimeSeries()\n",
        "    for i in range(num_runs):\n",
        "        state = run_simulation(p1, p2, num_steps) \n",
        "        result[i] = state.olin_empty + state.wellesley_empty\n",
        "    return result\n",
        "    \n",
        "p1 = 0.3\n",
        "p2 = 0.3\n",
        "num_steps = 60\n",
        "num_runs = 10\n",
        "test = run_multiple_simulations(p1, p2, num_steps, num_runs)\n",
        "test\n",
        "test.plot(label='total', color='pink')\n",
        "decorate(title='Olin-Wellesley Bikeshare',\n",
        "         xlabel='Customer rate at Olin (p1 in customers/min)', \n",
        "         ylabel='Angry Customers at Olin or Wellesley')"
      ]
    },
    {
      "cell_type": "markdown",
      "id": "structural-expense",
      "metadata": {
        "id": "structural-expense"
      },
      "source": [
        "### Exercise 6\n",
        "\n",
        "Continuing the previous exercise, use `run_multiple_simulations` to run simulations with a range of values for `p1` and\n",
        "\n",
        "```\n",
        "p2 = 0.3\n",
        "num_steps = 60\n",
        "num_runs = 20\n",
        "```\n",
        "\n",
        "Store the results in a `SweepSeries`, then plot the average number of unhappy customers as a function of `p1`.  Label the axes.\n",
        "\n",
        "What value of `p1` minimizes the average number of unhappy customers?"
      ]
    },
    {
      "cell_type": "code",
      "execution_count": 50,
      "id": "reverse-emphasis",
      "metadata": {
        "scrolled": true,
        "id": "reverse-emphasis",
        "colab": {
          "base_uri": "https://localhost:8080/",
          "height": 297
        },
        "outputId": "3d58bd03-7f34-491d-90e6-df56c75cdc00"
      },
      "outputs": [
        {
          "output_type": "display_data",
          "data": {
            "text/plain": [
              "<Figure size 432x288 with 1 Axes>"
            ],
            "image/png": "[encoded data removed]"
          },
          "metadata": {
            "needs_background": "light"
          }
        }
      ],
      "source": [
        "np.random.seed(1)\n",
        "\n",
        "p1 = linspace(0,1,10)\n",
        "p2 = 0.3\n",
        "num_steps = 60\n",
        "num_runs = 20\n",
        "\n",
        "sweep = SweepSeries()\n",
        "for i in p1:\n",
        "  result = run_multiple_simulations(i, p2, num_steps, num_runs)\n",
        "  sweep[i] = result.mean()\n",
        "\n",
        "sweep.plot(label='total', color='pink')\n",
        "decorate(title='Olin-Wellesley Bikeshare',\n",
        "         xlabel='Customer rate at Olin (p1 in customers/min)', \n",
        "         ylabel='Angry Customers at Olin or Wellesley')"
      ]
    },
    {
      "cell_type": "markdown",
      "id": "biblical-federal",
      "metadata": {
        "id": "biblical-federal"
      },
      "source": [
        "## Under the Hood\n",
        "\n",
        "The object you get when you call `SweepSeries` is actually a Pandas `Series`, the same as the object you get from `TimeSeries`.\n",
        "I give them different names to help us remember that they play different roles.\n",
        "\n",
        "`Series` provides a number of functions, which you can read about at <https://pandas.pydata.org/pandas-docs/stable/reference/api/pandas.Series.html>.\n",
        "\n",
        "They include `mean`, which computes the average of the values in the `Series`, so if you have a `Series` named `totals`, for example, you can compute the mean like this:\n",
        "\n",
        "```\n",
        "    totals.mean()\n",
        "```\n",
        "\n",
        "`Series` provides other statistical functions, like `std`, which computes the standard deviation of the values in the series.\n",
        "\n",
        "In this chapter I use the keyword argument `color` to specify the color of a line plot.\n",
        "You can read about the other available colors at <https://matplotlib.org/3.3.2/tutorials/colors/colors.html>."
      ]
    },
    {
      "cell_type": "code",
      "execution_count": 31,
      "id": "federal-cemetery",
      "metadata": {
        "id": "federal-cemetery"
      },
      "outputs": [],
      "source": [
        ""
      ]
    }
  ],
  "metadata": {
    "celltoolbar": "Tags",
    "kernelspec": {
      "display_name": "Python 3 (ipykernel)",
      "language": "python",
      "name": "python3"
    },
    "language_info": {
      "codemirror_mode": {
        "name": "ipython",
        "version": 3
      },
      "file_extension": ".py",
      "mimetype": "text/x-python",
      "name": "python",
      "nbconvert_exporter": "python",
      "pygments_lexer": "ipython3",
      "version": "3.7.12"
    },
    "colab": {
      "name": "DATA 604 HW 2 Chapter 4.ipynb",
      "provenance": [],
      "collapsed_sections": [],
      "include_colab_link": true
    }
  },
  "nbformat": 4,
  "nbformat_minor": 5
}