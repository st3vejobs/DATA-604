{
  "nbformat": 4,
  "nbformat_minor": 0,
  "metadata": {
    "colab": {
      "name": "DATA 604 Discussion 1.ipynb",
      "provenance": [],
      "collapsed_sections": [],
      "authorship_tag": "ABX9TyOkYOdIrsmjUWWXN67Kxm8j",
      "include_colab_link": true
    },
    "kernelspec": {
      "name": "python3",
      "display_name": "Python 3"
    },
    "language_info": {
      "name": "python"
    }
  },
  "cells": [
    {
      "cell_type": "markdown",
      "metadata": {
        "id": "view-in-github",
        "colab_type": "text"
      },
      "source": [
        "<a href=\"https://colab.research.google.com/github/st3vejobs/DATA-604/blob/discussions/DATA_604_Discussion_1.ipynb\" target=\"_parent\"><img src=\"https://colab.research.google.com/assets/colab-badge.svg\" alt=\"Open In Colab\"/></a>"
      ]
    },
    {
      "cell_type": "markdown",
      "source": [
        "# Discussion 1\n",
        "\n",
        "I'll start with a very basic Law of Total Probability example I was thinking about the other day.\n",
        "\n",
        "The Law of Total Probability is a relatively simple concept that can be applied to increasingly difficult situations. \n",
        "\n"
      ],
      "metadata": {
        "id": "upHTP6rnzOv0"
      }
    },
    {
      "cell_type": "markdown",
      "source": [
        "### Definition:"
      ],
      "metadata": {
        "id": "k4bGgpzC0nyG"
      }
    },
    {
      "cell_type": "markdown",
      "source": [
        "If *B_1,B_2,B_3,...* form a partition of the sample space S, then the probability of event A is: \n",
        "$$ P(A) = \\sum P(A|B_i) \\times P(B_i)$$"
      ],
      "metadata": {
        "id": "c2GiSprC0qmk"
      }
    },
    {
      "cell_type": "markdown",
      "source": [
        "## Example\n",
        "\n",
        "\n",
        "I was discussing the LOTP with my partner this week, and we were talking about a very basic example.\n",
        "\n",
        "We roll a fair die, then we flip a coin. What is the probability of the coin flip being heads?\n",
        "\n",
        "In this example, we should assume that the events are not independent. Let event A represent a coin flip of heads, and let event B represent the outcome of the die roll.\n",
        "\n",
        "From the law of total probability, we can find the total probability of the coin flip being heads by finding the sum of the probability of heads given die rolls of (1,2,3,4,5,6) multiplied by the probability of each die roll. \n",
        "\n",
        "Assume a uniform probability for each possible outcome of the die roll and the coin flip. "
      ],
      "metadata": {
        "id": "q_JCPbwG2kF7"
      }
    },
    {
      "cell_type": "markdown",
      "source": [
        "$$P(heads) = \\sum P(heads | flip_i) \\times P(flip_i)$$\n",
        "\n",
        "\n",
        "$$P(heads|flip_1) = \\frac {P(heads \\cap flip_1)}{P(flip_1)}$$\n",
        "\n",
        "$$P(heads \\cap flip_1) = \\frac {1}{12}$$\n",
        "\n",
        "$$P(flip_1) = \\frac 16$$\n",
        "\n",
        "$$P(heads|flip_1) = \\frac {\\frac {1}{12}}{\\frac 16} = \\frac 12$$\n",
        "\n",
        "$$P(heads) = \\frac {1}{2} \\times \\frac 16 + \\frac {1}{2} \\times \\frac 16 + \\frac {1}{2} \\times \\frac 16 + \\frac {1}{2} \\times \\frac 16 + \\frac {1}{2} \\times \\frac 16 + \\frac {1}{2} \\times \\frac 16$$\n",
        "\n",
        "$$P(heads) = \\frac {1}{12} \\times 6$$\n",
        "\n",
        "$$P(heads) = \\frac {1}{2}$$"
      ],
      "metadata": {
        "id": "avHD16-e6Qu7"
      }
    },
    {
      "cell_type": "markdown",
      "source": [
        "This is a very basic example, and we see here that the events are in fact independent as well. "
      ],
      "metadata": {
        "id": "jQYJOu2n97w8"
      }
    },
    {
      "cell_type": "markdown",
      "source": [
        "## Applying to a Simulation\n",
        "\n",
        "Now that we have our \"game\", I will attempt to work it into a simulation that is repeated 1000 times, and I will see how well the probability works out. \n",
        "\n",
        "The goal is to find the probability the coin flip resulting in heads using the example from above. \n",
        "\n",
        "For simplicity, Heads will be assigned a value of 1, and Tails will be assigned a value of 0."
      ],
      "metadata": {
        "id": "XPs_Rf08-HMV"
      }
    },
    {
      "cell_type": "code",
      "execution_count": 29,
      "metadata": {
        "colab": {
          "base_uri": "https://localhost:8080/"
        },
        "id": "3uKVaoh_wvjS",
        "outputId": "4fc5d41f-17a4-4456-e9ea-858525504238"
      },
      "outputs": [
        {
          "output_type": "stream",
          "name": "stdout",
          "text": [
            "[1 2 3 4 5 6] [0.16666667 0.16666667 0.16666667 0.16666667 0.16666667 0.16666667]\n",
            "[0 1] [0.5 0.5]\n",
            "Empty DataFrame\n",
            "Columns: [Die, Coin]\n",
            "Index: []\n",
            "503\n"
          ]
        }
      ],
      "source": [
        "import numpy as np\n",
        "from numpy import random\n",
        "import pandas as pd\n",
        "\n",
        "#np.random.seed(42)\n",
        "\n",
        "die, dieprob = np.arange(1,7), np.repeat([1/6],6)\n",
        "coin, coinprob = np.arange(0,2), np.repeat([1/2],2)\n",
        "print(die, dieprob)\n",
        "print(coin,coinprob)\n",
        "\n",
        "results = pd.DataFrame(columns = ['Die', 'Coin'])\n",
        "print(results)\n",
        "\n",
        "# Using loop and dataframe because the simulation is multiple steps. \n",
        "\n",
        "for i in range(1,1001):\n",
        "  np.random.seed(i)\n",
        "  roll = int(np.random.choice(die, size=1, p=dieprob))\n",
        "  flip = int(np.random.choice(coin, size = 1, p=coinprob))\n",
        "  results = results.append({'Die': roll, 'Coin': flip}, ignore_index=True)\n",
        "#print(results)\n",
        "\n",
        "##Now, I will use the rudimentary version of the Law of Total Probability. \n",
        "##It is plain to see that by summing the conditional outcomes of 1 and Heads and 2 and heads, etc. will lead to the same result as just adding the heads\n",
        "\n",
        "\n",
        "#results['Die'] = results['Die'].astype(object)\n",
        "results = pd.DataFrame(results)\n",
        "results[[\"Die\", \"Coin\"]].groupby(\"Die\").sum()\n",
        "print(sum(results[\"Coin\"]))\n"
      ]
    },
    {
      "cell_type": "markdown",
      "source": [
        "## Results\n",
        "\n",
        "$$P(heads) = \\frac {503}{1000}$$\n",
        "\n",
        "$$P(heads_{(theoretical)} = \\frac 12$$"
      ],
      "metadata": {
        "id": "ivYkn53RDrFI"
      }
    }
  ]
}