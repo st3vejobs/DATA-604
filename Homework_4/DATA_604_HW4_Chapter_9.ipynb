{
  "cells": [
    {
      "cell_type": "markdown",
      "metadata": {
        "id": "view-in-github",
        "colab_type": "text"
      },
      "source": [
        "<a href=\"https://colab.research.google.com/github/st3vejobs/DATA-604/blob/homework/Homework_4/DATA_604_HW4_Chapter_9.ipynb\" target=\"_parent\"><img src=\"https://colab.research.google.com/assets/colab-badge.svg\" alt=\"Open In Colab\"/></a>"
      ]
    },
    {
      "cell_type": "markdown",
      "metadata": {
        "id": "4X8FhVJbHXcD"
      },
      "source": [
        "# Modeling and Simulation in Python\n",
        "\n",
        "Chapter 9\n",
        "\n",
        "Copyright 2017 Allen Downey\n",
        "\n",
        "License: [Creative Commons Attribution 4.0 International](https://creativecommons.org/licenses/by/4.0)\n"
      ]
    },
    {
      "cell_type": "code",
      "execution_count": 1,
      "metadata": {
        "id": "U2gFMUeoHXcG",
        "colab": {
          "base_uri": "https://localhost:8080/"
        },
        "outputId": "d115e993-ef42-4511-a2b1-59e7e2090b16"
      },
      "outputs": [
        {
          "output_type": "stream",
          "name": "stderr",
          "text": [
            "ERROR:root:The 'ast_node_interactivity' trait of a Shell instance expected any of ['all', 'last', 'last_expr', 'none'], not the str 'last_expr_or_assign'.\n"
          ]
        }
      ],
      "source": [
        "# Configure Jupyter to display the assigned value after an assignment\n",
        "%config InteractiveShell.ast_node_interactivity='last_expr_or_assign'\n",
        "\n",
        "# import everything from SymPy.\n",
        "from sympy import *\n",
        "\n",
        "# Set up Jupyter notebook to display math.\n",
        "init_printing() "
      ]
    },
    {
      "cell_type": "markdown",
      "metadata": {
        "id": "i4qqQXUaHXcH"
      },
      "source": [
        "The following displays SymPy expressions and provides the option of showing results in LaTeX format."
      ]
    },
    {
      "cell_type": "code",
      "execution_count": 2,
      "metadata": {
        "id": "xnuOkDPcHXcI"
      },
      "outputs": [],
      "source": [
        "from sympy.printing import latex\n",
        "\n",
        "def show(expr, show_latex=False):\n",
        "    \"\"\"Display a SymPy expression.\n",
        "    \n",
        "    expr: SymPy expression\n",
        "    show_latex: boolean\n",
        "    \"\"\"\n",
        "    if show_latex:\n",
        "        print(latex(expr))\n",
        "    return expr"
      ]
    },
    {
      "cell_type": "markdown",
      "metadata": {
        "id": "063sAA27HXcJ"
      },
      "source": [
        "### Analysis with SymPy"
      ]
    },
    {
      "cell_type": "markdown",
      "metadata": {
        "id": "MDHNDZEOHXcK"
      },
      "source": [
        "Create a symbol for time."
      ]
    },
    {
      "cell_type": "code",
      "execution_count": 3,
      "metadata": {
        "id": "KCP08eN-HXcK"
      },
      "outputs": [],
      "source": [
        "t = symbols('t')"
      ]
    },
    {
      "cell_type": "markdown",
      "metadata": {
        "id": "8pz01tY8HXcL"
      },
      "source": [
        "If you combine symbols and numbers, you get symbolic expressions."
      ]
    },
    {
      "cell_type": "code",
      "execution_count": 4,
      "metadata": {
        "id": "Xripg_hwHXcM"
      },
      "outputs": [],
      "source": [
        "expr = t + 1"
      ]
    },
    {
      "cell_type": "markdown",
      "metadata": {
        "id": "3ruYgsDzHXcM"
      },
      "source": [
        "The result is an `Add` object, which just represents the sum without trying to compute it."
      ]
    },
    {
      "cell_type": "code",
      "execution_count": 5,
      "metadata": {
        "id": "FLuw2urCHXcN",
        "colab": {
          "base_uri": "https://localhost:8080/"
        },
        "outputId": "82907a9a-ed8d-4b35-870f-ba43856bd188"
      },
      "outputs": [
        {
          "output_type": "execute_result",
          "data": {
            "text/plain": [
              "sympy.core.add.Add"
            ]
          },
          "metadata": {},
          "execution_count": 5
        }
      ],
      "source": [
        "type(expr)"
      ]
    },
    {
      "cell_type": "markdown",
      "metadata": {
        "id": "OmDXUlhFHXcN"
      },
      "source": [
        "`subs` can be used to replace a symbol with a number, which allows the addition to proceed."
      ]
    },
    {
      "cell_type": "code",
      "execution_count": 6,
      "metadata": {
        "id": "95g776uXHXcO",
        "colab": {
          "base_uri": "https://localhost:8080/",
          "height": 37
        },
        "outputId": "7ec9dff9-ca0d-4ed4-e112-b438858ef773"
      },
      "outputs": [
        {
          "output_type": "execute_result",
          "data": {
            "text/plain": [
              "3"
            ],
            "image/png": "[encoded data removed]",
            "text/latex": "$\\displaystyle 3$"
          },
          "metadata": {},
          "execution_count": 6
        }
      ],
      "source": [
        "expr.subs(t, 2)"
      ]
    },
    {
      "cell_type": "markdown",
      "metadata": {
        "id": "VT6SVrtVHXcP"
      },
      "source": [
        "`f` is a special class of symbol that represents a function."
      ]
    },
    {
      "cell_type": "code",
      "execution_count": 8,
      "metadata": {
        "id": "Xa1ihn7PHXcQ"
      },
      "outputs": [],
      "source": [
        "f = Function('f')"
      ]
    },
    {
      "cell_type": "markdown",
      "metadata": {
        "id": "J16gdBNbHXcQ"
      },
      "source": [
        "The type of `f` is `UndefinedFunction`"
      ]
    },
    {
      "cell_type": "code",
      "execution_count": 9,
      "metadata": {
        "id": "Aewh5Z87HXcS",
        "colab": {
          "base_uri": "https://localhost:8080/"
        },
        "outputId": "11e2143e-e2a0-43ae-bdbf-3b5067c57147"
      },
      "outputs": [
        {
          "output_type": "execute_result",
          "data": {
            "text/plain": [
              "sympy.core.function.UndefinedFunction"
            ]
          },
          "metadata": {},
          "execution_count": 9
        }
      ],
      "source": [
        "type(f)"
      ]
    },
    {
      "cell_type": "markdown",
      "metadata": {
        "id": "YsbAs8FGHXcS"
      },
      "source": [
        "SymPy understands that `f(t)` means `f` evaluated at `t`, but it doesn't try to evaluate it yet."
      ]
    },
    {
      "cell_type": "code",
      "execution_count": 10,
      "metadata": {
        "id": "M_PCcSqeHXcU",
        "colab": {
          "base_uri": "https://localhost:8080/",
          "height": 38
        },
        "outputId": "98f25d71-32ef-4d95-f04c-a48c5e52c3fd"
      },
      "outputs": [
        {
          "output_type": "execute_result",
          "data": {
            "text/plain": [
              "f(t)"
            ],
            "image/png": "[encoded data removed]",
            "text/latex": "$\\displaystyle f{\\left(t \\right)}$"
          },
          "metadata": {},
          "execution_count": 10
        }
      ],
      "source": [
        "f(t)"
      ]
    },
    {
      "cell_type": "markdown",
      "metadata": {
        "id": "NgCaPH6hHXcU"
      },
      "source": [
        "`diff` returns a `Derivative` object that represents the time derivative of `f`"
      ]
    },
    {
      "cell_type": "code",
      "execution_count": 11,
      "metadata": {
        "id": "mKZsbjAmHXcW"
      },
      "outputs": [],
      "source": [
        "dfdt = diff(f(t), t)"
      ]
    },
    {
      "cell_type": "code",
      "execution_count": 12,
      "metadata": {
        "id": "5rteB_JeHXcX",
        "colab": {
          "base_uri": "https://localhost:8080/"
        },
        "outputId": "c22d3fcf-4e79-497a-a66d-9baa58546bd6"
      },
      "outputs": [
        {
          "output_type": "execute_result",
          "data": {
            "text/plain": [
              "sympy.core.function.Derivative"
            ]
          },
          "metadata": {},
          "execution_count": 12
        }
      ],
      "source": [
        "type(dfdt)"
      ]
    },
    {
      "cell_type": "markdown",
      "metadata": {
        "id": "Si67SFrgHXcY"
      },
      "source": [
        "We need a symbol for `alpha`"
      ]
    },
    {
      "cell_type": "code",
      "execution_count": 13,
      "metadata": {
        "id": "rhN0DPa9HXcZ"
      },
      "outputs": [],
      "source": [
        "alpha = symbols('alpha')"
      ]
    },
    {
      "cell_type": "markdown",
      "metadata": {
        "id": "EbRosdh0HXca"
      },
      "source": [
        "Now we can write the differential equation for proportional growth."
      ]
    },
    {
      "cell_type": "code",
      "execution_count": 14,
      "metadata": {
        "id": "-RBdB3-oHXca"
      },
      "outputs": [],
      "source": [
        "eq1 = Eq(dfdt, alpha*f(t))"
      ]
    },
    {
      "cell_type": "markdown",
      "metadata": {
        "id": "ou4XgX68HXcc"
      },
      "source": [
        "And use `dsolve` to solve it.  The result is the general solution."
      ]
    },
    {
      "cell_type": "code",
      "execution_count": 15,
      "metadata": {
        "id": "6rfdUdDHHXcc"
      },
      "outputs": [],
      "source": [
        "solution_eq = dsolve(eq1)"
      ]
    },
    {
      "cell_type": "markdown",
      "metadata": {
        "id": "DnDgKAt6HXcc"
      },
      "source": [
        "We can tell it's a general solution because it contains an unspecified constant, `C1`.\n",
        "\n",
        "In this example, finding the particular solution is easy: we just replace `C1` with `p_0`"
      ]
    },
    {
      "cell_type": "code",
      "execution_count": 16,
      "metadata": {
        "id": "kAAjW10HHXcd"
      },
      "outputs": [],
      "source": [
        "C1, p_0 = symbols('C1 p_0')"
      ]
    },
    {
      "cell_type": "code",
      "execution_count": 17,
      "metadata": {
        "id": "D-sUZStyHXce"
      },
      "outputs": [],
      "source": [
        "particular = solution_eq.subs(C1, p_0)"
      ]
    },
    {
      "cell_type": "markdown",
      "metadata": {
        "id": "5JBCwmMhHXcf"
      },
      "source": [
        "In the next example, we have to work a little harder to find the particular solution."
      ]
    },
    {
      "cell_type": "markdown",
      "metadata": {
        "id": "iHsFim8dHXcf"
      },
      "source": [
        "### Solving the quadratic growth equation \n",
        "\n",
        "We'll use the (r, K) parameterization, so we'll need two more symbols:"
      ]
    },
    {
      "cell_type": "code",
      "execution_count": 18,
      "metadata": {
        "id": "rClafthWHXcg"
      },
      "outputs": [],
      "source": [
        "r, K = symbols('r K')"
      ]
    },
    {
      "cell_type": "markdown",
      "metadata": {
        "id": "yblKfcIKHXcg"
      },
      "source": [
        "Now we can write the differential equation."
      ]
    },
    {
      "cell_type": "code",
      "execution_count": 19,
      "metadata": {
        "id": "a8Ks7F2uHXcg"
      },
      "outputs": [],
      "source": [
        "eq2 = Eq(diff(f(t), t), r * f(t) * (1 - f(t)/K))"
      ]
    },
    {
      "cell_type": "markdown",
      "metadata": {
        "id": "YzV9MvfnHXch"
      },
      "source": [
        "And solve it."
      ]
    },
    {
      "cell_type": "code",
      "execution_count": 20,
      "metadata": {
        "id": "kjoG0WSEHXch"
      },
      "outputs": [],
      "source": [
        "solution_eq = dsolve(eq2)"
      ]
    },
    {
      "cell_type": "markdown",
      "metadata": {
        "id": "0ZPuiU1KHXch"
      },
      "source": [
        "The result, `solution_eq`, contains `rhs`, which is the right-hand side of the solution."
      ]
    },
    {
      "cell_type": "code",
      "execution_count": 21,
      "metadata": {
        "id": "L7RmN_sfHXci"
      },
      "outputs": [],
      "source": [
        "general = solution_eq.rhs"
      ]
    },
    {
      "cell_type": "markdown",
      "metadata": {
        "id": "oMjrKztoHXci"
      },
      "source": [
        "We can evaluate the right-hand side at $t=0$"
      ]
    },
    {
      "cell_type": "code",
      "execution_count": 22,
      "metadata": {
        "id": "MqkExGLdHXci"
      },
      "outputs": [],
      "source": [
        "at_0 = general.subs(t, 0)"
      ]
    },
    {
      "cell_type": "markdown",
      "metadata": {
        "id": "_fdJwB0fHXci"
      },
      "source": [
        "Now we want to find the value of `C1` that makes `f(0) = p_0`.\n",
        "\n",
        "So we'll create the equation `at_0 = p_0` and solve for `C1`.  Because this is just an algebraic identity, not a differential equation, we use `solve`, not `dsolve`.\n",
        "\n",
        "The result from `solve` is a list of solutions.  In this case, [we have reason to expect only one solution](https://en.wikipedia.org/wiki/Picard%E2%80%93Lindel%C3%B6f_theorem), but we still get a list, so we have to use the bracket operator, `[0]`, to select the first one."
      ]
    },
    {
      "cell_type": "code",
      "execution_count": 23,
      "metadata": {
        "id": "uIaAArcMHXci",
        "colab": {
          "base_uri": "https://localhost:8080/"
        },
        "outputId": "7cc3e45e-9c54-443e-81bf-0edc4b6c09c9"
      },
      "outputs": [
        {
          "output_type": "execute_result",
          "data": {
            "text/plain": [
              "(list, 1)"
            ]
          },
          "metadata": {},
          "execution_count": 23
        }
      ],
      "source": [
        "solutions = solve(Eq(at_0, p_0), C1)\n",
        "type(solutions), len(solutions)"
      ]
    },
    {
      "cell_type": "code",
      "execution_count": 24,
      "metadata": {
        "id": "AnYQWXOFHXcj"
      },
      "outputs": [],
      "source": [
        "value_of_C1 = solutions[0]"
      ]
    },
    {
      "cell_type": "markdown",
      "metadata": {
        "id": "uiDRuChAHXcj"
      },
      "source": [
        "Now in the general solution, we want to replace `C1` with the value of `C1` we just figured out."
      ]
    },
    {
      "cell_type": "code",
      "execution_count": 25,
      "metadata": {
        "id": "QHYkfnYjHXck"
      },
      "outputs": [],
      "source": [
        "particular = general.subs(C1, value_of_C1)"
      ]
    },
    {
      "cell_type": "markdown",
      "metadata": {
        "id": "svxGzS5IHXck"
      },
      "source": [
        "The result is complicated, but SymPy provides a method that tries to simplify it."
      ]
    },
    {
      "cell_type": "code",
      "execution_count": 26,
      "metadata": {
        "id": "b9f1WgXlHXcl"
      },
      "outputs": [],
      "source": [
        "particular = simplify(particular)"
      ]
    },
    {
      "cell_type": "markdown",
      "metadata": {
        "id": "8Kwy0pPkHXcl"
      },
      "source": [
        "Often simplicity is in the eye of the beholder, but that's about as simple as this expression gets.\n",
        "\n",
        "Just to double-check, we can evaluate it at `t=0` and confirm that we get `p_0`"
      ]
    },
    {
      "cell_type": "code",
      "execution_count": 27,
      "metadata": {
        "id": "HFtGbjelHXcl",
        "colab": {
          "base_uri": "https://localhost:8080/",
          "height": 38
        },
        "outputId": "9ab94f26-afdb-4bc9-db40-8a03fc29b3c9"
      },
      "outputs": [
        {
          "output_type": "execute_result",
          "data": {
            "text/plain": [
              "p₀"
            ],
            "image/png": "[encoded data removed]",
            "text/latex": "$\\displaystyle p_{0}$"
          },
          "metadata": {},
          "execution_count": 27
        }
      ],
      "source": [
        "particular.subs(t, 0)"
      ]
    },
    {
      "cell_type": "markdown",
      "metadata": {
        "id": "l24CWaFVHXcl"
      },
      "source": [
        "This solution is called the [logistic function](https://en.wikipedia.org/wiki/Population_growth#Logistic_equation).\n",
        "\n",
        "In some places you'll see it written in a different form:\n",
        "\n",
        "$f(t) = \\frac{K}{1 + A e^{-rt}}$\n",
        "\n",
        "where $A = (K - p_0) / p_0$.\n",
        "\n",
        "We can use SymPy to confirm that these two forms are equivalent.  First we represent the alternative version of the logistic function:"
      ]
    },
    {
      "cell_type": "code",
      "execution_count": 28,
      "metadata": {
        "id": "FKrG1qD8HXcm"
      },
      "outputs": [],
      "source": [
        "A = (K - p_0) / p_0"
      ]
    },
    {
      "cell_type": "code",
      "execution_count": 29,
      "metadata": {
        "id": "an5_uSSzHXcm"
      },
      "outputs": [],
      "source": [
        "logistic = K / (1 + A * exp(-r*t))"
      ]
    },
    {
      "cell_type": "markdown",
      "metadata": {
        "id": "M49XoJjhHXcm"
      },
      "source": [
        "To see whether two expressions are equivalent, we can check whether their difference simplifies to 0."
      ]
    },
    {
      "cell_type": "code",
      "execution_count": 30,
      "metadata": {
        "scrolled": true,
        "id": "QRk0Sb9RHXcm",
        "colab": {
          "base_uri": "https://localhost:8080/",
          "height": 37
        },
        "outputId": "550d5318-687d-4841-badc-7cdceec403c6"
      },
      "outputs": [
        {
          "output_type": "execute_result",
          "data": {
            "text/plain": [
              "0"
            ],
            "image/png": "[encoded data removed]",
            "text/latex": "$\\displaystyle 0$"
          },
          "metadata": {},
          "execution_count": 30
        }
      ],
      "source": [
        "simplify(particular - logistic)"
      ]
    },
    {
      "cell_type": "markdown",
      "metadata": {
        "id": "96RRhg5kHXcm"
      },
      "source": [
        "This test only works one way: if SymPy says the difference reduces to 0, the expressions are definitely equivalent (and not just numerically close).\n",
        "\n",
        "But if SymPy can't find a way to simplify the result to 0, that doesn't necessarily mean there isn't one.  Testing whether two expressions are equivalent is a surprisingly hard problem; in fact, there is no algorithm that can solve it in general."
      ]
    },
    {
      "cell_type": "markdown",
      "metadata": {
        "id": "r3mxbmAuHXcn"
      },
      "source": [
        "### Exercises\n",
        "\n",
        "**Exercise:** Solve the quadratic growth equation using the alternative parameterization\n",
        "\n",
        "$\\frac{df(t)}{dt} = \\alpha f(t) + \\beta f^2(t) $"
      ]
    },
    {
      "cell_type": "code",
      "execution_count": 47,
      "metadata": {
        "id": "FZR93iSlHXcn",
        "colab": {
          "base_uri": "https://localhost:8080/",
          "height": 63
        },
        "outputId": "f2baf3a2-3ed0-4203-c90d-81ba040caf95"
      },
      "outputs": [
        {
          "output_type": "execute_result",
          "data": {
            "text/plain": [
              "             α⋅(C₁ + t)   \n",
              "          α⋅ℯ             \n",
              "f(t) = ───────────────────\n",
              "         ⎛     α⋅(C₁ + t)⎞\n",
              "       β⋅⎝1 - ℯ          ⎠"
            ],
            "image/png": "[encoded data removed]",
            "text/latex": "$\\displaystyle f{\\left(t \\right)} = \\frac{\\alpha e^{\\alpha \\left(C_{1} + t\\right)}}{\\beta \\left(1 - e^{\\alpha \\left(C_{1} + t\\right)}\\right)}$"
          },
          "metadata": {},
          "execution_count": 47
        }
      ],
      "source": [
        "alpha = symbols('alpha')\n",
        "beta = symbols('beta')\n",
        "\n",
        "dft_dt = Eq(diff(f(t),t),alpha*f(t) + beta*f(t)**2)\n",
        "\n",
        "solve_dft_dt = dsolve(dft_dt)\n",
        "solve_dft_dt # Why doesn't print() work here?\n",
        "\n"
      ]
    },
    {
      "cell_type": "code",
      "execution_count": 48,
      "metadata": {
        "id": "paafTIjMHXcn",
        "colab": {
          "base_uri": "https://localhost:8080/",
          "height": 63
        },
        "outputId": "d161abac-af0b-4cc3-da45-d26f47ec5d99"
      },
      "outputs": [
        {
          "output_type": "execute_result",
          "data": {
            "text/plain": [
              "      α⋅(C₁ + t)   \n",
              "   α⋅ℯ             \n",
              "───────────────────\n",
              "  ⎛     α⋅(C₁ + t)⎞\n",
              "β⋅⎝1 - ℯ          ⎠"
            ],
            "image/png": "[encoded data removed]",
            "text/latex": "$\\displaystyle \\frac{\\alpha e^{\\alpha \\left(C_{1} + t\\right)}}{\\beta \\left(1 - e^{\\alpha \\left(C_{1} + t\\right)}\\right)}$"
          },
          "metadata": {},
          "execution_count": 48
        }
      ],
      "source": [
        "rhs = solve_dft_dt.rhs\n",
        "rhs"
      ]
    },
    {
      "cell_type": "code",
      "execution_count": 50,
      "metadata": {
        "id": "xAUX0MgnHXco",
        "colab": {
          "base_uri": "https://localhost:8080/",
          "height": 60
        },
        "outputId": "2e0d0971-6231-4794-8ffd-7faf05fd030d"
      },
      "outputs": [
        {
          "output_type": "execute_result",
          "data": {
            "text/plain": [
              "      C₁⋅α   \n",
              "   α⋅ℯ       \n",
              "─────────────\n",
              "  ⎛     C₁⋅α⎞\n",
              "β⋅⎝1 - ℯ    ⎠"
            ],
            "image/png": "[encoded data removed]",
            "text/latex": "$\\displaystyle \\frac{\\alpha e^{C_{1} \\alpha}}{\\beta \\left(1 - e^{C_{1} \\alpha}\\right)}$"
          },
          "metadata": {},
          "execution_count": 50
        }
      ],
      "source": [
        "solve_0 = rhs.subs(t,0)\n",
        "solve_0"
      ]
    },
    {
      "cell_type": "code",
      "execution_count": 60,
      "metadata": {
        "id": "Yu3C62XfHXco",
        "colab": {
          "base_uri": "https://localhost:8080/",
          "height": 80
        },
        "outputId": "a84e8fd2-00bd-4ae2-949d-641675455ddb"
      },
      "outputs": [
        {
          "output_type": "execute_result",
          "data": {
            "text/plain": [
              "⎡   ⎛  β⋅p₀  ⎞⎤\n",
              "⎢log⎜────────⎟⎥\n",
              "⎢   ⎝α + β⋅p₀⎠⎥\n",
              "⎢─────────────⎥\n",
              "⎣      α      ⎦"
            ],
            "image/png": "[encoded data removed]",
            "text/latex": "$\\displaystyle \\left[ \\frac{\\log{\\left(\\frac{\\beta p_{0}}{\\alpha + \\beta p_{0}} \\right)}}{\\alpha}\\right]$"
          },
          "metadata": {},
          "execution_count": 60
        }
      ],
      "source": [
        "soln = solve(Eq(solve_0, p_0), C1)\n",
        "type(soln), len(soln)\n",
        "soln"
      ]
    },
    {
      "cell_type": "code",
      "execution_count": 53,
      "metadata": {
        "id": "PELR3Z6cHXcp",
        "colab": {
          "base_uri": "https://localhost:8080/",
          "height": 67
        },
        "outputId": "1946642e-4d25-41b5-f17d-34070a2e224c"
      },
      "outputs": [
        {
          "output_type": "execute_result",
          "data": {
            "text/plain": [
              "   ⎛  β⋅p₀  ⎞\n",
              "log⎜────────⎟\n",
              "   ⎝α + β⋅p₀⎠\n",
              "─────────────\n",
              "      α      "
            ],
            "image/png": "[encoded data removed]",
            "text/latex": "$\\displaystyle \\frac{\\log{\\left(\\frac{\\beta p_{0}}{\\alpha + \\beta p_{0}} \\right)}}{\\alpha}$"
          },
          "metadata": {},
          "execution_count": 53
        }
      ],
      "source": [
        "C1_val = soln[0]\n",
        "C1_val"
      ]
    },
    {
      "cell_type": "code",
      "execution_count": 54,
      "metadata": {
        "id": "d998dtkBHXcp",
        "colab": {
          "base_uri": "https://localhost:8080/",
          "height": 144
        },
        "outputId": "14ffc2ee-695a-4f4c-afe1-f7a75ffada5c"
      },
      "outputs": [
        {
          "output_type": "execute_result",
          "data": {
            "text/plain": [
              "        ⎛       ⎛  β⋅p₀  ⎞⎞   \n",
              "        ⎜    log⎜────────⎟⎟   \n",
              "        ⎜       ⎝α + β⋅p₀⎠⎟   \n",
              "      α⋅⎜t + ─────────────⎟   \n",
              "        ⎝          α      ⎠   \n",
              "   α⋅ℯ                        \n",
              "──────────────────────────────\n",
              "  ⎛       ⎛       ⎛  β⋅p₀  ⎞⎞⎞\n",
              "  ⎜       ⎜    log⎜────────⎟⎟⎟\n",
              "  ⎜       ⎜       ⎝α + β⋅p₀⎠⎟⎟\n",
              "  ⎜     α⋅⎜t + ─────────────⎟⎟\n",
              "  ⎜       ⎝          α      ⎠⎟\n",
              "β⋅⎝1 - ℯ                     ⎠"
            ],
            "image/png": "[encoded data removed]",
            "text/latex": "$\\displaystyle \\frac{\\alpha e^{\\alpha \\left(t + \\frac{\\log{\\left(\\frac{\\beta p_{0}}{\\alpha + \\beta p_{0}} \\right)}}{\\alpha}\\right)}}{\\beta \\left(1 - e^{\\alpha \\left(t + \\frac{\\log{\\left(\\frac{\\beta p_{0}}{\\alpha + \\beta p_{0}} \\right)}}{\\alpha}\\right)}\\right)}$"
          },
          "metadata": {},
          "execution_count": 54
        }
      ],
      "source": [
        "particular_soln = rhs.subs(C1, C1_val)\n",
        "particular_soln"
      ]
    },
    {
      "cell_type": "markdown",
      "source": [
        "### Final Form Solution"
      ],
      "metadata": {
        "id": "eIzf2js0tZfh"
      }
    },
    {
      "cell_type": "code",
      "execution_count": 58,
      "metadata": {
        "id": "qW8GpHsGHXcp",
        "colab": {
          "base_uri": "https://localhost:8080/",
          "height": 58
        },
        "outputId": "04dd59e0-0a0b-4e1e-ec2b-d57349943b9f"
      },
      "outputs": [
        {
          "output_type": "execute_result",
          "data": {
            "text/plain": [
              "           α⋅t      \n",
              "     α⋅p₀⋅ℯ         \n",
              "────────────────────\n",
              "          α⋅t       \n",
              "α - β⋅p₀⋅ℯ    + β⋅p₀"
            ],
            "image/png": "[encoded data removed]",
            "text/latex": "$\\displaystyle \\frac{\\alpha p_{0} e^{\\alpha t}}{\\alpha - \\beta p_{0} e^{\\alpha t} + \\beta p_{0}}$"
          },
          "metadata": {},
          "execution_count": 58
        }
      ],
      "source": [
        "particular = simplify(particular_soln)\n",
        "particular"
      ]
    },
    {
      "cell_type": "code",
      "source": [
        "particular.subs(t,0)"
      ],
      "metadata": {
        "colab": {
          "base_uri": "https://localhost:8080/",
          "height": 38
        },
        "id": "WG5zqE2XsyL5",
        "outputId": "cb1a0a8a-2501-42a0-a938-08a707304b3d"
      },
      "execution_count": 59,
      "outputs": [
        {
          "output_type": "execute_result",
          "data": {
            "text/plain": [
              "p₀"
            ],
            "image/png": "[encoded data removed]",
            "text/latex": "$\\displaystyle p_{0}$"
          },
          "metadata": {},
          "execution_count": 59
        }
      ]
    },
    {
      "cell_type": "markdown",
      "metadata": {
        "id": "yIZap6COHXcq"
      },
      "source": [
        "**Exercise:**  Use [WolframAlpha](https://www.wolframalpha.com/) to solve the quadratic growth model, using either or both forms of parameterization:\n",
        "\n",
        "    df(t) / dt = alpha f(t) + beta f(t)^2\n",
        "\n",
        "or\n",
        "\n",
        "    df(t) / dt = r f(t) (1 - f(t)/K)\n",
        "\n",
        "Find the general solution and also the particular solution where `f(0) = p_0`."
      ]
    },
    {
      "cell_type": "markdown",
      "source": [
        "$f(t) = -\\frac {\\alpha e^{\\alpha C_1 + \\alpha t}} {\\beta e^{\\alpha C_1 + \\alpha t} - 1}$"
      ],
      "metadata": {
        "id": "zhXqBN2iuDuK"
      }
    },
    {
      "cell_type": "markdown",
      "source": [
        "$f(t) = \\frac {\\xi e^{C_1\\xi + rt}}{e^{C_1 \\xi + rt} - 1}$"
      ],
      "metadata": {
        "id": "yBOvXWXtwzSD"
      }
    },
    {
      "cell_type": "markdown",
      "source": [
        "$f(0) = \\frac {\\alpha e^{\\alpha C_1}} {1 - \\beta e^{\\alpha C_1}} = p_0$"
      ],
      "metadata": {
        "id": "Ta5G2v1j3fE4"
      }
    },
    {
      "cell_type": "markdown",
      "source": [
        "$C_1 = \\frac {log(\\frac{p_0}{\\alpha + \\beta p_0})}{\\alpha}$"
      ],
      "metadata": {
        "id": "zf0_ihiE5q8S"
      }
    },
    {
      "cell_type": "markdown",
      "source": [
        "Particular Solution Simplified:"
      ],
      "metadata": {
        "id": "LxW4wMsc6OE4"
      }
    },
    {
      "cell_type": "markdown",
      "source": [
        "$\\frac {\\alpha p_0}{(\\alpha + \\beta p_0)(1 - \\frac{\\beta p_0}{\\alpha + \\beta p_0})}$"
      ],
      "metadata": {
        "id": "5LYE3tUv3rcg"
      }
    }
  ],
  "metadata": {
    "kernelspec": {
      "display_name": "Python 3",
      "language": "python",
      "name": "python3"
    },
    "language_info": {
      "codemirror_mode": {
        "name": "ipython",
        "version": 3
      },
      "file_extension": ".py",
      "mimetype": "text/x-python",
      "name": "python",
      "nbconvert_exporter": "python",
      "pygments_lexer": "ipython3",
      "version": "3.7.3"
    },
    "colab": {
      "name": "DATA 604 HW4 Chapter 9.ipynb",
      "provenance": [],
      "collapsed_sections": [
        "iHsFim8dHXcf"
      ],
      "include_colab_link": true
    }
  },
  "nbformat": 4,
  "nbformat_minor": 0
}