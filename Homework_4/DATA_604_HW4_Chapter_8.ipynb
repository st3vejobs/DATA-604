{
  "cells": [
    {
      "cell_type": "markdown",
      "metadata": {
        "id": "view-in-github",
        "colab_type": "text"
      },
      "source": [
        "<a href=\"https://colab.research.google.com/github/st3vejobs/DATA-604/blob/homework/Homework_4/DATA_604_HW4_Chapter_8.ipynb\" target=\"_parent\"><img src=\"https://colab.research.google.com/assets/colab-badge.svg\" alt=\"Open In Colab\"/></a>"
      ]
    },
    {
      "cell_type": "markdown",
      "metadata": {
        "id": "bX5cdC4HGUZx"
      },
      "source": [
        "# Modeling and Simulation in Python\n",
        "\n",
        "Chapter 8\n",
        "\n",
        "Copyright 2017 Allen Downey\n",
        "\n",
        "License: [Creative Commons Attribution 4.0 International](https://creativecommons.org/licenses/by/4.0)\n"
      ]
    },
    {
      "cell_type": "code",
      "execution_count": 44,
      "metadata": {
        "id": "WAkPJ3YHGUZz",
        "colab": {
          "base_uri": "https://localhost:8080/"
        },
        "outputId": "b4606999-e7f9-4271-bcd4-00b50d518e28"
      },
      "outputs": [
        {
          "output_type": "stream",
          "name": "stderr",
          "text": [
            "ERROR:root:The 'ast_node_interactivity' trait of a Shell instance expected any of ['all', 'last', 'last_expr', 'none'], not the str 'last_expr_or_assign'.\n"
          ]
        }
      ],
      "source": [
        "from os.path import basename, exists\n",
        "\n",
        "def download(url):\n",
        "    filename = basename(url)\n",
        "    if not exists(filename):\n",
        "        from urllib.request import urlretrieve\n",
        "        local, _ = urlretrieve(url, filename)\n",
        "        print('Downloaded ' + local)\n",
        "    \n",
        "download('https://github.com/AllenDowney/ModSimPy/raw/master/' +\n",
        "         'modsim.py')\n",
        "\n",
        "try:\n",
        "    import pint\n",
        "except ImportError:\n",
        "    !pip install pint\n",
        "    import pint\n",
        "    \n",
        "try:\n",
        "    from modsim import *\n",
        "except ImportError:\n",
        "    !pip install modsimpy\n",
        "    from modsim import *\n",
        "\n",
        "# Configure Jupyter so figures appear in the notebook\n",
        "%matplotlib inline\n",
        "\n",
        "# Configure Jupyter to display the assigned value after an assignment\n",
        "%config InteractiveShell.ast_node_interactivity='last_expr_or_assign'\n",
        "\n",
        "# import functions from the modsim.py module\n",
        "from modsim import *\n",
        "from matplotlib.pyplot import plot"
      ]
    },
    {
      "cell_type": "markdown",
      "metadata": {
        "id": "PsamWQ42GUZ1"
      },
      "source": [
        "### Functions from the previous chapter"
      ]
    },
    {
      "cell_type": "code",
      "execution_count": 45,
      "metadata": {
        "id": "R1uLFPz2GUZ2"
      },
      "outputs": [],
      "source": [
        "def plot_results(census, un, timeseries, title):\n",
        "    \"\"\"Plot the estimates and the model.\n",
        "    \n",
        "    census: TimeSeries of population estimates\n",
        "    un: TimeSeries of population estimates\n",
        "    timeseries: TimeSeries of simulation results\n",
        "    title: string\n",
        "    \"\"\"\n",
        "    plot(census, ':', label='US Census')\n",
        "    plot(un, '--', label='UN DESA')\n",
        "    plot(timeseries, color='gray', label='model')\n",
        "    \n",
        "    decorate(xlabel='Year', \n",
        "             ylabel='World population (billion)',\n",
        "             title=title)"
      ]
    },
    {
      "cell_type": "code",
      "execution_count": 46,
      "metadata": {
        "id": "sfAuq4WiGUZ3"
      },
      "outputs": [],
      "source": [
        "def run_simulation(system, update_func):\n",
        "    \"\"\"Simulate the system using any update function.\n",
        "    \n",
        "    system: System object\n",
        "    update_func: function that computes the population next year\n",
        "    \n",
        "    returns: TimeSeries\n",
        "    \"\"\"\n",
        "    results = TimeSeries()\n",
        "    results[system.t_0] = system.p_0\n",
        "    \n",
        "    for t in linrange(system.t_0, system.t_end):\n",
        "        results[t+1] = update_func(results[t], t, system)\n",
        "        \n",
        "    return results"
      ]
    },
    {
      "cell_type": "markdown",
      "metadata": {
        "id": "bn0wqJH6GUZ4"
      },
      "source": [
        "### Reading the data"
      ]
    },
    {
      "cell_type": "code",
      "execution_count": 47,
      "metadata": {
        "id": "cehZK0_oGUZ5"
      },
      "outputs": [],
      "source": [
        "def read_table2(filename = 'data/World_population_estimates.html'):\n",
        "    tables = pd.read_html(filename, header=0, index_col=0, decimal='M')\n",
        "    table2 = tables[2]\n",
        "    table2.columns = ['census', 'prb', 'un', 'maddison', \n",
        "                  'hyde', 'tanton', 'biraben', 'mj', \n",
        "                  'thomlinson', 'durand', 'clark']\n",
        "    return table2"
      ]
    },
    {
      "cell_type": "code",
      "execution_count": 48,
      "metadata": {
        "id": "xmCe_0QUGUZ5"
      },
      "outputs": [],
      "source": [
        "#table2 = read_table2()\n",
        "#table2.to_csv('data/World_population_estimates2.csv')"
      ]
    },
    {
      "cell_type": "code",
      "execution_count": 49,
      "metadata": {
        "id": "zd2Uhi8eGUZ6",
        "colab": {
          "base_uri": "https://localhost:8080/",
          "height": 299
        },
        "outputId": "88d75bb6-9f52-4fad-b697-02ed964f1454"
      },
      "outputs": [
        {
          "output_type": "execute_result",
          "data": {
            "text/plain": [
              "      Year      census           prb            un      maddison  \\\n",
              "Year                                                               \n",
              "1950  1950  2557628654  2.516000e+09  2.525149e+09  2.544000e+09   \n",
              "1951  1951  2594939877           NaN  2.572851e+09  2.571663e+09   \n",
              "1952  1952  2636772306           NaN  2.619292e+09  2.617949e+09   \n",
              "1953  1953  2682053389           NaN  2.665865e+09  2.665959e+09   \n",
              "1954  1954  2730228104           NaN  2.713172e+09  2.716927e+09   \n",
              "\n",
              "              hyde        tanton       biraben            mj    thomlinson  \\\n",
              "Year                                                                         \n",
              "1950  2.527960e+09  2.400000e+09  2.527000e+09  2.500000e+09  2.400000e+09   \n",
              "1951           NaN           NaN           NaN           NaN           NaN   \n",
              "1952           NaN           NaN           NaN           NaN           NaN   \n",
              "1953           NaN           NaN           NaN           NaN           NaN   \n",
              "1954           NaN           NaN           NaN           NaN           NaN   \n",
              "\n",
              "     durand         clark  \n",
              "Year                       \n",
              "1950    NaN  2.486000e+09  \n",
              "1951    NaN           NaN  \n",
              "1952    NaN           NaN  \n",
              "1953    NaN           NaN  \n",
              "1954    NaN           NaN  "
            ],
            "text/html": [
              "\n",
              "  <div id=\"df-2c85bb8c-d66d-4876-9579-f430d2c6584e\">\n",
              "    <div class=\"colab-df-container\">\n",
              "      <div>\n",
              "<style scoped>\n",
              "    .dataframe tbody tr th:only-of-type {\n",
              "        vertical-align: middle;\n",
              "    }\n",
              "\n",
              "    .dataframe tbody tr th {\n",
              "        vertical-align: top;\n",
              "    }\n",
              "\n",
              "    .dataframe thead th {\n",
              "        text-align: right;\n",
              "    }\n",
              "</style>\n",
              "<table border=\"1\" class=\"dataframe\">\n",
              "  <thead>\n",
              "    <tr style=\"text-align: right;\">\n",
              "      <th></th>\n",
              "      <th>Year</th>\n",
              "      <th>census</th>\n",
              "      <th>prb</th>\n",
              "      <th>un</th>\n",
              "      <th>maddison</th>\n",
              "      <th>hyde</th>\n",
              "      <th>tanton</th>\n",
              "      <th>biraben</th>\n",
              "      <th>mj</th>\n",
              "      <th>thomlinson</th>\n",
              "      <th>durand</th>\n",
              "      <th>clark</th>\n",
              "    </tr>\n",
              "    <tr>\n",
              "      <th>Year</th>\n",
              "      <th></th>\n",
              "      <th></th>\n",
              "      <th></th>\n",
              "      <th></th>\n",
              "      <th></th>\n",
              "      <th></th>\n",
              "      <th></th>\n",
              "      <th></th>\n",
              "      <th></th>\n",
              "      <th></th>\n",
              "      <th></th>\n",
              "      <th></th>\n",
              "    </tr>\n",
              "  </thead>\n",
              "  <tbody>\n",
              "    <tr>\n",
              "      <th>1950</th>\n",
              "      <td>1950</td>\n",
              "      <td>2557628654</td>\n",
              "      <td>2.516000e+09</td>\n",
              "      <td>2.525149e+09</td>\n",
              "      <td>2.544000e+09</td>\n",
              "      <td>2.527960e+09</td>\n",
              "      <td>2.400000e+09</td>\n",
              "      <td>2.527000e+09</td>\n",
              "      <td>2.500000e+09</td>\n",
              "      <td>2.400000e+09</td>\n",
              "      <td>NaN</td>\n",
              "      <td>2.486000e+09</td>\n",
              "    </tr>\n",
              "    <tr>\n",
              "      <th>1951</th>\n",
              "      <td>1951</td>\n",
              "      <td>2594939877</td>\n",
              "      <td>NaN</td>\n",
              "      <td>2.572851e+09</td>\n",
              "      <td>2.571663e+09</td>\n",
              "      <td>NaN</td>\n",
              "      <td>NaN</td>\n",
              "      <td>NaN</td>\n",
              "      <td>NaN</td>\n",
              "      <td>NaN</td>\n",
              "      <td>NaN</td>\n",
              "      <td>NaN</td>\n",
              "    </tr>\n",
              "    <tr>\n",
              "      <th>1952</th>\n",
              "      <td>1952</td>\n",
              "      <td>2636772306</td>\n",
              "      <td>NaN</td>\n",
              "      <td>2.619292e+09</td>\n",
              "      <td>2.617949e+09</td>\n",
              "      <td>NaN</td>\n",
              "      <td>NaN</td>\n",
              "      <td>NaN</td>\n",
              "      <td>NaN</td>\n",
              "      <td>NaN</td>\n",
              "      <td>NaN</td>\n",
              "      <td>NaN</td>\n",
              "    </tr>\n",
              "    <tr>\n",
              "      <th>1953</th>\n",
              "      <td>1953</td>\n",
              "      <td>2682053389</td>\n",
              "      <td>NaN</td>\n",
              "      <td>2.665865e+09</td>\n",
              "      <td>2.665959e+09</td>\n",
              "      <td>NaN</td>\n",
              "      <td>NaN</td>\n",
              "      <td>NaN</td>\n",
              "      <td>NaN</td>\n",
              "      <td>NaN</td>\n",
              "      <td>NaN</td>\n",
              "      <td>NaN</td>\n",
              "    </tr>\n",
              "    <tr>\n",
              "      <th>1954</th>\n",
              "      <td>1954</td>\n",
              "      <td>2730228104</td>\n",
              "      <td>NaN</td>\n",
              "      <td>2.713172e+09</td>\n",
              "      <td>2.716927e+09</td>\n",
              "      <td>NaN</td>\n",
              "      <td>NaN</td>\n",
              "      <td>NaN</td>\n",
              "      <td>NaN</td>\n",
              "      <td>NaN</td>\n",
              "      <td>NaN</td>\n",
              "      <td>NaN</td>\n",
              "    </tr>\n",
              "  </tbody>\n",
              "</table>\n",
              "</div>\n",
              "      <button class=\"colab-df-convert\" onclick=\"convertToInteractive('df-2c85bb8c-d66d-4876-9579-f430d2c6584e')\"\n",
              "              title=\"Convert this dataframe to an interactive table.\"\n",
              "              style=\"display:none;\">\n",
              "        \n",
              "  <svg xmlns=\"http://www.w3.org/2000/svg\" height=\"24px\"viewBox=\"0 0 24 24\"\n",
              "       width=\"24px\">\n",
              "    <path d=\"M0 0h24v24H0V0z\" fill=\"none\"/>\n",
              "    <path d=\"M18.56 5.44l.94 2.06.94-2.06 2.06-.94-2.06-.94-.94-2.06-.94 2.06-2.06.94zm-11 1L8.5 8.5l.94-2.06 2.06-.94-2.06-.94L8.5 2.5l-.94 2.06-2.06.94zm10 10l.94 2.06.94-2.06 2.06-.94-2.06-.94-.94-2.06-.94 2.06-2.06.94z\"/><path d=\"M17.41 7.96l-1.37-1.37c-.4-.4-.92-.59-1.43-.59-.52 0-1.04.2-1.43.59L10.3 9.45l-7.72 7.72c-.78.78-.78 2.05 0 2.83L4 21.41c.39.39.9.59 1.41.59.51 0 1.02-.2 1.41-.59l7.78-7.78 2.81-2.81c.8-.78.8-2.07 0-2.86zM5.41 20L4 18.59l7.72-7.72 1.47 1.35L5.41 20z\"/>\n",
              "  </svg>\n",
              "      </button>\n",
              "      \n",
              "  <style>\n",
              "    .colab-df-container {\n",
              "      display:flex;\n",
              "      flex-wrap:wrap;\n",
              "      gap: 12px;\n",
              "    }\n",
              "\n",
              "    .colab-df-convert {\n",
              "      background-color: #E8F0FE;\n",
              "      border: none;\n",
              "      border-radius: 50%;\n",
              "      cursor: pointer;\n",
              "      display: none;\n",
              "      fill: #1967D2;\n",
              "      height: 32px;\n",
              "      padding: 0 0 0 0;\n",
              "      width: 32px;\n",
              "    }\n",
              "\n",
              "    .colab-df-convert:hover {\n",
              "      background-color: #E2EBFA;\n",
              "      box-shadow: 0px 1px 2px rgba(60, 64, 67, 0.3), 0px 1px 3px 1px rgba(60, 64, 67, 0.15);\n",
              "      fill: #174EA6;\n",
              "    }\n",
              "\n",
              "    [theme=dark] .colab-df-convert {\n",
              "      background-color: #3B4455;\n",
              "      fill: #D2E3FC;\n",
              "    }\n",
              "\n",
              "    [theme=dark] .colab-df-convert:hover {\n",
              "      background-color: #434B5C;\n",
              "      box-shadow: 0px 1px 3px 1px rgba(0, 0, 0, 0.15);\n",
              "      filter: drop-shadow(0px 1px 2px rgba(0, 0, 0, 0.3));\n",
              "      fill: #FFFFFF;\n",
              "    }\n",
              "  </style>\n",
              "\n",
              "      <script>\n",
              "        const buttonEl =\n",
              "          document.querySelector('#df-2c85bb8c-d66d-4876-9579-f430d2c6584e button.colab-df-convert');\n",
              "        buttonEl.style.display =\n",
              "          google.colab.kernel.accessAllowed ? 'block' : 'none';\n",
              "\n",
              "        async function convertToInteractive(key) {\n",
              "          const element = document.querySelector('#df-2c85bb8c-d66d-4876-9579-f430d2c6584e');\n",
              "          const dataTable =\n",
              "            await google.colab.kernel.invokeFunction('convertToInteractive',\n",
              "                                                     [key], {});\n",
              "          if (!dataTable) return;\n",
              "\n",
              "          const docLinkHtml = 'Like what you see? Visit the ' +\n",
              "            '<a target=\"_blank\" href=https://colab.research.google.com/notebooks/data_table.ipynb>data table notebook</a>'\n",
              "            + ' to learn more about interactive tables.';\n",
              "          element.innerHTML = '';\n",
              "          dataTable['output_type'] = 'display_data';\n",
              "          await google.colab.output.renderOutput(dataTable, element);\n",
              "          const docLink = document.createElement('div');\n",
              "          docLink.innerHTML = docLinkHtml;\n",
              "          element.appendChild(docLink);\n",
              "        }\n",
              "      </script>\n",
              "    </div>\n",
              "  </div>\n",
              "  "
            ]
          },
          "metadata": {},
          "execution_count": 49
        }
      ],
      "source": [
        "table2 = pd.read_csv('https://raw.githubusercontent.com/AllenDowney/ModSimPy/master/data/World_population_estimates2.csv')\n",
        "table2.index = table2.Year\n",
        "table2.head()"
      ]
    },
    {
      "cell_type": "code",
      "execution_count": 50,
      "metadata": {
        "id": "tAnYfdPkGUZ6",
        "colab": {
          "base_uri": "https://localhost:8080/",
          "height": 297
        },
        "outputId": "1f8213b2-801d-425c-ba4e-1aeef2486ccc"
      },
      "outputs": [
        {
          "output_type": "display_data",
          "data": {
            "text/plain": [
              "<Figure size 432x288 with 1 Axes>"
            ],
            "image/png": "[encoded data removed]"
          },
          "metadata": {
            "needs_background": "light"
          }
        }
      ],
      "source": [
        "un = table2.un / 1e9\n",
        "census = table2.census / 1e9\n",
        "plot(census, ':', label='US Census')\n",
        "plot(un, '--', label='UN DESA')\n",
        "    \n",
        "decorate(xlabel='Year', \n",
        "             ylabel='World population (billion)',\n",
        "             title='Estimated world population')"
      ]
    },
    {
      "cell_type": "markdown",
      "metadata": {
        "id": "qsV20CuwGUZ7"
      },
      "source": [
        "### Running the quadratic model"
      ]
    },
    {
      "cell_type": "markdown",
      "metadata": {
        "id": "1Qoe7O6_GUZ7"
      },
      "source": [
        "Here's the update function for the quadratic growth model with parameters `alpha` and `beta`."
      ]
    },
    {
      "cell_type": "code",
      "execution_count": 51,
      "metadata": {
        "id": "8tiTC0QqGUZ8"
      },
      "outputs": [],
      "source": [
        "def update_func_quad(pop, t, system):\n",
        "    \"\"\"Update population based on a quadratic model.\n",
        "    \n",
        "    pop: current population in billions\n",
        "    t: what year it is\n",
        "    system: system object with model parameters\n",
        "    \"\"\"\n",
        "    net_growth = system.alpha * pop + system.beta * pop**2\n",
        "    return pop + net_growth"
      ]
    },
    {
      "cell_type": "markdown",
      "metadata": {
        "id": "3N2w8wwvGUZ9"
      },
      "source": [
        "Extract the starting time and population."
      ]
    },
    {
      "cell_type": "code",
      "execution_count": 52,
      "metadata": {
        "id": "YP2ackMlGUZ9",
        "colab": {
          "base_uri": "https://localhost:8080/",
          "height": 198
        },
        "outputId": "1a906479-c00d-41b8-945f-6fcc215435f4"
      },
      "outputs": [
        {
          "output_type": "error",
          "ename": "NameError",
          "evalue": "ignored",
          "traceback": [
            "\u001b[0;31m---------------------------------------------------------------------------\u001b[0m",
            "\u001b[0;31mNameError\u001b[0m                                 Traceback (most recent call last)",
            "\u001b[0;32m<ipython-input-52-9dcb36bd9228>\u001b[0m in \u001b[0;36m<module>\u001b[0;34m()\u001b[0m\n\u001b[0;32m----> 1\u001b[0;31m \u001b[0mt_0\u001b[0m \u001b[0;34m=\u001b[0m \u001b[0mget_first_label\u001b[0m\u001b[0;34m(\u001b[0m\u001b[0mcensus\u001b[0m\u001b[0;34m)\u001b[0m\u001b[0;34m\u001b[0m\u001b[0;34m\u001b[0m\u001b[0m\n\u001b[0m\u001b[1;32m      2\u001b[0m \u001b[0mt_end\u001b[0m \u001b[0;34m=\u001b[0m \u001b[0mget_last_label\u001b[0m\u001b[0;34m(\u001b[0m\u001b[0mcensus\u001b[0m\u001b[0;34m)\u001b[0m\u001b[0;34m\u001b[0m\u001b[0;34m\u001b[0m\u001b[0m\n\u001b[1;32m      3\u001b[0m \u001b[0mp_0\u001b[0m \u001b[0;34m=\u001b[0m \u001b[0mget_first_value\u001b[0m\u001b[0;34m(\u001b[0m\u001b[0mcensus\u001b[0m\u001b[0;34m)\u001b[0m\u001b[0;34m\u001b[0m\u001b[0;34m\u001b[0m\u001b[0m\n",
            "\u001b[0;31mNameError\u001b[0m: name 'get_first_label' is not defined"
          ]
        }
      ],
      "source": [
        "t_0 = get_first_label(census)\n",
        "t_end = get_last_label(census)\n",
        "p_0 = get_first_value(census)"
      ]
    },
    {
      "cell_type": "markdown",
      "metadata": {
        "id": "Jpj5v-9zGUZ_"
      },
      "source": [
        "Initialize the system object."
      ]
    },
    {
      "cell_type": "code",
      "execution_count": null,
      "metadata": {
        "scrolled": true,
        "id": "xY5ITvBAGUaA"
      },
      "outputs": [],
      "source": [
        "system = System(t_0=t_0, \n",
        "                t_end=t_end,\n",
        "                p_0=p_0,\n",
        "                alpha=0.025,\n",
        "                beta=-0.0018)"
      ]
    },
    {
      "cell_type": "markdown",
      "metadata": {
        "id": "bZ9KEQkoGUaB"
      },
      "source": [
        "Run the model and plot results."
      ]
    },
    {
      "cell_type": "code",
      "execution_count": null,
      "metadata": {
        "id": "iEFN26GKGUaC"
      },
      "outputs": [],
      "source": [
        "results = run_simulation(system, update_func_quad)\n",
        "plot_results(census, un, results, 'Quadratic model')"
      ]
    },
    {
      "cell_type": "markdown",
      "metadata": {
        "id": "ahCtWsCMGUaD"
      },
      "source": [
        "### Generating projections"
      ]
    },
    {
      "cell_type": "markdown",
      "metadata": {
        "id": "RCjNZMxjGUaD"
      },
      "source": [
        "To generate projections, all we have to do is change `t_end`"
      ]
    },
    {
      "cell_type": "code",
      "execution_count": null,
      "metadata": {
        "scrolled": false,
        "id": "oAKWoCUyGUaE"
      },
      "outputs": [],
      "source": [
        "system.t_end = 2250\n",
        "results = run_simulation(system, update_func_quad)\n",
        "plot_results(census, un, results, 'World population projection')\n",
        "savefig('figs/chap08-fig01.pdf')"
      ]
    },
    {
      "cell_type": "markdown",
      "metadata": {
        "id": "w0I_AU-GGUaF"
      },
      "source": [
        "The population in the model converges on the equilibrium population, `-alpha/beta`"
      ]
    },
    {
      "cell_type": "code",
      "execution_count": null,
      "metadata": {
        "id": "19L5ngIaGUaF"
      },
      "outputs": [],
      "source": [
        "results[system.t_end]"
      ]
    },
    {
      "cell_type": "code",
      "execution_count": null,
      "metadata": {
        "id": "IgDPf--IGUaG"
      },
      "outputs": [],
      "source": [
        "-system.alpha / system.beta"
      ]
    },
    {
      "cell_type": "markdown",
      "metadata": {
        "id": "tVLjDmcZGUaG"
      },
      "source": [
        "**Exercise:**  What happens if we start with an initial population above the carrying capacity, like 20 billion?  Run the model with initial populations between 1 and 20 billion, and plot the results on the same axes."
      ]
    },
    {
      "cell_type": "code",
      "execution_count": null,
      "metadata": {
        "id": "YKERTsTXGUaH"
      },
      "outputs": [],
      "source": [
        "# Solution goes here"
      ]
    },
    {
      "cell_type": "markdown",
      "metadata": {
        "id": "HooxKGawGUaI"
      },
      "source": [
        "### Comparing projections"
      ]
    },
    {
      "cell_type": "markdown",
      "metadata": {
        "id": "LJ6Gutn9GUaI"
      },
      "source": [
        "We can compare the projection from our model with projections produced by people who know what they are doing."
      ]
    },
    {
      "cell_type": "code",
      "execution_count": null,
      "metadata": {
        "id": "cyzO2tVNGUaJ"
      },
      "outputs": [],
      "source": [
        "def read_table3(filename = 'data/World_population_estimates.html'):\n",
        "    tables = pd.read_html(filename, header=0, index_col=0, decimal='M')\n",
        "    table3 = tables[3]\n",
        "    table3.columns = ['census', 'prb', 'un']\n",
        "    return table3"
      ]
    },
    {
      "cell_type": "code",
      "execution_count": null,
      "metadata": {
        "id": "PYAQOyDpGUaJ"
      },
      "outputs": [],
      "source": [
        "#table3 = read_table3()\n",
        "#table3.to_csv('data/World_population_estimates3.csv')"
      ]
    },
    {
      "cell_type": "code",
      "execution_count": null,
      "metadata": {
        "id": "kRw3eDHxGUaJ"
      },
      "outputs": [],
      "source": [
        "table3 = pd.read_csv('data/World_population_estimates3.csv')\n",
        "table3.index = table3.Year\n",
        "table3.head()"
      ]
    },
    {
      "cell_type": "markdown",
      "metadata": {
        "id": "8R2P9kcCGUaK"
      },
      "source": [
        "`NaN` is a special value that represents missing data, in this case because some agencies did not publish projections for some years."
      ]
    },
    {
      "cell_type": "markdown",
      "metadata": {
        "id": "4o3TNHNMGUaK"
      },
      "source": [
        "This function plots projections from the UN DESA and U.S. Census.  It uses `dropna` to remove the `NaN` values from each series before plotting it."
      ]
    },
    {
      "cell_type": "code",
      "execution_count": null,
      "metadata": {
        "id": "J1qbKm4CGUaK"
      },
      "outputs": [],
      "source": [
        "def plot_projections(table):\n",
        "    \"\"\"Plot world population projections.\n",
        "    \n",
        "    table: DataFrame with columns 'un' and 'census'\n",
        "    \"\"\"\n",
        "    census_proj = table.census / 1e9\n",
        "    un_proj = table.un / 1e9\n",
        "    \n",
        "    plot(census_proj.dropna(), ':', color='C0', label='US Census')\n",
        "    plot(un_proj.dropna(), '--', color='C1', label='UN DESA')"
      ]
    },
    {
      "cell_type": "markdown",
      "metadata": {
        "id": "19pYFqkFGUaL"
      },
      "source": [
        "Run the model until 2100, which is as far as the other projections go."
      ]
    },
    {
      "cell_type": "code",
      "execution_count": null,
      "metadata": {
        "id": "pEezGaTgGUaL"
      },
      "outputs": [],
      "source": [
        "system = System(t_0=t_0, \n",
        "                t_end=2100,\n",
        "                p_0=p_0,\n",
        "                alpha=0.025,\n",
        "                beta=-0.0018)"
      ]
    },
    {
      "cell_type": "code",
      "execution_count": null,
      "metadata": {
        "id": "gQkQ8xeKGUaL"
      },
      "outputs": [],
      "source": [
        "results = run_simulation(system, update_func_quad)\n",
        "\n",
        "plt.axvspan(1950, 2016, color='C0', alpha=0.05)\n",
        "plot_results(census, un, results, 'World population projections')\n",
        "plot_projections(table3)\n",
        "savefig('figs/chap08-fig02.pdf')"
      ]
    },
    {
      "cell_type": "markdown",
      "metadata": {
        "id": "NT1odOFXGUaL"
      },
      "source": [
        "People who know what they are doing expect the growth rate to decline more sharply than our model projects."
      ]
    },
    {
      "cell_type": "markdown",
      "metadata": {
        "id": "Gxe8k5QqGUaM"
      },
      "source": [
        "## Exercises\n",
        "\n",
        "**Exercise:** The net growth rate of world population has been declining for several decades.  That observation suggests one more way to generate projections, by extrapolating observed changes in growth rate.\n",
        "\n",
        "The `modsim` library provides a function, `compute_rel_diff`, that computes relative differences of the elements in a sequence.\n",
        "\n",
        "Here's how we can use it to compute the relative differences in the `census` and `un` estimates:"
      ]
    },
    {
      "cell_type": "code",
      "execution_count": null,
      "metadata": {
        "id": "7-caSboMGUaM"
      },
      "outputs": [],
      "source": [
        "alpha_census = compute_rel_diff(census)\n",
        "plot(alpha_census, label='US Census')\n",
        "\n",
        "alpha_un = compute_rel_diff(un)\n",
        "plot(alpha_un, label='UN DESA')\n",
        "\n",
        "decorate(xlabel='Year', label='Net growth rate')"
      ]
    },
    {
      "cell_type": "markdown",
      "metadata": {
        "id": "2sO9gfcFGUaM"
      },
      "source": [
        "Other than a bump around 1990, net growth rate has been declining roughly linearly since 1965.  As an exercise, you can use this data to make a projection of world population until 2100.\n",
        "\n",
        "1. Define a function, `alpha_func`, that takes `t` as a parameter and returns an estimate of the net growth rate at time `t`, based on a linear function `alpha = intercept + slope * t`.  Choose values of `slope` and `intercept` to fit the observed net growth rates since 1965.\n",
        "\n",
        "2. Call your function with a range of `ts` from 1960 to 2020 and plot the results.\n",
        "\n",
        "3. Create a `System` object that includes `alpha_func` as a system variable.\n",
        "\n",
        "4. Define an update function that uses `alpha_func` to compute the net growth rate at the given time `t`.\n",
        "\n",
        "5. Test your update function with `t_0 = 1960` and `p_0 = census[t_0]`.\n",
        "\n",
        "6. Run a simulation from 1960 to 2100 with your update function, and plot the results.\n",
        "\n",
        "7. Compare your projections with those from the US Census and UN."
      ]
    },
    {
      "cell_type": "code",
      "execution_count": null,
      "metadata": {
        "id": "xYn19bIRGUaM"
      },
      "outputs": [],
      "source": [
        "def alpha_func(t):\n",
        "  intercept = 0.05\n",
        "  slope = -.005\n",
        "  t0 = 1970\n",
        "  return intercept + slope *(t - t0)"
      ]
    },
    {
      "cell_type": "code",
      "execution_count": null,
      "metadata": {
        "id": "HClsStiKGUaN"
      },
      "outputs": [],
      "source": [
        "ts = linrange(1960,2020):\n",
        "model = alpha_func(ts)\n",
        "\n",
        "plot(model, color='pink', label='1960 - 2020')\n",
        "plot(alpha_census)\n",
        "plot(alpha_un)\n",
        "\n",
        "decorate(xlabel='Year', ylabel='Net Growth')"
      ]
    },
    {
      "cell_type": "code",
      "execution_count": null,
      "metadata": {
        "id": "qkKmRVKgGUaN"
      },
      "outputs": [],
      "source": [
        "# Solution goes here"
      ]
    },
    {
      "cell_type": "code",
      "execution_count": null,
      "metadata": {
        "id": "JN6Tm01AGUaO"
      },
      "outputs": [],
      "source": [
        "# Solution goes here"
      ]
    },
    {
      "cell_type": "code",
      "execution_count": null,
      "metadata": {
        "id": "CYYvLn34GUaO"
      },
      "outputs": [],
      "source": [
        "# Solution goes here"
      ]
    },
    {
      "cell_type": "code",
      "execution_count": null,
      "metadata": {
        "id": "g-PW6uzTGUaP"
      },
      "outputs": [],
      "source": [
        "# Solution goes here"
      ]
    },
    {
      "cell_type": "code",
      "execution_count": null,
      "metadata": {
        "id": "AU94DKYqGUaP"
      },
      "outputs": [],
      "source": [
        "# Solution goes here"
      ]
    },
    {
      "cell_type": "code",
      "execution_count": null,
      "metadata": {
        "id": "Tl6ad9tqGUaQ"
      },
      "outputs": [],
      "source": [
        "# Solution goes here"
      ]
    },
    {
      "cell_type": "markdown",
      "metadata": {
        "id": "TvDqjLgbGUaR"
      },
      "source": [
        "**Related viewing:** You might be interested in this [video by Hans Rosling about the demographic changes we expect in this century](https://www.youtube.com/watch?v=ezVk1ahRF78)."
      ]
    }
  ],
  "metadata": {
    "kernelspec": {
      "display_name": "Python 3",
      "language": "python",
      "name": "python3"
    },
    "language_info": {
      "codemirror_mode": {
        "name": "ipython",
        "version": 3
      },
      "file_extension": ".py",
      "mimetype": "text/x-python",
      "name": "python",
      "nbconvert_exporter": "python",
      "pygments_lexer": "ipython3",
      "version": "3.7.3"
    },
    "colab": {
      "name": "DATA 604 HW4 Chapter 8.ipynb",
      "provenance": [],
      "collapsed_sections": [],
      "include_colab_link": true
    }
  },
  "nbformat": 4,
  "nbformat_minor": 0
}