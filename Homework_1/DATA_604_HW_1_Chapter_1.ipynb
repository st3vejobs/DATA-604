{
  "cells": [
    {
      "cell_type": "markdown",
      "metadata": {
        "id": "view-in-github",
        "colab_type": "text"
      },
      "source": [
        "<a href=\"https://colab.research.google.com/github/st3vejobs/DATA-604/blob/homework/DATA_604_HW_1_Chapter_1.ipynb\" target=\"_parent\"><img src=\"https://colab.research.google.com/assets/colab-badge.svg\" alt=\"Open In Colab\"/></a>"
      ]
    },
    {
      "cell_type": "markdown",
      "source": [
        "# DATA 604 Homework 1 Chapter 1 \n",
        "\n",
        "## Shane Hylton\n",
        "\n",
        "### File accessed from Github > AllenDowney > ModSimpy > chap01.ipynb\n",
        "\n",
        "[AllenDowney_chap01](https://github.com/AllenDowney/ModSimPy/blob/master/notebooks/chap01.ipynb)\n"
      ],
      "metadata": {
        "id": "8xO4-CmeBFGN"
      },
      "id": "8xO4-CmeBFGN"
    },
    {
      "cell_type": "markdown",
      "id": "affecting-malta",
      "metadata": {
        "id": "affecting-malta"
      },
      "source": [
        "# Modeling"
      ]
    },
    {
      "cell_type": "markdown",
      "id": "pressed-palestinian",
      "metadata": {
        "tags": [],
        "id": "pressed-palestinian"
      },
      "source": [
        "*Modeling and Simulation in Python*\n",
        "\n",
        "Copyright 2021 Allen Downey\n",
        "\n",
        "License: [Creative Commons Attribution-NonCommercial-ShareAlike 4.0 International](https://creativecommons.org/licenses/by-nc-sa/4.0/)"
      ]
    },
    {
      "cell_type": "markdown",
      "id": "confirmed-budapest",
      "metadata": {
        "tags": [],
        "id": "confirmed-budapest"
      },
      "source": [
        "## Jupyter\n",
        "\n",
        "Welcome to *Modeling and Simulation in Python*, and welcome to Jupyter.\n",
        "\n",
        "This is a Jupyter notebook, which is a development environment where you can write and run Python code.  Each notebook is divided into cells.  Each cell contains either text (like this cell) or Python code."
      ]
    },
    {
      "cell_type": "markdown",
      "id": "danish-scope",
      "metadata": {
        "tags": [],
        "id": "danish-scope"
      },
      "source": [
        "To run a cell, hold down SHIFT and press ENTER.  \n",
        "\n",
        "* If you run a text cell, Jupyter formats the text and displays the result.\n",
        "\n",
        "* If you run a code cell, Jupyter runs the Python code in the cell and displays the result, if any.\n",
        "\n",
        "The following cells check whether the libraries we need are installed.  If so, the cells produce no output.  If not, you'll see updates from the installer."
      ]
    },
    {
      "cell_type": "code",
      "execution_count": 90,
      "id": "passive-dayton",
      "metadata": {
        "tags": [],
        "id": "passive-dayton"
      },
      "outputs": [],
      "source": [
        "# install Pint if necessary\n",
        "\n",
        "try:\n",
        "    from pint import UnitRegistry\n",
        "except ImportError:\n",
        "    !pip install pint"
      ]
    },
    {
      "cell_type": "code",
      "execution_count": 91,
      "id": "prompt-committee",
      "metadata": {
        "tags": [],
        "id": "prompt-committee"
      },
      "outputs": [],
      "source": [
        "# download modsim.py if necessary\n",
        "\n",
        "from os.path import basename, exists\n",
        "\n",
        "def download(url):\n",
        "    filename = basename(url)\n",
        "    if not exists(filename):\n",
        "        from urllib.request import urlretrieve\n",
        "        local, _ = urlretrieve(url, filename)\n",
        "        print('Downloaded ' + local)\n",
        "    \n",
        "download('https://github.com/AllenDowney/ModSimPy/raw/master/' +\n",
        "         'modsim.py')"
      ]
    },
    {
      "cell_type": "code",
      "execution_count": 92,
      "id": "fifteen-train",
      "metadata": {
        "tags": [],
        "id": "fifteen-train"
      },
      "outputs": [],
      "source": [
        "# import functions from modsim\n",
        "\n",
        "from modsim import *"
      ]
    },
    {
      "cell_type": "markdown",
      "id": "chronic-moore",
      "metadata": {
        "id": "chronic-moore"
      },
      "source": [
        "This chapter introduces the modeling framework we will use throughout the book, and works through our first example, using a simple model of physics to evaluate the claim that a penny falling from the height of the Empire State Building could kill someone if it hit them on the head. Also, you'll see how to do computation in Python with units like meters and seconds."
      ]
    },
    {
      "cell_type": "markdown",
      "id": "extensive-proposition",
      "metadata": {
        "id": "extensive-proposition"
      },
      "source": [
        "This chapter is available as a Jupyter notebook where you can read the text, run the code, and work on the exercises. \n",
        "Click here to access the notebooks: <https://allendowney.github.io/ModSimPy/>."
      ]
    },
    {
      "cell_type": "markdown",
      "id": "hourly-financing",
      "metadata": {
        "id": "hourly-financing"
      },
      "source": [
        "## The Modeling Framework\n",
        "\n",
        "This book is about modeling and simulating physical systems. The\n",
        "following diagram shows what I mean by *modeling*:\n",
        "\n",
        "![Diagram of the modeling framework.](https://github.com/AllenDowney/ModSim/raw/main/figs/modeling_framework.png)"
      ]
    },
    {
      "cell_type": "markdown",
      "id": "structured-receiver",
      "metadata": {
        "id": "structured-receiver"
      },
      "source": [
        "Starting in the lower left, the *system* is something in the real\n",
        "world we are interested in. \n",
        "To model the system, we have to decide which elements of the real world to include and which we can leave out.\n",
        "This process is called *abstraction*.\n",
        "\n",
        "The result of abstraction is a *model*, which is a description of the system that includes only the features we think are essential. A model\n",
        "can be represented in the form of diagrams and equations, which can be\n",
        "used for mathematical *analysis*. It can also be implemented in the\n",
        "form of a computer program, which can run *simulations*.\n",
        "\n",
        "The result of analysis and simulation might be a *prediction* about\n",
        "what the system will do, an *explanation* of why it behaves the way it\n",
        "does, or a *design* intended to achieve a purpose.\n",
        "\n",
        "We can *validate* predictions and test designs by taking\n",
        "*measurements* from the real world and comparing the *data* we get\n",
        "with the results from analysis and simulation."
      ]
    },
    {
      "cell_type": "markdown",
      "id": "center-accommodation",
      "metadata": {
        "id": "center-accommodation"
      },
      "source": [
        "For any physical system, there are many possible models, each one\n",
        "including and excluding different features, or including different\n",
        "levels of detail. The goal of the modeling process is to find the model\n",
        "best suited to its purpose (prediction, explanation, or design).\n",
        "\n",
        "Sometimes the best model is the most detailed. If we include more\n",
        "features, the model is more realistic, and we expect its predictions to\n",
        "be more accurate.\n",
        "But often a simpler model is better. If we include only the essential\n",
        "features and leave out the rest, we get models that are easier to work\n",
        "with, and the explanations they provide can be clearer and more\n",
        "compelling."
      ]
    },
    {
      "cell_type": "markdown",
      "id": "confirmed-highlight",
      "metadata": {
        "id": "confirmed-highlight"
      },
      "source": [
        "As an example, suppose someone asks you why the orbit of the Earth is\n",
        "elliptical. If you model the Earth and Sun as point masses (ignoring\n",
        "their actual size), compute the gravitational force between them using\n",
        "Newton's law of universal gravitation, and compute the resulting orbit\n",
        "using Newton's laws of motion, you can show that the result is an\n",
        "ellipse.\n",
        "Of course, the actual orbit of Earth is not a perfect ellipse, because\n",
        "of the gravitational forces of the Moon, Jupiter, and other objects in\n",
        "the solar system, and because Newton's laws of motion are only\n",
        "approximately true (they don't take into account relativistic effects).\n",
        "But adding these features to the model would not improve the\n",
        "explanation; more detail would only be a distraction from the\n",
        "fundamental cause. However, if the goal is to predict the position of\n",
        "the Earth with great precision, including more details might be\n",
        "necessary."
      ]
    },
    {
      "cell_type": "markdown",
      "id": "stretch-geneva",
      "metadata": {
        "id": "stretch-geneva"
      },
      "source": [
        "Choosing the best model depends on what the model is for. It is usually\n",
        "a good idea to start with a simple model, even if it is likely to be too\n",
        "simple, and test whether it is good enough for its purpose. Then you can\n",
        "add features gradually, starting with the ones you expect to be most\n",
        "essential. This process is called *iterative modeling*.\n",
        "\n",
        "Comparing results of successive models provides a form of *internal\n",
        "validation*, so you can catch conceptual, mathematical, and software\n",
        "errors. And by adding and removing features, you can tell which ones\n",
        "have the biggest effect on the results, and which can be ignored.\n",
        "\n",
        "Comparing results to data from the real world provides *external\n",
        "validation*, which is generally the strongest test.\n",
        "\n",
        "The modeling framework is pretty abstract; the following example might make it clearer."
      ]
    },
    {
      "cell_type": "markdown",
      "id": "criminal-lunch",
      "metadata": {
        "id": "criminal-lunch"
      },
      "source": [
        "## The Falling Penny Myth\n",
        "\n",
        "You might have heard that a\n",
        "penny dropped from the top of the Empire State Building would be going\n",
        "so fast when it hit the pavement that it would be embedded in the\n",
        "concrete; or if it hit a person, it would break their skull.\n",
        "\n",
        "We can test this myth by making and analyzing a model. To get started,\n",
        "we'll assume that the effect of air resistance is small. This will turn out to be a bad assumption, but bear with me.\n",
        "If air resistance is negligible, the primary force acting on the penny\n",
        "is gravity, which causes the penny to accelerate downward.\n",
        "\n",
        "If the initial velocity is 0 and the acceleration is $a$, the velocity after $t$ seconds is \n",
        "\n",
        "$$v = a t$$\n",
        "\n",
        "and the distance the penny has dropped is \n",
        "\n",
        "$$x = a t^2 / 2$$ \n",
        "\n",
        "To find the time until the penny reaches the sidewalk, we can solve for $t$:\n",
        "\n",
        "$$t = \\sqrt{ 2 x / a}$$ \n",
        "\n",
        "Plugging in the acceleration of gravity, $a = 9.8$ m/s$^2$, and the height of the Empire State Building, $x = 381$ m, we get $t = 8.8$ s. \n",
        "\n",
        "Then computing $v = a t$ we get a velocity on impact of $86$ m/s, which is about 190 miles per hour. That sounds like it could hurt."
      ]
    },
    {
      "cell_type": "markdown",
      "id": "documentary-diagnosis",
      "metadata": {
        "id": "documentary-diagnosis"
      },
      "source": [
        "Of course, these results are not exact because the model is based on\n",
        "simplifications. For example, we assume that gravity is constant. In\n",
        "fact, the force of gravity is different on different parts of the globe, and it gets weaker as you move away from the surface. But these differences are small, so ignoring them is probably a good choice for this scenario.\n",
        "\n",
        "On the other hand, ignoring air resistance is not a good choice. Once\n",
        "the penny gets to about 29 m/s, the upward force of air resistance\n",
        "equals the downward force of gravity, so the penny stops accelerating.\n",
        "This is the *terminal velocity* of the penny in air.\n",
        "\n",
        "Once the penny reaches terminal velocity, it doesn't matter how much farther it falls; it hits the sidewalk at about 29 m/s.\n",
        "That's much less than 86 m/s, as the simple model predicts."
      ]
    },
    {
      "cell_type": "markdown",
      "id": "recent-appliance",
      "metadata": {
        "id": "recent-appliance"
      },
      "source": [
        "The statistician George Box famously said \"All models are wrong, but\n",
        "some are useful.\" He was talking about statistical models, but his wise words apply to all kinds of models. Our first model, which ignores air resistance, is very wrong, and probably not useful. The second model, which takes air resistance into account, is still wrong, but it's better, and it's good enough to refute the myth.\n",
        "\n",
        "The television show *Mythbusters* has tested the myth of the falling\n",
        "penny more carefully; you can view the results at\n",
        "<https://modsimpy.com/myth/>. Their work is based on a mathematical model of motion, measurements to determine the force of air resistance on a penny, and a physical model of a human head."
      ]
    },
    {
      "cell_type": "markdown",
      "id": "brief-zoning",
      "metadata": {
        "id": "brief-zoning"
      },
      "source": [
        "## Computation In Python\n",
        "\n",
        "Let me show you how I computed the results from the\n",
        "previous section using Python.\n",
        "First we'll create a variable to represent acceleration due to gravity in meters per second squared (m/s$^2$)."
      ]
    },
    {
      "cell_type": "code",
      "execution_count": 93,
      "id": "eleven-marine",
      "metadata": {
        "id": "eleven-marine"
      },
      "outputs": [],
      "source": [
        "a = 9.8"
      ]
    },
    {
      "cell_type": "markdown",
      "id": "upset-myanmar",
      "metadata": {
        "id": "upset-myanmar"
      },
      "source": [
        "A *variable* is a name that corresponds to a value. In this example, the name is `a` and the value is the number `9.8`.\n",
        "\n",
        "Suppose we let the penny drop for $3.4$ seconds (s).  I'll create a variable to represent this time:"
      ]
    },
    {
      "cell_type": "code",
      "execution_count": 94,
      "id": "following-launch",
      "metadata": {
        "id": "following-launch"
      },
      "outputs": [],
      "source": [
        "t = 3.4"
      ]
    },
    {
      "cell_type": "markdown",
      "id": "greek-heritage",
      "metadata": {
        "id": "greek-heritage"
      },
      "source": [
        "Now we can compute the velocity of the penny after `t` seconds."
      ]
    },
    {
      "cell_type": "code",
      "execution_count": 95,
      "id": "mature-duration",
      "metadata": {
        "id": "mature-duration"
      },
      "outputs": [],
      "source": [
        "v = a * t"
      ]
    },
    {
      "cell_type": "markdown",
      "id": "qualified-diabetes",
      "metadata": {
        "id": "qualified-diabetes"
      },
      "source": [
        "Python uses the symbol `*` for multiplication.  The other arithmetic operators are `+` for addition, `-` for subtraction, `/` for division, and `**` for exponentiation.\n",
        "\n",
        "When you assign a value to a variable, Jupyter does not show the result automatically, but you can display the value of a variable like this:"
      ]
    },
    {
      "cell_type": "code",
      "execution_count": 96,
      "id": "considered-inclusion",
      "metadata": {
        "id": "considered-inclusion",
        "outputId": "64b21edd-6181-4584-9b59-b09bccea2346",
        "colab": {
          "base_uri": "https://localhost:8080/"
        }
      },
      "outputs": [
        {
          "output_type": "execute_result",
          "data": {
            "text/plain": [
              "33.32"
            ]
          },
          "metadata": {},
          "execution_count": 96
        }
      ],
      "source": [
        "v"
      ]
    },
    {
      "cell_type": "markdown",
      "id": "northern-saturday",
      "metadata": {
        "id": "northern-saturday"
      },
      "source": [
        "After $3.4$ s, the velocity of the penny is about $33$ m/s (ignoring air resistance).  Now let's see how far it would travel during that time:"
      ]
    },
    {
      "cell_type": "code",
      "execution_count": 97,
      "id": "valued-electricity",
      "metadata": {
        "id": "valued-electricity",
        "outputId": "20e4d4cf-4712-4199-d944-219cbcc9e8ae",
        "colab": {
          "base_uri": "https://localhost:8080/"
        }
      },
      "outputs": [
        {
          "output_type": "execute_result",
          "data": {
            "text/plain": [
              "56.644"
            ]
          },
          "metadata": {},
          "execution_count": 97
        }
      ],
      "source": [
        "x = a * t**2 / 2\n",
        "x"
      ]
    },
    {
      "cell_type": "markdown",
      "id": "yellow-business",
      "metadata": {
        "id": "yellow-business"
      },
      "source": [
        "It would travel about $56$ m.  Now, going in the other direction, let's compute the time it takes to fall 381 m, the height of the Empire State Building."
      ]
    },
    {
      "cell_type": "code",
      "execution_count": 98,
      "id": "closed-month",
      "metadata": {
        "id": "closed-month"
      },
      "outputs": [],
      "source": [
        "h = 381"
      ]
    },
    {
      "cell_type": "markdown",
      "id": "fuzzy-lease",
      "metadata": {
        "id": "fuzzy-lease"
      },
      "source": [
        "For this computation, we need the square root function, `sqrt`, which is provided by a library called NumPy.\n",
        "Before we can use it, we have to import it like this:"
      ]
    },
    {
      "cell_type": "code",
      "execution_count": 99,
      "id": "nuclear-clone",
      "metadata": {
        "id": "nuclear-clone"
      },
      "outputs": [],
      "source": [
        "from numpy import sqrt"
      ]
    },
    {
      "cell_type": "markdown",
      "id": "unlimited-swiss",
      "metadata": {
        "id": "unlimited-swiss"
      },
      "source": [
        "Now we can use it like this:"
      ]
    },
    {
      "cell_type": "code",
      "execution_count": 100,
      "id": "quarterly-nightmare",
      "metadata": {
        "id": "quarterly-nightmare",
        "outputId": "2575f45e-e346-4f49-ac2e-2c48de06a709",
        "colab": {
          "base_uri": "https://localhost:8080/"
        }
      },
      "outputs": [
        {
          "output_type": "execute_result",
          "data": {
            "text/plain": [
              "8.817885349720552"
            ]
          },
          "metadata": {},
          "execution_count": 100
        }
      ],
      "source": [
        "t = sqrt(2 * h / a)\n",
        "t"
      ]
    },
    {
      "cell_type": "markdown",
      "id": "velvet-oklahoma",
      "metadata": {
        "id": "velvet-oklahoma"
      },
      "source": [
        "With no air resistance, it would take about $8.8$ s for the penny to reach the sidewalk."
      ]
    },
    {
      "cell_type": "code",
      "execution_count": 101,
      "id": "quality-external",
      "metadata": {
        "id": "quality-external",
        "outputId": "58d092ec-abe7-4bcc-bc6c-a9d9a1304e07",
        "colab": {
          "base_uri": "https://localhost:8080/"
        }
      },
      "outputs": [
        {
          "output_type": "execute_result",
          "data": {
            "text/plain": [
              "86.41527642726142"
            ]
          },
          "metadata": {},
          "execution_count": 101
        }
      ],
      "source": [
        "v = a * t\n",
        "v"
      ]
    },
    {
      "cell_type": "markdown",
      "id": "active-lobby",
      "metadata": {
        "id": "active-lobby"
      },
      "source": [
        "And its velocity on impact would be about $86$ m/s."
      ]
    },
    {
      "cell_type": "markdown",
      "id": "human-phase",
      "metadata": {
        "id": "human-phase"
      },
      "source": [
        "### False Precision\n",
        "\n",
        "Python displays results with about 16 digits, which gives the impression that they are very precise, but don't be fooled.\n",
        "The numbers we get out are only as good as the numbers we put in.\n",
        "\n",
        "For example, the \"roof height\" of the Empire State Building is $380$ m (according to Wikipedia: <https://en.wikipedia.org/wiki/Empire_State_Building>).\n",
        "I chose $h=381$ m for this example on the assumption that the observation deck is on the roof and you drop the penny from a 1 meter railing.\n",
        "But that's probably not right, so we should treat this value as an approximation where only the first two digits are likely to be right.\n",
        "\n",
        "If the precision of the inputs is two digits, the precision of the outputs is two digits, *at most*.\n",
        "That's why, if the output is `86.41527642726142`, I report it as \"about 86\"."
      ]
    },
    {
      "cell_type": "markdown",
      "id": "clinical-blackjack",
      "metadata": {
        "id": "clinical-blackjack"
      },
      "source": [
        "### Computation With Units\n",
        "\n",
        "The computations we just did use numbers without units.\n",
        "When we set `h=381`, we left out the meters, and when we set `a=9.8`, we left out the meters per second squared.\n",
        "And, when we got the result `v=86`, we added back the meters per second.\n",
        "\n",
        "Leaving units of out computation is common practice, but it tends to cause errors, including the very expensive failure of the Mars Climate Orbiter in 1999 (see <https://en.wikipedia.org/wiki/Mars_Climate_Orbiter>).\n",
        "When possible, it is better to include units in the computation.\n",
        "\n",
        "To represent units, we'll use a library called Pint (<https://pint.readthedocs.io/>).\n",
        "To use it, we have to import a function called `UnitRegistry` and call it like this:"
      ]
    },
    {
      "cell_type": "code",
      "execution_count": 102,
      "id": "lovely-declaration",
      "metadata": {
        "id": "lovely-declaration"
      },
      "outputs": [],
      "source": [
        "from pint import UnitRegistry\n",
        "\n",
        "units = UnitRegistry()"
      ]
    },
    {
      "cell_type": "markdown",
      "id": "consecutive-sleeve",
      "metadata": {
        "id": "consecutive-sleeve"
      },
      "source": [
        "The result is an object that contains variables representing pretty much every unit you've heard of.\n",
        "For example:"
      ]
    },
    {
      "cell_type": "code",
      "execution_count": 103,
      "id": "cardiac-class",
      "metadata": {
        "id": "cardiac-class",
        "outputId": "41ae32a1-fbd1-412c-c14a-c3a1d30b3dba",
        "colab": {
          "base_uri": "https://localhost:8080/",
          "height": 0
        }
      },
      "outputs": [
        {
          "output_type": "execute_result",
          "data": {
            "text/plain": [
              "league"
            ],
            "text/html": [
              "league"
            ],
            "text/latex": "$\\mathrm{league}$"
          },
          "metadata": {},
          "execution_count": 103
        }
      ],
      "source": [
        "units.league"
      ]
    },
    {
      "cell_type": "code",
      "execution_count": 104,
      "id": "phantom-copper",
      "metadata": {
        "id": "phantom-copper",
        "outputId": "b7c103c7-eba2-4f12-e41a-e5539d725ebe",
        "colab": {
          "base_uri": "https://localhost:8080/",
          "height": 0
        }
      },
      "outputs": [
        {
          "output_type": "execute_result",
          "data": {
            "text/plain": [
              "fortnight"
            ],
            "text/html": [
              "fortnight"
            ],
            "text/latex": "$\\mathrm{fortnight}$"
          },
          "metadata": {},
          "execution_count": 104
        }
      ],
      "source": [
        "units.fortnight"
      ]
    },
    {
      "cell_type": "markdown",
      "id": "unlike-opera",
      "metadata": {
        "id": "unlike-opera"
      },
      "source": [
        "But leagues and fortnights are not SI units.\n",
        "Instead, we will use `meter` and `second`."
      ]
    },
    {
      "cell_type": "code",
      "execution_count": 105,
      "id": "russian-popularity",
      "metadata": {
        "id": "russian-popularity",
        "outputId": "fd747546-0190-42f6-e3e7-07cded6f8cd0",
        "colab": {
          "base_uri": "https://localhost:8080/",
          "height": 0
        }
      },
      "outputs": [
        {
          "output_type": "execute_result",
          "data": {
            "text/plain": [
              "meter"
            ],
            "text/html": [
              "meter"
            ],
            "text/latex": "$\\mathrm{meter}$"
          },
          "metadata": {},
          "execution_count": 105
        }
      ],
      "source": [
        "meter = units.meter\n",
        "meter"
      ]
    },
    {
      "cell_type": "code",
      "execution_count": 106,
      "id": "endless-paint",
      "metadata": {
        "id": "endless-paint",
        "outputId": "35e54c63-36a3-4fbb-a9f1-91ef6d97ac5f",
        "colab": {
          "base_uri": "https://localhost:8080/",
          "height": 0
        }
      },
      "outputs": [
        {
          "output_type": "execute_result",
          "data": {
            "text/plain": [
              "second"
            ],
            "text/html": [
              "second"
            ],
            "text/latex": "$\\mathrm{second}$"
          },
          "metadata": {},
          "execution_count": 106
        }
      ],
      "source": [
        "second = units.second\n",
        "second"
      ]
    },
    {
      "cell_type": "markdown",
      "id": "spiritual-scenario",
      "metadata": {
        "tags": [],
        "id": "spiritual-scenario"
      },
      "source": [
        "To find out what other units are defined, type `units.` (including the period) in the next cell.\n",
        "\n",
        "If you are on Colab, a pop-up menu should appear with a list of units.\n",
        "In other Jupyter environments, you might have to press `TAB` to get the menu."
      ]
    },
    {
      "cell_type": "code",
      "execution_count": 106,
      "id": "saving-suggestion",
      "metadata": {
        "tags": [],
        "id": "saving-suggestion"
      },
      "outputs": [],
      "source": [
        ""
      ]
    },
    {
      "cell_type": "markdown",
      "id": "everyday-location",
      "metadata": {
        "id": "everyday-location"
      },
      "source": [
        "We can use `meter` and `second` to create a variable named `a` and give it the value of acceleration due to gravity. "
      ]
    },
    {
      "cell_type": "code",
      "execution_count": 107,
      "id": "earlier-bandwidth",
      "metadata": {
        "id": "earlier-bandwidth",
        "outputId": "f573a5ce-5712-41c5-a25a-47f587a06a2c",
        "colab": {
          "base_uri": "https://localhost:8080/",
          "height": 0
        }
      },
      "outputs": [
        {
          "output_type": "execute_result",
          "data": {
            "text/plain": [
              "9.8 meter/second²"
            ],
            "text/html": [
              "9.8 meter/second<sup>2</sup>"
            ],
            "text/latex": "$9.8\\ \\frac{\\mathrm{meter}}{\\mathrm{second}^{2}}$"
          },
          "metadata": {},
          "execution_count": 107
        }
      ],
      "source": [
        "a = 9.8 * meter / second**2\n",
        "a"
      ]
    },
    {
      "cell_type": "markdown",
      "id": "generic-bowling",
      "metadata": {
        "id": "generic-bowling"
      },
      "source": [
        "The result is a *quantity* with two parts, called `magnitude` and `units`, which we can access like this:"
      ]
    },
    {
      "cell_type": "code",
      "execution_count": 108,
      "id": "missing-privilege",
      "metadata": {
        "id": "missing-privilege",
        "outputId": "26ab59f4-ad70-4aa6-9658-4d97017db6b5",
        "colab": {
          "base_uri": "https://localhost:8080/"
        }
      },
      "outputs": [
        {
          "output_type": "execute_result",
          "data": {
            "text/plain": [
              "9.8"
            ]
          },
          "metadata": {},
          "execution_count": 108
        }
      ],
      "source": [
        "a.magnitude"
      ]
    },
    {
      "cell_type": "code",
      "execution_count": 109,
      "id": "fourth-swedish",
      "metadata": {
        "id": "fourth-swedish",
        "outputId": "16784c81-c24b-488f-ef97-7d4ff6588a43",
        "colab": {
          "base_uri": "https://localhost:8080/",
          "height": 0
        }
      },
      "outputs": [
        {
          "output_type": "execute_result",
          "data": {
            "text/plain": [
              "meter/second²"
            ],
            "text/html": [
              "meter/second<sup>2</sup>"
            ],
            "text/latex": "$\\frac{\\mathrm{meter}}{\\mathrm{second}^{2}}$"
          },
          "metadata": {},
          "execution_count": 109
        }
      ],
      "source": [
        "a.units"
      ]
    },
    {
      "cell_type": "markdown",
      "id": "realistic-techno",
      "metadata": {
        "id": "realistic-techno"
      },
      "source": [
        "We can also create a quantity that represents $3.4$ s."
      ]
    },
    {
      "cell_type": "code",
      "execution_count": 110,
      "id": "apart-france",
      "metadata": {
        "id": "apart-france",
        "outputId": "e951ecc4-f50c-4e6f-cf70-cb530025f01b",
        "colab": {
          "base_uri": "https://localhost:8080/",
          "height": 0
        }
      },
      "outputs": [
        {
          "output_type": "execute_result",
          "data": {
            "text/plain": [
              "3.4 second"
            ],
            "text/html": [
              "3.4 second"
            ],
            "text/latex": "$3.4\\ \\mathrm{second}$"
          },
          "metadata": {},
          "execution_count": 110
        }
      ],
      "source": [
        "t = 3.4 * second\n",
        "t"
      ]
    },
    {
      "cell_type": "markdown",
      "id": "severe-share",
      "metadata": {
        "id": "severe-share"
      },
      "source": [
        "And use it to compute the distance a penny would fall after `t` seconds with constant acceleration `a`.  "
      ]
    },
    {
      "cell_type": "code",
      "execution_count": 111,
      "id": "alien-scout",
      "metadata": {
        "id": "alien-scout",
        "outputId": "8417b8b8-230a-4856-92fa-5f3b7a26df06",
        "colab": {
          "base_uri": "https://localhost:8080/",
          "height": 0
        }
      },
      "outputs": [
        {
          "output_type": "execute_result",
          "data": {
            "text/plain": [
              "56.644 meter"
            ],
            "text/html": [
              "56.644 meter"
            ],
            "text/latex": "$56.644\\ \\mathrm{meter}$"
          },
          "metadata": {},
          "execution_count": 111
        }
      ],
      "source": [
        "a * t**2 / 2"
      ]
    },
    {
      "cell_type": "markdown",
      "id": "wicked-indianapolis",
      "metadata": {
        "id": "wicked-indianapolis"
      },
      "source": [
        "Notice that the units of the result are correct.\n",
        "If we create a quantity to represent the height of the Empire State Building:"
      ]
    },
    {
      "cell_type": "code",
      "execution_count": 112,
      "id": "confidential-costs",
      "metadata": {
        "id": "confidential-costs"
      },
      "outputs": [],
      "source": [
        "h = 381 * meter"
      ]
    },
    {
      "cell_type": "markdown",
      "id": "hollow-programmer",
      "metadata": {
        "id": "hollow-programmer"
      },
      "source": [
        "We can use it to compute the time the penny would take to reach the sidewalk."
      ]
    },
    {
      "cell_type": "code",
      "execution_count": 113,
      "id": "studied-opera",
      "metadata": {
        "id": "studied-opera",
        "outputId": "584b26e6-622e-48bf-d172-0f187aa0380d",
        "colab": {
          "base_uri": "https://localhost:8080/",
          "height": 0
        }
      },
      "outputs": [
        {
          "output_type": "execute_result",
          "data": {
            "text/plain": [
              "8.817885349720552 second"
            ],
            "text/html": [
              "8.817885349720552 second"
            ],
            "text/latex": "$8.817885349720552\\ \\mathrm{second}$"
          },
          "metadata": {},
          "execution_count": 113
        }
      ],
      "source": [
        "t = sqrt(2 * h / a)\n",
        "t"
      ]
    },
    {
      "cell_type": "markdown",
      "id": "seasonal-laser",
      "metadata": {
        "id": "seasonal-laser"
      },
      "source": [
        "And the velocity of the penny on impact:"
      ]
    },
    {
      "cell_type": "code",
      "execution_count": 114,
      "id": "exterior-greek",
      "metadata": {
        "id": "exterior-greek",
        "outputId": "4c72bf05-53e5-4ac5-d65c-3e7f17f74cce",
        "colab": {
          "base_uri": "https://localhost:8080/",
          "height": 0
        }
      },
      "outputs": [
        {
          "output_type": "execute_result",
          "data": {
            "text/plain": [
              "86.41527642726142 meter/second"
            ],
            "text/html": [
              "86.41527642726142 meter/second"
            ],
            "text/latex": "$86.41527642726142\\ \\frac{\\mathrm{meter}}{\\mathrm{second}}$"
          },
          "metadata": {},
          "execution_count": 114
        }
      ],
      "source": [
        "v = a * t\n",
        "v"
      ]
    },
    {
      "cell_type": "code",
      "execution_count": 115,
      "id": "impaired-puzzle",
      "metadata": {
        "tags": [],
        "id": "impaired-puzzle"
      },
      "outputs": [],
      "source": [
        "assert abs(v.magnitude - 86.41527642726142) < 1e-7"
      ]
    },
    {
      "cell_type": "markdown",
      "id": "superior-biography",
      "metadata": {
        "id": "superior-biography"
      },
      "source": [
        "As in the previous section, the result is about $86$, but now it has the correct units, m/s.\n",
        "\n",
        "With Pint quantities, we can convert from one set of units to another like this:"
      ]
    },
    {
      "cell_type": "code",
      "execution_count": 116,
      "id": "antique-landing",
      "metadata": {
        "id": "antique-landing"
      },
      "outputs": [],
      "source": [
        "mile = units.mile\n",
        "hour = units.hour"
      ]
    },
    {
      "cell_type": "code",
      "execution_count": 117,
      "id": "included-failure",
      "metadata": {
        "id": "included-failure",
        "outputId": "07dc6460-8bc6-4aaf-d563-7bf1bcdef914",
        "colab": {
          "base_uri": "https://localhost:8080/",
          "height": 0
        }
      },
      "outputs": [
        {
          "output_type": "execute_result",
          "data": {
            "text/plain": [
              "193.30546802805432 mile/hour"
            ],
            "text/html": [
              "193.30546802805432 mile/hour"
            ],
            "text/latex": "$193.30546802805432\\ \\frac{\\mathrm{mile}}{\\mathrm{hour}}$"
          },
          "metadata": {},
          "execution_count": 117
        }
      ],
      "source": [
        "v.to(mile/hour)"
      ]
    },
    {
      "cell_type": "markdown",
      "id": "progressive-charleston",
      "metadata": {
        "id": "progressive-charleston"
      },
      "source": [
        "If you are more familiar with miles per hour, this result might be easier to interpret.\n",
        "And it might give you a sense that this model is not realistic."
      ]
    },
    {
      "cell_type": "markdown",
      "id": "continuing-democrat",
      "metadata": {
        "id": "continuing-democrat"
      },
      "source": [
        "## Summary\n",
        "\n",
        "This chapter introduces a modeling framework that consists of three steps:\n",
        "\n",
        "* Abstraction is the process of defining a model by deciding which elements of the real world to include and which can be left out.\n",
        "\n",
        "* Analysis and simulation are ways to use a model to generate predictions, explain why things behave as they do, and design things that behave as we want.\n",
        "\n",
        "* Validation is how we test whether the model is right, often by comparing predictions with measurements from the real world.\n",
        "\n",
        "As a first example, we modeled a penny dropped from the Empire State building, including gravity but ignoring air resistance.\n",
        "In the exercises, you'll have a chance to try a better model, including air resistance.\n",
        "\n",
        "This chapter also presents Pint, a library for doing computation with units, which is convenient for converting between different units and helpful for avoiding catastrophic errors."
      ]
    },
    {
      "cell_type": "markdown",
      "id": "thousand-equation",
      "metadata": {
        "id": "thousand-equation"
      },
      "source": [
        "## Exercises\n",
        "\n",
        "Before you go on, you might want to work on the following exercises."
      ]
    },
    {
      "cell_type": "markdown",
      "id": "handmade-zoning",
      "metadata": {
        "id": "handmade-zoning"
      },
      "source": [
        "### Exercise 1\n",
        "\n",
        "In mathematical notation, we can write an equation like $v = a t$ and it's understood that we are multiplying $a$ and $t$.\n",
        "But that doesn't work in Python.  If you put two variables side-by-side, like this:\n",
        "\n",
        "```\n",
        "v = a t\n",
        "```\n",
        "\n",
        "you'll get a *syntax error*, which means that something is wrong with the structure of the program.\n",
        "Try it out in the next cell so you see what the error message looks like."
      ]
    },
    {
      "cell_type": "code",
      "execution_count": 118,
      "id": "postal-marking",
      "metadata": {
        "id": "postal-marking",
        "outputId": "28c0c700-630b-4f75-b2ae-06785241207a",
        "colab": {
          "base_uri": "https://localhost:8080/",
          "height": 0
        }
      },
      "outputs": [
        {
          "output_type": "execute_result",
          "data": {
            "text/plain": [
              "33.32 meter/second"
            ],
            "text/html": [
              "33.32 meter/second"
            ],
            "text/latex": "$33.32\\ \\frac{\\mathrm{meter}}{\\mathrm{second}}$"
          },
          "metadata": {},
          "execution_count": 118
        }
      ],
      "source": [
        "a = 9.8 * meter / second**2\n",
        "t = 3.4 * second\n",
        "\n",
        "# v = a t\n",
        "\n",
        "v = a * t\n",
        "v\n"
      ]
    },
    {
      "cell_type": "markdown",
      "source": [
        "We get an invalid syntax error. \n"
      ],
      "metadata": {
        "id": "CMsyellUL80N"
      },
      "id": "CMsyellUL80N"
    },
    {
      "cell_type": "markdown",
      "id": "pressing-sugar",
      "metadata": {
        "id": "pressing-sugar"
      },
      "source": [
        "### Exercise 2\n",
        "\n",
        "In this chapter we used the `sqrt` function from the NumPy library.  NumPy also provides a variable named `pi` that contains an approximation of the mathematical constant $\\pi$.\n",
        "We can import it like this:"
      ]
    },
    {
      "cell_type": "code",
      "execution_count": 119,
      "id": "legal-observer",
      "metadata": {
        "id": "legal-observer",
        "outputId": "e40c200d-06fe-4124-8cdd-6c0f84eb171b",
        "colab": {
          "base_uri": "https://localhost:8080/"
        }
      },
      "outputs": [
        {
          "output_type": "execute_result",
          "data": {
            "text/plain": [
              "3.141592653589793"
            ]
          },
          "metadata": {},
          "execution_count": 119
        }
      ],
      "source": [
        "from numpy import pi\n",
        "pi"
      ]
    },
    {
      "cell_type": "markdown",
      "id": "aggregate-mambo",
      "metadata": {
        "id": "aggregate-mambo"
      },
      "source": [
        "NumPy provides other functions we'll use, including `log`, `exp`, `sin`, and `cos`.\n",
        "Import `sin` and `cos` from NumPy and compute\n",
        "\n",
        "$$sin^2 (\\pi/4) + cos^2 (\\pi/4)$$\n",
        "\n",
        "Note: A mathematical identity tells us that the answer should be $1$."
      ]
    },
    {
      "cell_type": "code",
      "execution_count": 120,
      "id": "pressing-belgium",
      "metadata": {
        "id": "pressing-belgium",
        "outputId": "bc6c1ec3-fd4f-4b9d-8451-c030b53fc6f0",
        "colab": {
          "base_uri": "https://localhost:8080/"
        }
      },
      "outputs": [
        {
          "output_type": "stream",
          "name": "stdout",
          "text": [
            "1.0\n"
          ]
        }
      ],
      "source": [
        "from numpy import log, exp, sin, cos\n",
        "\n",
        "#can also just use np.log, etc. \n",
        "\n",
        "ans = sin(pi/4)**2 + cos(pi/4)**2\n",
        "print(ans)"
      ]
    },
    {
      "cell_type": "markdown",
      "id": "unlimited-delivery",
      "metadata": {
        "id": "unlimited-delivery"
      },
      "source": [
        "### Exercise 3\n",
        "\n",
        "Suppose you bring a 10 foot pole to the top of the Empire State Building and use it to drop the penny from `h` plus 10 feet.\n",
        "\n",
        "Define a variable named `foot` that contains the unit `foot` provided by `UNITS`.  Define a variable named `pole_height` and give it the value 10 feet.\n",
        "\n",
        "What happens if you add `h`, which is in units of meters, to `pole_height`, which is in units of feet?  What happens if you write the addition the other way around?"
      ]
    },
    {
      "cell_type": "code",
      "execution_count": 121,
      "id": "inner-equivalent",
      "metadata": {
        "id": "inner-equivalent"
      },
      "outputs": [],
      "source": [
        "h = 381 * meter"
      ]
    },
    {
      "cell_type": "code",
      "execution_count": 122,
      "id": "nuclear-thirty",
      "metadata": {
        "id": "nuclear-thirty",
        "outputId": "977e0c6f-20bd-4b06-c648-d85be78926c7",
        "colab": {
          "base_uri": "https://localhost:8080/"
        }
      },
      "outputs": [
        {
          "output_type": "stream",
          "name": "stdout",
          "text": [
            "foot\n"
          ]
        }
      ],
      "source": [
        "foot = units.foot\n",
        "pole_height = 10 * foot\n",
        "print(pole_height.units)\n"
      ]
    },
    {
      "cell_type": "code",
      "execution_count": 123,
      "id": "available-steering",
      "metadata": {
        "id": "available-steering",
        "colab": {
          "base_uri": "https://localhost:8080/"
        },
        "outputId": "150d69ff-253b-4fce-ef34-e7d7384d6e0e"
      },
      "outputs": [
        {
          "output_type": "stream",
          "name": "stdout",
          "text": [
            "1260.0 foot\n",
            "384.048 meter\n"
          ]
        }
      ],
      "source": [
        "result = pole_height + h\n",
        "print(result)\n",
        "result_reverse = h + pole_height\n",
        "print(result_reverse)"
      ]
    },
    {
      "cell_type": "markdown",
      "source": [
        "If you add meters to feet, you get units in feet. If instead you add feet to meters, you get units in meters. "
      ],
      "metadata": {
        "id": "9-xgE4-kc8ml"
      },
      "id": "9-xgE4-kc8ml"
    },
    {
      "cell_type": "markdown",
      "id": "aggressive-climate",
      "metadata": {
        "id": "aggressive-climate"
      },
      "source": [
        "### Exercise 4\n",
        "\n",
        "Why would it be nonsensical to add `a` and `t`? What happens if you try?"
      ]
    },
    {
      "cell_type": "code",
      "execution_count": 124,
      "id": "documentary-doctrine",
      "metadata": {
        "id": "documentary-doctrine"
      },
      "outputs": [],
      "source": [
        "a = 9.8 * meter / second**2\n",
        "t = 3.4 * second"
      ]
    },
    {
      "cell_type": "code",
      "execution_count": 125,
      "id": "primary-partner",
      "metadata": {
        "id": "primary-partner"
      },
      "outputs": [],
      "source": [
        "#a + t"
      ]
    },
    {
      "cell_type": "markdown",
      "source": [
        "Yes, it is nonsensical because meters per second squared cannot be converted into seconds. You would have "
      ],
      "metadata": {
        "id": "VSUZ_VOVdPag"
      },
      "id": "VSUZ_VOVdPag"
    },
    {
      "cell_type": "markdown",
      "source": [
        "$$9.8m/{s^2} + 3.4 s$$ as your answer."
      ],
      "metadata": {
        "id": "nsaOinuZdcZn"
      },
      "id": "nsaOinuZdcZn"
    },
    {
      "cell_type": "markdown",
      "id": "legal-audio",
      "metadata": {
        "id": "legal-audio"
      },
      "source": [
        "In this example, you should get a `DimensionalityError`, which indicates that you have violated a rule of dimensional analysis: you cannot add quantities with different dimensions.\n",
        "\n",
        "The error messages you get from Python are big and scary, but if you read them carefully, they contain a lot of useful information.\n",
        "\n",
        "The last line usually tells you what type of error happened, and sometimes additional information, so you might want to start from the bottom and read up.\n",
        "\n",
        "The previous lines are a *traceback* of what was happening when the error occurred.  The first section of the traceback shows the code you wrote.  The following sections are often from Python libraries."
      ]
    },
    {
      "cell_type": "markdown",
      "id": "steady-chancellor",
      "metadata": {
        "tags": [],
        "id": "steady-chancellor"
      },
      "source": [
        "Before you go on, you might want to delete the erroneous code so the notebook can run without errors."
      ]
    },
    {
      "cell_type": "markdown",
      "id": "valid-empire",
      "metadata": {
        "id": "valid-empire"
      },
      "source": [
        "### Exercise 5\n",
        "\n",
        "Suppose instead of dropping the penny, you throw it downward at its terminal velocity, $29$ m/s.  How long would it take to fall $381$ m?"
      ]
    },
    {
      "cell_type": "markdown",
      "source": [
        "### Answer\n",
        "\n",
        "Using the formulas:"
      ],
      "metadata": {
        "id": "S5NbTw8-eGkg"
      },
      "id": "S5NbTw8-eGkg"
    },
    {
      "cell_type": "markdown",
      "source": [
        "$$1: v = v_0 + at$$\n",
        "\n",
        "$$2: v^2 = v_0^2 + 2a \\Delta x$$"
      ],
      "metadata": {
        "id": "ZIEqim0TeI_2"
      },
      "id": "ZIEqim0TeI_2"
    },
    {
      "cell_type": "markdown",
      "source": [
        "Using formula 2, we can find the velocity at impact. From the velocity, we can find the time to impact with:"
      ],
      "metadata": {
        "id": "mIBTB8tKea5l"
      },
      "id": "mIBTB8tKea5l"
    },
    {
      "cell_type": "markdown",
      "source": [
        "$$ t = \\frac {v - v_0}a$$"
      ],
      "metadata": {
        "id": "mWgTLY-2eiPl"
      },
      "id": "mWgTLY-2eiPl"
    },
    {
      "cell_type": "code",
      "execution_count": 126,
      "id": "greenhouse-reason",
      "metadata": {
        "id": "greenhouse-reason",
        "outputId": "ef79a695-4c8c-4c17-df2c-529a559fcaa0",
        "colab": {
          "base_uri": "https://localhost:8080/"
        }
      },
      "outputs": [
        {
          "output_type": "stream",
          "name": "stdout",
          "text": [
            "-91.15152220341687 meter / second\n",
            "6.34199206157315 second\n"
          ]
        }
      ],
      "source": [
        "v0 = -29  * meter / second\n",
        "a = -9.8 * meter / second**2\n",
        "x = -381 * meter\n",
        "\n",
        "v = - sqrt(v0**2 + 2*a*x) # negative because the direction of the velocity vector is downward.\n",
        "print(v)\n",
        "\n",
        "t = (v - v0)/a\n",
        "print(t)"
      ]
    },
    {
      "cell_type": "markdown",
      "id": "asian-murray",
      "metadata": {
        "id": "asian-murray"
      },
      "source": [
        "### Exercise 6:\n",
        "\n",
        "So far we have considered two models of a falling penny:\n",
        "\n",
        "* If we ignore air resistance, the penny falls with constant acceleration, and we can compute the time to reach the sidewalk and the velocity of the penny when it gets there.\n",
        "\n",
        "* If we take air resistance into account, and drop the penny at its terminal velocity, it falls with constant velocity. \n",
        "\n",
        "Now let's consider a third model that includes elements of the first two: let's assume that the acceleration of the penny is `a` until the penny reaches $29$ m/s, and then $0$ m/s afterwards.  What is the total time for the penny to fall $381$ m?"
      ]
    },
    {
      "cell_type": "markdown",
      "id": "detailed-minnesota",
      "metadata": {
        "id": "detailed-minnesota"
      },
      "source": [
        "You can break this question into three parts:\n",
        "\n",
        "1. How long would the penny take to reach $29$ m/s with constant acceleration `a`.\n",
        "2. How far would it fall during that time?\n",
        "3. How long would it take to fall the remaining distance with constant velocity $29$ m/s?\n",
        "\n",
        "Suggestion: Assign each intermediate result to a variable with a meaningful name.  And assign units to all quantities!"
      ]
    },
    {
      "cell_type": "markdown",
      "source": [
        "Here we want:\n",
        "$$t = \\frac {29 - 0}a$$"
      ],
      "metadata": {
        "id": "N8B0SkhphV7t"
      },
      "id": "N8B0SkhphV7t"
    },
    {
      "cell_type": "code",
      "execution_count": 127,
      "id": "secure-crowd",
      "metadata": {
        "id": "secure-crowd"
      },
      "outputs": [],
      "source": [
        "a = 9.8 * meter / second**2\n",
        "h = 381 * meter\n",
        "v = 29 *meter / second\n",
        "v0 = 0 * meter / second"
      ]
    },
    {
      "cell_type": "code",
      "execution_count": 128,
      "id": "thirty-minneapolis",
      "metadata": {
        "id": "thirty-minneapolis",
        "outputId": "b3d10562-e782-4195-a423-d9570fedd4a4",
        "colab": {
          "base_uri": "https://localhost:8080/"
        }
      },
      "outputs": [
        {
          "output_type": "stream",
          "name": "stdout",
          "text": [
            "2.9591836734693877 second\n"
          ]
        }
      ],
      "source": [
        "t = (v - v0)/a\n",
        "print(t)"
      ]
    },
    {
      "cell_type": "markdown",
      "source": [
        "$$d = \\frac{v_0 + v}2 * t$$"
      ],
      "metadata": {
        "id": "ATO-5XNzh2Nt"
      },
      "id": "ATO-5XNzh2Nt"
    },
    {
      "cell_type": "code",
      "execution_count": 129,
      "id": "premier-seeking",
      "metadata": {
        "id": "premier-seeking",
        "outputId": "47776e96-34ad-4b15-bd41-d4aad56a3ff8",
        "colab": {
          "base_uri": "https://localhost:8080/"
        }
      },
      "outputs": [
        {
          "output_type": "stream",
          "name": "stdout",
          "text": [
            "42.90816326530612 meter\n"
          ]
        }
      ],
      "source": [
        "d = (v0 + v)/2 * t\n",
        "print(d)"
      ]
    },
    {
      "cell_type": "markdown",
      "source": [
        "$$d = v*t$$"
      ],
      "metadata": {
        "id": "Rh1y3taviU28"
      },
      "id": "Rh1y3taviU28"
    },
    {
      "cell_type": "code",
      "execution_count": 130,
      "id": "brave-laundry",
      "metadata": {
        "id": "brave-laundry",
        "colab": {
          "base_uri": "https://localhost:8080/"
        },
        "outputId": "13784462-7ae8-4a8e-e61a-27f5e51ead50"
      },
      "outputs": [
        {
          "output_type": "stream",
          "name": "stdout",
          "text": [
            "14.617522871217453 second\n"
          ]
        }
      ],
      "source": [
        "d_rem = h - d\n",
        "t_final = d_rem/v\n",
        "t_tot = t_final + t\n",
        "print(t_tot)"
      ]
    },
    {
      "cell_type": "markdown",
      "id": "composed-tunnel",
      "metadata": {
        "id": "composed-tunnel"
      },
      "source": [
        "### Exercise 7\n",
        "\n",
        "When I was in high school, the pitcher on the baseball team claimed that when he threw a fastball he was throwing the ball down; that is, the ball left his hand at a downward angle.\n",
        "I was skeptical; watching from the side, I thought the ball left his hand at an upward angle.\n",
        "\n",
        "Can you think of a simple model you could use to settle the argument?  What factors would you include and what could you ignore?  What quantities would you have to look up or estimate?\n",
        "\n",
        "I suggest you convert all quantities to SI units like meters and seconds (see <https://en.wikipedia.org/wiki/International_System_of_Units>)."
      ]
    },
    {
      "cell_type": "markdown",
      "source": [
        "## Response\n",
        "\n"
      ],
      "metadata": {
        "id": "oPyerIlFr2zr"
      },
      "id": "oPyerIlFr2zr"
    },
    {
      "cell_type": "markdown",
      "source": [
        "Case 1: No downward or upward velocity, ball leaves pitcher's hand at at height of 2 m (Assuming the pitcher is approximately 6 feet tall and releases the ball roughly one foot above their head). The ball reaches the catcher's glove at 1 m above the ground (approximate value assuming the pitch is a strike)\n",
        "\n",
        "If this pitcher is remotely successful in high school, their fastball should be close to 80 mph, which is about 36 m/s\n",
        "\n",
        "#### 1: Find the time it takes for the ball to reach 60.5 feet, 18.44 m.\n",
        "\n",
        "#### 2: Find the time allowed for a ball with no initial downward velocity to drop by 1 m under constant force of acceleration.\n",
        "\n",
        "#### Determine if the ball needs to be thrown at an initial positive vertical velocity or if it can be thrown at a negative vertical velocity (upward and downward angles, respectively). \n",
        "\n",
        "For this example, I will not include the muzzle velocity decrease for pitchers. It is roughly 1 mph of velocity lost for each foot of travel. This would result in about 8mph decrease over the entire distance of the pitch. When this is averaged, the resulting average velocity is only 4 mph lower than the exit velocity. In this case, that would decrease the average velocity by 2 m/s.\n",
        "\n",
        "To account for this, I will use an average velocity of 34 m/s. "
      ],
      "metadata": {
        "id": "0Xh10BOssE9t"
      },
      "id": "0Xh10BOssE9t"
    },
    {
      "cell_type": "markdown",
      "source": [
        "## 1\n",
        "\n",
        "$$ d = v*t$$"
      ],
      "metadata": {
        "id": "idipng2evGEZ"
      },
      "id": "idipng2evGEZ"
    },
    {
      "cell_type": "markdown",
      "source": [
        "Time from mound to plate:"
      ],
      "metadata": {
        "id": "NNGhtbxowXwM"
      },
      "id": "NNGhtbxowXwM"
    },
    {
      "cell_type": "code",
      "execution_count": 131,
      "id": "about-complex",
      "metadata": {
        "id": "about-complex",
        "colab": {
          "base_uri": "https://localhost:8080/"
        },
        "outputId": "1aac61bc-c1dc-4fd3-910d-9b56e851ecc0"
      },
      "outputs": [
        {
          "output_type": "stream",
          "name": "stdout",
          "text": [
            "0.5423529411764706 second\n"
          ]
        }
      ],
      "source": [
        "d = 18.44 * meter\n",
        "v = 34 * meter / second\n",
        "\n",
        "t = d/v\n",
        "print(t)"
      ]
    },
    {
      "cell_type": "markdown",
      "source": [
        "Distance fallen in the pitch's duration:"
      ],
      "metadata": {
        "id": "gFVyI7x6wbLz"
      },
      "id": "gFVyI7x6wbLz"
    },
    {
      "cell_type": "markdown",
      "source": [
        "$$d = v_0t + \\frac {at^2}2$$"
      ],
      "metadata": {
        "id": "aUZKLTaUwiHQ"
      },
      "id": "aUZKLTaUwiHQ"
    },
    {
      "cell_type": "markdown",
      "source": [
        "$$v_0 = 0$$"
      ],
      "metadata": {
        "id": "EgFfah_jxgQH"
      },
      "id": "EgFfah_jxgQH"
    },
    {
      "cell_type": "markdown",
      "source": [
        "$$t = 0.54235 \\  seconds$$"
      ],
      "metadata": {
        "id": "JmA9eCsKxj_D"
      },
      "id": "JmA9eCsKxj_D"
    },
    {
      "cell_type": "code",
      "execution_count": 132,
      "id": "unique-owner",
      "metadata": {
        "id": "unique-owner",
        "colab": {
          "base_uri": "https://localhost:8080/"
        },
        "outputId": "6b1e9b2a-8858-4670-88f5-4fc54a7f4440"
      },
      "outputs": [
        {
          "output_type": "stream",
          "name": "stdout",
          "text": [
            "-1.441318892733564 meter\n",
            "Pitch height at catcher's mitt: 0.5586811072664359 meter\n"
          ]
        }
      ],
      "source": [
        "a = -9.8 * meter / second **2\n",
        "\n",
        "d = (a * t**2)/2\n",
        "\n",
        "print(d)\n",
        "\n",
        "print(f'Pitch height at catcher\\'s mitt: {2 * meter + d}')\n",
        "\n"
      ]
    },
    {
      "cell_type": "markdown",
      "source": [
        "## Analysis:\n",
        "\n",
        "This is roughly 1.8 feet. Depending on the batter, this is likely not a strike. Thus, the ball would require an upward velocity in order to be called a strike."
      ],
      "metadata": {
        "id": "5UBnUhKvyeQo"
      },
      "id": "5UBnUhKvyeQo"
    },
    {
      "cell_type": "markdown",
      "source": [
        "### Upward velocity calculation"
      ],
      "metadata": {
        "id": "aTvQBVDGy-eM"
      },
      "id": "aTvQBVDGy-eM"
    },
    {
      "cell_type": "markdown",
      "source": [
        "$$d = v_0t + \\frac {at^2}2$$"
      ],
      "metadata": {
        "id": "qzZVJgf-zC3F"
      },
      "id": "qzZVJgf-zC3F"
    },
    {
      "cell_type": "markdown",
      "source": [
        "Here, d = -1 meter, t = 0.5424 seconds, and a = -9.8 meters per second squared. We will solve for initial velocity."
      ],
      "metadata": {
        "id": "sTHyOl-NzFYH"
      },
      "id": "sTHyOl-NzFYH"
    },
    {
      "cell_type": "markdown",
      "source": [
        "$$v_0 = \\frac{d - \\frac {at^2}2}t$$"
      ],
      "metadata": {
        "id": "vQBb3IG8zX7l"
      },
      "id": "vQBb3IG8zX7l"
    },
    {
      "cell_type": "code",
      "execution_count": 133,
      "id": "minus-batman",
      "metadata": {
        "id": "minus-batman",
        "colab": {
          "base_uri": "https://localhost:8080/"
        },
        "outputId": "d2bc2eb0-9b50-409f-ce7f-923965904a05"
      },
      "outputs": [
        {
          "output_type": "stream",
          "name": "stdout",
          "text": [
            "0.8137116243460508 meter / second\n"
          ]
        }
      ],
      "source": [
        "d = -1 * meter\n",
        "a = -9.8 * meter / second **2\n",
        "t = t\n",
        "\n",
        "v0 = (d - (a*t**2)/2)/t\n",
        "print(v0)"
      ]
    },
    {
      "cell_type": "markdown",
      "source": [
        "The ball will need a slight upward velocity of 0.8137 meters per second. "
      ],
      "metadata": {
        "id": "hv4e-Aunz1h2"
      },
      "id": "hv4e-Aunz1h2"
    },
    {
      "cell_type": "markdown",
      "source": [
        "## Angle calculation:\n",
        "\n",
        "From the velocity vector, we have an initial horizontal velocity of 36 meters per second. We have an initial vertical velocity of 0.8137 meters per second. Using the vector magnitudes, we can find the resultant vector and the corresponding launch angle. \n",
        "\n",
        "We can use the inverse tangent to find the launch angle relative to the plane formed with the ground."
      ],
      "metadata": {
        "id": "xQMz8bzuz7HV"
      },
      "id": "xQMz8bzuz7HV"
    },
    {
      "cell_type": "code",
      "execution_count": 134,
      "id": "exact-vegetable",
      "metadata": {
        "id": "exact-vegetable",
        "colab": {
          "base_uri": "https://localhost:8080/"
        },
        "outputId": "e2c74a2b-e573-4b85-e71d-ea152f21b3a0"
      },
      "outputs": [
        {
          "output_type": "stream",
          "name": "stdout",
          "text": [
            "1.294841791068415 degree\n",
            "The average 85 mph fastball would need to be thrown at an angle of approximately 1.29 degrees relative to the plane formed with the ground.\n"
          ]
        }
      ],
      "source": [
        "from math import radians\n",
        "x = 36 * meter / second\n",
        "y = v0\n",
        "\n",
        "resultant = sqrt(x**2 + y**2)\n",
        "angle = np.arctan(y/x)\n",
        "convert = 180/pi * units.degree/units.radian\n",
        "angle = angle * convert\n",
        "print(angle)\n",
        "\n",
        "print(f'The average 85 mph fastball would need to be thrown at an angle of approximately {round(angle,2)}s relative to the plane formed with the ground.')"
      ]
    },
    {
      "cell_type": "markdown",
      "source": [
        "## Conclusion\n",
        "\n",
        "In conclusion, the pitcher was incorrect. The fastball would be thrown at an upward angle. "
      ],
      "metadata": {
        "id": "u5KhRo513FhR"
      },
      "id": "u5KhRo513FhR"
    },
    {
      "cell_type": "markdown",
      "id": "jewish-secret",
      "metadata": {
        "id": "jewish-secret"
      },
      "source": [
        "### Exercise 8\n",
        "\n",
        "Suppose I run a 10K race in 44:52 (44 minutes and 52 seconds).  What is my average pace in minutes per mile?"
      ]
    },
    {
      "cell_type": "code",
      "execution_count": 135,
      "id": "virgin-cambodia",
      "metadata": {
        "id": "virgin-cambodia"
      },
      "outputs": [],
      "source": [
        "mile = units.mile\n",
        "kilometer = units.kilometer\n",
        "minute = units.minute"
      ]
    },
    {
      "cell_type": "code",
      "execution_count": 136,
      "id": "right-intention",
      "metadata": {
        "id": "right-intention",
        "colab": {
          "base_uri": "https://localhost:8080/"
        },
        "outputId": "a231dfaa-a93c-43df-84ab-c522c05417f4"
      },
      "outputs": [
        {
          "output_type": "stream",
          "name": "stdout",
          "text": [
            "7.22 minute / mile\n"
          ]
        }
      ],
      "source": [
        "time = 44 * minute + 52 * units.second\n",
        "distance = 10 * kilometer\n",
        "dist_miles = distance / (1.609 * kilometer / mile)\n",
        "\n",
        "pace = time / dist_miles\n",
        "\n",
        "print(round(pace,2))\n"
      ]
    }
  ],
  "metadata": {
    "celltoolbar": "Tags",
    "kernelspec": {
      "display_name": "Python 3",
      "language": "python",
      "name": "python3"
    },
    "language_info": {
      "codemirror_mode": {
        "name": "ipython",
        "version": 3
      },
      "file_extension": ".py",
      "mimetype": "text/x-python",
      "name": "python",
      "nbconvert_exporter": "python",
      "pygments_lexer": "ipython3",
      "version": "3.7.9"
    },
    "colab": {
      "name": "DATA 604 HW 1 Chapter 1.ipynb",
      "provenance": [],
      "collapsed_sections": [
        "human-phase",
        "clinical-blackjack",
        "handmade-zoning",
        "pressing-sugar",
        "unlimited-delivery",
        "aggressive-climate",
        "valid-empire",
        "S5NbTw8-eGkg"
      ],
      "include_colab_link": true
    }
  },
  "nbformat": 4,
  "nbformat_minor": 5
}
